{
  "nbformat": 4,
  "nbformat_minor": 0,
  "metadata": {
    "kernelspec": {
      "display_name": "cb-pilot-ds",
      "language": "python",
      "name": "cb-pilot-ds"
    },
    "language_info": {
      "codemirror_mode": {
        "name": "ipython",
        "version": 3
      },
      "file_extension": ".py",
      "mimetype": "text/x-python",
      "name": "python",
      "nbconvert_exporter": "python",
      "pygments_lexer": "ipython3",
      "version": "3.6.8"
    },
    "toc": {
      "colors": {
        "hover_highlight": "#DAA520",
        "running_highlight": "#FF0000",
        "selected_highlight": "#FFD700"
      },
      "moveMenuLeft": true,
      "nav_menu": {
        "height": "30px",
        "width": "252px"
      },
      "navigate_menu": true,
      "number_sections": true,
      "sideBar": true,
      "threshold": 4,
      "toc_cell": false,
      "toc_section_display": "block",
      "toc_window_display": false,
      "widenNotebook": false
    },
    "colab": {
      "name": "projet_velo_sujet.ipynb",
      "provenance": [],
      "collapsed_sections": [],
      "toc_visible": true,
      "include_colab_link": true
    }
  },
  "cells": [
    {
      "cell_type": "markdown",
      "metadata": {
        "id": "view-in-github",
        "colab_type": "text"
      },
      "source": [
        "<a href=\"https://colab.research.google.com/github/uazech/data-mining-velo/blob/master/script/projet_velo_sujet.ipynb\" target=\"_parent\"><img src=\"https://colab.research.google.com/assets/colab-badge.svg\" alt=\"Open In Colab\"/></a>"
      ]
    },
    {
      "cell_type": "markdown",
      "metadata": {
        "id": "iVipsAE0sXOv",
        "colab_type": "text"
      },
      "source": [
        "# Projet"
      ]
    },
    {
      "cell_type": "markdown",
      "metadata": {
        "id": "8F4hB8IfsXOw",
        "colab_type": "text"
      },
      "source": [
        "Le projet consiste à prévoir le nombre de vélos loués à chaque heure dans des bornes libres-services de la ville (système type Vélib'). La variable cible est ici la variable **count**.\n",
        "\n",
        "Voici un descriptif de l'ensemble des variables :\n",
        "* *datetime* - date et heure du relevé \n",
        "* *season* - 1 = printemps , 2 = été, 3 = automne, 4 = hiver \n",
        "* *holiday* – indique si le jour est un jour de vacances scolaires \n",
        "* *workingday* - indique si le jour est travaillé (ni week-end ni vacances) \n",
        "* *weather* - 1: Dégagé à nuageux, 2 : Brouillard, 3 : Légère pluie ou neige, 4 : Fortes averses ou neiges \n",
        "* *temp* – température en degrés Celsius \n",
        "* *atemp* – température ressentie en degrés Celsius \n",
        "* *humidity* – taux d’humidité \n",
        "* *windspeed* – vitesse du vent \n",
        "* *casual* - nombre de locations d’usagers non abonnés \n",
        "* *registered* – nombre de locations d’usagers abonnés \n",
        "* *count* – nombre total de locations de vélos "
      ]
    },
    {
      "cell_type": "markdown",
      "metadata": {
        "id": "BAX6dYkSsXOx",
        "colab_type": "text"
      },
      "source": [
        "L'objectif du projet est de mener à bien la création d'un modèle qui pourrait théoriquement être déployé en production. Les étapes d'exploration des données, de traitement et de preprocessing ne sont bien entendu pas à négliger. Il ne s'agit pas d'une compétition de type *Kaggle*, le projet ne sera pas uniquement noté sur la performance du modèle, mais plutôt sur votre approche complète et la justification de chacun de vos choix.\n",
        "\n",
        "Comme vu durant le cours, soyez faites attention à certains points :\n",
        "- quel type de problème dois-je traiter ?\n",
        "- feature engineering : est-ce que j'utilise les données correctement, toutes les données ?\n",
        "- data leakage : est-ce qu'une de mes features n'est pas trop explicative ?\n",
        "- ai-je bien traité toutes les données correctement ?\n",
        "- est-ce que mon modèle est adapté ?\n",
        "- etc, etc, etc\n",
        "\n",
        "Soyez vigilant à expliquer et justifier votre démarche à l'aide de visualisation, de commentaires dans vos codes (pensez aux cellules markdown), etc"
      ]
    },
    {
      "cell_type": "code",
      "metadata": {
        "ExecuteTime": {
          "end_time": "2018-01-23T21:07:13.585997Z",
          "start_time": "2018-01-23T21:07:11.883063Z"
        },
        "id": "2cX6e_DUsXOx",
        "colab_type": "code",
        "colab": {}
      },
      "source": [
        "import pandas as pd\n",
        "import numpy as np\n",
        "\n",
        "import matplotlib.pyplot as plt\n",
        "import seaborn as sns\n",
        "%matplotlib inline"
      ],
      "execution_count": 0,
      "outputs": []
    },
    {
      "cell_type": "markdown",
      "metadata": {
        "id": "FzrooXRZvEoC",
        "colab_type": "text"
      },
      "source": [
        "# Lecture et préparation des données"
      ]
    },
    {
      "cell_type": "markdown",
      "metadata": {
        "id": "FspUXumAvUjd",
        "colab_type": "text"
      },
      "source": [
        "##Lecture des données"
      ]
    },
    {
      "cell_type": "markdown",
      "metadata": {
        "id": "Q1hHinhWvYlg",
        "colab_type": "text"
      },
      "source": [
        "Chargement du fichier velo.csv et affichage des données\n",
        "\n",
        "*   Élément de liste\n",
        "*   Élément de liste\n",
        "\n"
      ]
    },
    {
      "cell_type": "code",
      "metadata": {
        "ExecuteTime": {
          "end_time": "2018-01-23T21:08:16.102718Z",
          "start_time": "2018-01-23T21:08:16.035614Z"
        },
        "id": "iZf2UzRYsXO0",
        "colab_type": "code",
        "colab": {
          "base_uri": "https://localhost:8080/",
          "height": 395
        },
        "outputId": "a7439ce2-8186-44d1-b95d-a7c392702707"
      },
      "source": [
        "url = \"https://raw.githubusercontent.com/uazech/data-mining-velo/master/data/input/velo.csv\"\n",
        "df = pd.read_csv(url)\n",
        "df.head()"
      ],
      "execution_count": 108,
      "outputs": [
        {
          "output_type": "execute_result",
          "data": {
            "text/html": [
              "<div>\n",
              "<style scoped>\n",
              "    .dataframe tbody tr th:only-of-type {\n",
              "        vertical-align: middle;\n",
              "    }\n",
              "\n",
              "    .dataframe tbody tr th {\n",
              "        vertical-align: top;\n",
              "    }\n",
              "\n",
              "    .dataframe thead th {\n",
              "        text-align: right;\n",
              "    }\n",
              "</style>\n",
              "<table border=\"1\" class=\"dataframe\">\n",
              "  <thead>\n",
              "    <tr style=\"text-align: right;\">\n",
              "      <th></th>\n",
              "      <th>datetime</th>\n",
              "      <th>season</th>\n",
              "      <th>holiday</th>\n",
              "      <th>workingday</th>\n",
              "      <th>weather</th>\n",
              "      <th>temp</th>\n",
              "      <th>atemp</th>\n",
              "      <th>humidity</th>\n",
              "      <th>windspeed</th>\n",
              "      <th>casual</th>\n",
              "      <th>registered</th>\n",
              "      <th>count</th>\n",
              "    </tr>\n",
              "  </thead>\n",
              "  <tbody>\n",
              "    <tr>\n",
              "      <th>0</th>\n",
              "      <td>2011-01-01 00:00:00</td>\n",
              "      <td>1</td>\n",
              "      <td>0</td>\n",
              "      <td>0</td>\n",
              "      <td>1</td>\n",
              "      <td>9.84</td>\n",
              "      <td>14.395</td>\n",
              "      <td>81</td>\n",
              "      <td>0.0</td>\n",
              "      <td>3</td>\n",
              "      <td>13</td>\n",
              "      <td>16</td>\n",
              "    </tr>\n",
              "    <tr>\n",
              "      <th>1</th>\n",
              "      <td>2011-01-01 01:00:00</td>\n",
              "      <td>1</td>\n",
              "      <td>0</td>\n",
              "      <td>0</td>\n",
              "      <td>1</td>\n",
              "      <td>9.02</td>\n",
              "      <td>13.635</td>\n",
              "      <td>80</td>\n",
              "      <td>0.0</td>\n",
              "      <td>8</td>\n",
              "      <td>32</td>\n",
              "      <td>40</td>\n",
              "    </tr>\n",
              "    <tr>\n",
              "      <th>2</th>\n",
              "      <td>2011-01-01 02:00:00</td>\n",
              "      <td>1</td>\n",
              "      <td>0</td>\n",
              "      <td>0</td>\n",
              "      <td>1</td>\n",
              "      <td>9.02</td>\n",
              "      <td>13.635</td>\n",
              "      <td>80</td>\n",
              "      <td>0.0</td>\n",
              "      <td>5</td>\n",
              "      <td>27</td>\n",
              "      <td>32</td>\n",
              "    </tr>\n",
              "    <tr>\n",
              "      <th>3</th>\n",
              "      <td>2011-01-01 03:00:00</td>\n",
              "      <td>1</td>\n",
              "      <td>0</td>\n",
              "      <td>0</td>\n",
              "      <td>1</td>\n",
              "      <td>9.84</td>\n",
              "      <td>14.395</td>\n",
              "      <td>75</td>\n",
              "      <td>0.0</td>\n",
              "      <td>3</td>\n",
              "      <td>10</td>\n",
              "      <td>13</td>\n",
              "    </tr>\n",
              "    <tr>\n",
              "      <th>4</th>\n",
              "      <td>2011-01-01 04:00:00</td>\n",
              "      <td>1</td>\n",
              "      <td>0</td>\n",
              "      <td>0</td>\n",
              "      <td>1</td>\n",
              "      <td>9.84</td>\n",
              "      <td>14.395</td>\n",
              "      <td>75</td>\n",
              "      <td>0.0</td>\n",
              "      <td>0</td>\n",
              "      <td>1</td>\n",
              "      <td>1</td>\n",
              "    </tr>\n",
              "  </tbody>\n",
              "</table>\n",
              "</div>"
            ],
            "text/plain": [
              "              datetime  season  holiday  ...  casual  registered  count\n",
              "0  2011-01-01 00:00:00       1        0  ...       3          13     16\n",
              "1  2011-01-01 01:00:00       1        0  ...       8          32     40\n",
              "2  2011-01-01 02:00:00       1        0  ...       5          27     32\n",
              "3  2011-01-01 03:00:00       1        0  ...       3          10     13\n",
              "4  2011-01-01 04:00:00       1        0  ...       0           1      1\n",
              "\n",
              "[5 rows x 12 columns]"
            ]
          },
          "metadata": {
            "tags": []
          },
          "execution_count": 108
        }
      ]
    },
    {
      "cell_type": "markdown",
      "metadata": {
        "id": "ktSBhj8Ww3DO",
        "colab_type": "text"
      },
      "source": [
        "Affichage du nombre unique de données par colonne. Permet de vérifier qu'il n'y a pas d'anomalies dans les données. "
      ]
    },
    {
      "cell_type": "code",
      "metadata": {
        "id": "A3fl58L_wdKA",
        "colab_type": "code",
        "colab": {
          "base_uri": "https://localhost:8080/",
          "height": 243
        },
        "outputId": "a8bc97d1-7da2-408c-f91a-9d23646aae69"
      },
      "source": [
        "df.nunique()"
      ],
      "execution_count": 109,
      "outputs": [
        {
          "output_type": "execute_result",
          "data": {
            "text/plain": [
              "datetime      10886\n",
              "season            4\n",
              "holiday           2\n",
              "workingday        2\n",
              "weather           4\n",
              "temp             49\n",
              "atemp            60\n",
              "humidity         89\n",
              "windspeed        28\n",
              "casual          309\n",
              "registered      731\n",
              "count           822\n",
              "dtype: int64"
            ]
          },
          "metadata": {
            "tags": []
          },
          "execution_count": 109
        }
      ]
    },
    {
      "cell_type": "markdown",
      "metadata": {
        "id": "jdEk-nezxC3-",
        "colab_type": "text"
      },
      "source": [
        "Affichage du nombre de valeur manquante par colonne, afin de vérifier si on doit les traiter ou non.\n",
        "\n",
        "Il n'y a pas de valeur manquante."
      ]
    },
    {
      "cell_type": "code",
      "metadata": {
        "id": "1Ib8jQ2_xIIZ",
        "colab_type": "code",
        "colab": {
          "base_uri": "https://localhost:8080/",
          "height": 243
        },
        "outputId": "d34fb458-51c1-4bcf-ee0a-9040d8375101"
      },
      "source": [
        "df.isna().sum()"
      ],
      "execution_count": 110,
      "outputs": [
        {
          "output_type": "execute_result",
          "data": {
            "text/plain": [
              "datetime      0\n",
              "season        0\n",
              "holiday       0\n",
              "workingday    0\n",
              "weather       0\n",
              "temp          0\n",
              "atemp         0\n",
              "humidity      0\n",
              "windspeed     0\n",
              "casual        0\n",
              "registered    0\n",
              "count         0\n",
              "dtype: int64"
            ]
          },
          "metadata": {
            "tags": []
          },
          "execution_count": 110
        }
      ]
    },
    {
      "cell_type": "markdown",
      "metadata": {
        "id": "5Isd_veuveRf",
        "colab_type": "text"
      },
      "source": [
        "Affichage des types de chaque feature. On remarque que : \n",
        "* La variable ```season``` est une variable catégorielle, et ne devrait pas être de type entier\n",
        "* La variable ```datetime``` est considérée comme une variable catégorielle, à convertir en timeserie\n",
        "* La variable ```weather``` est considérée comme une variable entière, alors qu'elle devrait être de type catégorielle\n",
        "* "
      ]
    },
    {
      "cell_type": "code",
      "metadata": {
        "id": "9iEvF80gsXO2",
        "colab_type": "code",
        "colab": {
          "base_uri": "https://localhost:8080/",
          "height": 243
        },
        "outputId": "3cf055e3-14d5-4700-a848-773e8cf24721"
      },
      "source": [
        "df.dtypes"
      ],
      "execution_count": 111,
      "outputs": [
        {
          "output_type": "execute_result",
          "data": {
            "text/plain": [
              "datetime       object\n",
              "season          int64\n",
              "holiday         int64\n",
              "workingday      int64\n",
              "weather         int64\n",
              "temp          float64\n",
              "atemp         float64\n",
              "humidity        int64\n",
              "windspeed     float64\n",
              "casual          int64\n",
              "registered      int64\n",
              "count           int64\n",
              "dtype: object"
            ]
          },
          "metadata": {
            "tags": []
          },
          "execution_count": 111
        }
      ]
    },
    {
      "cell_type": "markdown",
      "metadata": {
        "id": "lLioA1LlzP3n",
        "colab_type": "text"
      },
      "source": [
        "Deux variables semblent suspectes. En effet, dans l'affichage du head précédent, la target était égale à la somme des deux variable registered et casual.\n",
        "\n",
        "Dans la description des données, ces deux variables semblent également liées."
      ]
    },
    {
      "cell_type": "code",
      "metadata": {
        "id": "Gf1PDTuywGNu",
        "colab_type": "code",
        "colab": {
          "base_uri": "https://localhost:8080/",
          "height": 260
        },
        "outputId": "1fc9ffe3-496c-4a1a-98f0-42000e946daf"
      },
      "source": [
        "df[\"tmp\"] = df[\"registered\"] + df[\"casual\"]\n",
        "(df[df[\"count\"] == df[\"tmp\"]].count()) == (df.count())"
      ],
      "execution_count": 112,
      "outputs": [
        {
          "output_type": "execute_result",
          "data": {
            "text/plain": [
              "datetime      True\n",
              "season        True\n",
              "holiday       True\n",
              "workingday    True\n",
              "weather       True\n",
              "temp          True\n",
              "atemp         True\n",
              "humidity      True\n",
              "windspeed     True\n",
              "casual        True\n",
              "registered    True\n",
              "count         True\n",
              "tmp           True\n",
              "dtype: bool"
            ]
          },
          "metadata": {
            "tags": []
          },
          "execution_count": 112
        }
      ]
    },
    {
      "cell_type": "markdown",
      "metadata": {
        "id": "C8Ia4iEV02bE",
        "colab_type": "text"
      },
      "source": [
        "Les données sont effectivement liées. Les colonnes casual et registered seront à supprimer lors de la préparation des données. \n",
        "En effet, on ne connait pas le nombre de locations de vélo de type casual et registred lorsque l'on cherche à prédire le nombre de locations pour une journée."
      ]
    },
    {
      "cell_type": "markdown",
      "metadata": {
        "id": "v-0e_cc9zEZ4",
        "colab_type": "text"
      },
      "source": [
        "## Préparation des données"
      ]
    },
    {
      "cell_type": "markdown",
      "metadata": {
        "id": "_S0IYwy9v-MP",
        "colab_type": "text"
      },
      "source": [
        "Catégorisation des colonnes et changement des valeurs associées aux libellés"
      ]
    },
    {
      "cell_type": "code",
      "metadata": {
        "id": "RVCvBxOfv9C9",
        "colab_type": "code",
        "colab": {}
      },
      "source": [
        "# Changement du type en série temporelle\n",
        "df['datetime'] = pd.to_datetime(df['datetime'])  \n",
        "\n",
        "# changement des types en catégoriels\n",
        "df[\"season\"] = df.season.map({1:\"printemps\", 2:\"ete\", 3:\"automne\", 4:\"hiver\"})\n",
        "df[\"weather\"] = df.weather.map({1:\"degage_nuageux\", 2:\"brouillard\", 3:\"legere_pluie_neige\", 4:\"forte_averses_neige\"})\n",
        "df[\"season\"] = pd.Categorical(df[\"season\"], ordered=False)\n",
        "df[\"weather\"] = pd.Categorical(df[\"weather\"], ordered=False)\n",
        "df[\"holiday\"] = pd.Categorical(df[\"holiday\"], ordered=False)\n",
        "df[\"workingday\"] = pd.Categorical(df[\"workingday\"], ordered=False)\n"
      ],
      "execution_count": 0,
      "outputs": []
    },
    {
      "cell_type": "markdown",
      "metadata": {
        "id": "0Y5A-3t23IX9",
        "colab_type": "text"
      },
      "source": [
        "Suppression des colonnes"
      ]
    },
    {
      "cell_type": "code",
      "metadata": {
        "id": "l9KF4Yt20WZ4",
        "colab_type": "code",
        "colab": {}
      },
      "source": [
        "df = df.drop(\"casual\", axis=1)\n",
        "df = df.drop(\"registered\", axis=1)\n",
        "df = df.drop(\"tmp\", axis=1) "
      ],
      "execution_count": 0,
      "outputs": []
    },
    {
      "cell_type": "markdown",
      "metadata": {
        "id": "Q1PKuiR4_Us8",
        "colab_type": "text"
      },
      "source": [
        "Définition de l'index du dataframe.\n",
        "\n",
        "On choisit ici la colonne datetime, car les valeurs sont caractéristiques des données et qu'il n'y a pas de doublons."
      ]
    },
    {
      "cell_type": "code",
      "metadata": {
        "id": "15cmDG20_dic",
        "colab_type": "code",
        "colab": {
          "base_uri": "https://localhost:8080/",
          "height": 619
        },
        "outputId": "61d473fc-ce07-4619-fe51-2c780f57a644"
      },
      "source": [
        "df.set_index(\"datetime\")"
      ],
      "execution_count": 115,
      "outputs": [
        {
          "output_type": "execute_result",
          "data": {
            "text/html": [
              "<div>\n",
              "<style scoped>\n",
              "    .dataframe tbody tr th:only-of-type {\n",
              "        vertical-align: middle;\n",
              "    }\n",
              "\n",
              "    .dataframe tbody tr th {\n",
              "        vertical-align: top;\n",
              "    }\n",
              "\n",
              "    .dataframe thead th {\n",
              "        text-align: right;\n",
              "    }\n",
              "</style>\n",
              "<table border=\"1\" class=\"dataframe\">\n",
              "  <thead>\n",
              "    <tr style=\"text-align: right;\">\n",
              "      <th></th>\n",
              "      <th>season</th>\n",
              "      <th>holiday</th>\n",
              "      <th>workingday</th>\n",
              "      <th>weather</th>\n",
              "      <th>temp</th>\n",
              "      <th>atemp</th>\n",
              "      <th>humidity</th>\n",
              "      <th>windspeed</th>\n",
              "      <th>count</th>\n",
              "    </tr>\n",
              "    <tr>\n",
              "      <th>datetime</th>\n",
              "      <th></th>\n",
              "      <th></th>\n",
              "      <th></th>\n",
              "      <th></th>\n",
              "      <th></th>\n",
              "      <th></th>\n",
              "      <th></th>\n",
              "      <th></th>\n",
              "      <th></th>\n",
              "    </tr>\n",
              "  </thead>\n",
              "  <tbody>\n",
              "    <tr>\n",
              "      <th>2011-01-01 00:00:00</th>\n",
              "      <td>printemps</td>\n",
              "      <td>0</td>\n",
              "      <td>0</td>\n",
              "      <td>degage_nuageux</td>\n",
              "      <td>9.84</td>\n",
              "      <td>14.395</td>\n",
              "      <td>81</td>\n",
              "      <td>0.0000</td>\n",
              "      <td>16</td>\n",
              "    </tr>\n",
              "    <tr>\n",
              "      <th>2011-01-01 01:00:00</th>\n",
              "      <td>printemps</td>\n",
              "      <td>0</td>\n",
              "      <td>0</td>\n",
              "      <td>degage_nuageux</td>\n",
              "      <td>9.02</td>\n",
              "      <td>13.635</td>\n",
              "      <td>80</td>\n",
              "      <td>0.0000</td>\n",
              "      <td>40</td>\n",
              "    </tr>\n",
              "    <tr>\n",
              "      <th>2011-01-01 02:00:00</th>\n",
              "      <td>printemps</td>\n",
              "      <td>0</td>\n",
              "      <td>0</td>\n",
              "      <td>degage_nuageux</td>\n",
              "      <td>9.02</td>\n",
              "      <td>13.635</td>\n",
              "      <td>80</td>\n",
              "      <td>0.0000</td>\n",
              "      <td>32</td>\n",
              "    </tr>\n",
              "    <tr>\n",
              "      <th>2011-01-01 03:00:00</th>\n",
              "      <td>printemps</td>\n",
              "      <td>0</td>\n",
              "      <td>0</td>\n",
              "      <td>degage_nuageux</td>\n",
              "      <td>9.84</td>\n",
              "      <td>14.395</td>\n",
              "      <td>75</td>\n",
              "      <td>0.0000</td>\n",
              "      <td>13</td>\n",
              "    </tr>\n",
              "    <tr>\n",
              "      <th>2011-01-01 04:00:00</th>\n",
              "      <td>printemps</td>\n",
              "      <td>0</td>\n",
              "      <td>0</td>\n",
              "      <td>degage_nuageux</td>\n",
              "      <td>9.84</td>\n",
              "      <td>14.395</td>\n",
              "      <td>75</td>\n",
              "      <td>0.0000</td>\n",
              "      <td>1</td>\n",
              "    </tr>\n",
              "    <tr>\n",
              "      <th>...</th>\n",
              "      <td>...</td>\n",
              "      <td>...</td>\n",
              "      <td>...</td>\n",
              "      <td>...</td>\n",
              "      <td>...</td>\n",
              "      <td>...</td>\n",
              "      <td>...</td>\n",
              "      <td>...</td>\n",
              "      <td>...</td>\n",
              "    </tr>\n",
              "    <tr>\n",
              "      <th>2012-12-19 19:00:00</th>\n",
              "      <td>hiver</td>\n",
              "      <td>0</td>\n",
              "      <td>1</td>\n",
              "      <td>degage_nuageux</td>\n",
              "      <td>15.58</td>\n",
              "      <td>19.695</td>\n",
              "      <td>50</td>\n",
              "      <td>26.0027</td>\n",
              "      <td>336</td>\n",
              "    </tr>\n",
              "    <tr>\n",
              "      <th>2012-12-19 20:00:00</th>\n",
              "      <td>hiver</td>\n",
              "      <td>0</td>\n",
              "      <td>1</td>\n",
              "      <td>degage_nuageux</td>\n",
              "      <td>14.76</td>\n",
              "      <td>17.425</td>\n",
              "      <td>57</td>\n",
              "      <td>15.0013</td>\n",
              "      <td>241</td>\n",
              "    </tr>\n",
              "    <tr>\n",
              "      <th>2012-12-19 21:00:00</th>\n",
              "      <td>hiver</td>\n",
              "      <td>0</td>\n",
              "      <td>1</td>\n",
              "      <td>degage_nuageux</td>\n",
              "      <td>13.94</td>\n",
              "      <td>15.910</td>\n",
              "      <td>61</td>\n",
              "      <td>15.0013</td>\n",
              "      <td>168</td>\n",
              "    </tr>\n",
              "    <tr>\n",
              "      <th>2012-12-19 22:00:00</th>\n",
              "      <td>hiver</td>\n",
              "      <td>0</td>\n",
              "      <td>1</td>\n",
              "      <td>degage_nuageux</td>\n",
              "      <td>13.94</td>\n",
              "      <td>17.425</td>\n",
              "      <td>61</td>\n",
              "      <td>6.0032</td>\n",
              "      <td>129</td>\n",
              "    </tr>\n",
              "    <tr>\n",
              "      <th>2012-12-19 23:00:00</th>\n",
              "      <td>hiver</td>\n",
              "      <td>0</td>\n",
              "      <td>1</td>\n",
              "      <td>degage_nuageux</td>\n",
              "      <td>13.12</td>\n",
              "      <td>16.665</td>\n",
              "      <td>66</td>\n",
              "      <td>8.9981</td>\n",
              "      <td>88</td>\n",
              "    </tr>\n",
              "  </tbody>\n",
              "</table>\n",
              "<p>10886 rows × 9 columns</p>\n",
              "</div>"
            ],
            "text/plain": [
              "                        season holiday workingday  ... humidity  windspeed  count\n",
              "datetime                                           ...                           \n",
              "2011-01-01 00:00:00  printemps       0          0  ...       81     0.0000     16\n",
              "2011-01-01 01:00:00  printemps       0          0  ...       80     0.0000     40\n",
              "2011-01-01 02:00:00  printemps       0          0  ...       80     0.0000     32\n",
              "2011-01-01 03:00:00  printemps       0          0  ...       75     0.0000     13\n",
              "2011-01-01 04:00:00  printemps       0          0  ...       75     0.0000      1\n",
              "...                        ...     ...        ...  ...      ...        ...    ...\n",
              "2012-12-19 19:00:00      hiver       0          1  ...       50    26.0027    336\n",
              "2012-12-19 20:00:00      hiver       0          1  ...       57    15.0013    241\n",
              "2012-12-19 21:00:00      hiver       0          1  ...       61    15.0013    168\n",
              "2012-12-19 22:00:00      hiver       0          1  ...       61     6.0032    129\n",
              "2012-12-19 23:00:00      hiver       0          1  ...       66     8.9981     88\n",
              "\n",
              "[10886 rows x 9 columns]"
            ]
          },
          "metadata": {
            "tags": []
          },
          "execution_count": 115
        }
      ]
    },
    {
      "cell_type": "markdown",
      "metadata": {
        "id": "l7kQSni23dad",
        "colab_type": "text"
      },
      "source": [
        "Affichage des types et du dataframe"
      ]
    },
    {
      "cell_type": "code",
      "metadata": {
        "id": "A9Qelako3c0t",
        "colab_type": "code",
        "colab": {
          "base_uri": "https://localhost:8080/",
          "height": 208
        },
        "outputId": "08fcc1dd-b3f1-4c63-934d-37b8d4c4e277"
      },
      "source": [
        "df.dtypes"
      ],
      "execution_count": 116,
      "outputs": [
        {
          "output_type": "execute_result",
          "data": {
            "text/plain": [
              "datetime      datetime64[ns]\n",
              "season              category\n",
              "holiday             category\n",
              "workingday          category\n",
              "weather             category\n",
              "temp                 float64\n",
              "atemp                float64\n",
              "humidity               int64\n",
              "windspeed            float64\n",
              "count                  int64\n",
              "dtype: object"
            ]
          },
          "metadata": {
            "tags": []
          },
          "execution_count": 116
        }
      ]
    },
    {
      "cell_type": "code",
      "metadata": {
        "id": "6wlfmXd-3k3j",
        "colab_type": "code",
        "colab": {
          "base_uri": "https://localhost:8080/",
          "height": 289
        },
        "outputId": "bf6ff420-68ce-4993-bedb-dfb7bf95edcb"
      },
      "source": [
        "df.head()"
      ],
      "execution_count": 117,
      "outputs": [
        {
          "output_type": "execute_result",
          "data": {
            "text/html": [
              "<div>\n",
              "<style scoped>\n",
              "    .dataframe tbody tr th:only-of-type {\n",
              "        vertical-align: middle;\n",
              "    }\n",
              "\n",
              "    .dataframe tbody tr th {\n",
              "        vertical-align: top;\n",
              "    }\n",
              "\n",
              "    .dataframe thead th {\n",
              "        text-align: right;\n",
              "    }\n",
              "</style>\n",
              "<table border=\"1\" class=\"dataframe\">\n",
              "  <thead>\n",
              "    <tr style=\"text-align: right;\">\n",
              "      <th></th>\n",
              "      <th>datetime</th>\n",
              "      <th>season</th>\n",
              "      <th>holiday</th>\n",
              "      <th>workingday</th>\n",
              "      <th>weather</th>\n",
              "      <th>temp</th>\n",
              "      <th>atemp</th>\n",
              "      <th>humidity</th>\n",
              "      <th>windspeed</th>\n",
              "      <th>count</th>\n",
              "    </tr>\n",
              "  </thead>\n",
              "  <tbody>\n",
              "    <tr>\n",
              "      <th>0</th>\n",
              "      <td>2011-01-01 00:00:00</td>\n",
              "      <td>printemps</td>\n",
              "      <td>0</td>\n",
              "      <td>0</td>\n",
              "      <td>degage_nuageux</td>\n",
              "      <td>9.84</td>\n",
              "      <td>14.395</td>\n",
              "      <td>81</td>\n",
              "      <td>0.0</td>\n",
              "      <td>16</td>\n",
              "    </tr>\n",
              "    <tr>\n",
              "      <th>1</th>\n",
              "      <td>2011-01-01 01:00:00</td>\n",
              "      <td>printemps</td>\n",
              "      <td>0</td>\n",
              "      <td>0</td>\n",
              "      <td>degage_nuageux</td>\n",
              "      <td>9.02</td>\n",
              "      <td>13.635</td>\n",
              "      <td>80</td>\n",
              "      <td>0.0</td>\n",
              "      <td>40</td>\n",
              "    </tr>\n",
              "    <tr>\n",
              "      <th>2</th>\n",
              "      <td>2011-01-01 02:00:00</td>\n",
              "      <td>printemps</td>\n",
              "      <td>0</td>\n",
              "      <td>0</td>\n",
              "      <td>degage_nuageux</td>\n",
              "      <td>9.02</td>\n",
              "      <td>13.635</td>\n",
              "      <td>80</td>\n",
              "      <td>0.0</td>\n",
              "      <td>32</td>\n",
              "    </tr>\n",
              "    <tr>\n",
              "      <th>3</th>\n",
              "      <td>2011-01-01 03:00:00</td>\n",
              "      <td>printemps</td>\n",
              "      <td>0</td>\n",
              "      <td>0</td>\n",
              "      <td>degage_nuageux</td>\n",
              "      <td>9.84</td>\n",
              "      <td>14.395</td>\n",
              "      <td>75</td>\n",
              "      <td>0.0</td>\n",
              "      <td>13</td>\n",
              "    </tr>\n",
              "    <tr>\n",
              "      <th>4</th>\n",
              "      <td>2011-01-01 04:00:00</td>\n",
              "      <td>printemps</td>\n",
              "      <td>0</td>\n",
              "      <td>0</td>\n",
              "      <td>degage_nuageux</td>\n",
              "      <td>9.84</td>\n",
              "      <td>14.395</td>\n",
              "      <td>75</td>\n",
              "      <td>0.0</td>\n",
              "      <td>1</td>\n",
              "    </tr>\n",
              "  </tbody>\n",
              "</table>\n",
              "</div>"
            ],
            "text/plain": [
              "             datetime     season holiday  ... humidity windspeed  count\n",
              "0 2011-01-01 00:00:00  printemps       0  ...       81       0.0     16\n",
              "1 2011-01-01 01:00:00  printemps       0  ...       80       0.0     40\n",
              "2 2011-01-01 02:00:00  printemps       0  ...       80       0.0     32\n",
              "3 2011-01-01 03:00:00  printemps       0  ...       75       0.0     13\n",
              "4 2011-01-01 04:00:00  printemps       0  ...       75       0.0      1\n",
              "\n",
              "[5 rows x 10 columns]"
            ]
          },
          "metadata": {
            "tags": []
          },
          "execution_count": 117
        }
      ]
    },
    {
      "cell_type": "markdown",
      "metadata": {
        "id": "TNITaP3L4HKS",
        "colab_type": "text"
      },
      "source": [
        "# Exploration des données"
      ]
    },
    {
      "cell_type": "markdown",
      "metadata": {
        "id": "z7g3hHq24JNi",
        "colab_type": "text"
      },
      "source": [
        "## Analyse numérique"
      ]
    },
    {
      "cell_type": "markdown",
      "metadata": {
        "id": "6zPsmC6I47WM",
        "colab_type": "text"
      },
      "source": [
        "Il y a 10886 données. On peut pour chaque donnée numérique regarder la moyenne, l'écart type et les quartiles."
      ]
    },
    {
      "cell_type": "code",
      "metadata": {
        "id": "epkJhkPV41sf",
        "colab_type": "code",
        "colab": {
          "base_uri": "https://localhost:8080/",
          "height": 294
        },
        "outputId": "e1ed2aee-36fe-4fac-c780-507fbde5af36"
      },
      "source": [
        "df.describe()"
      ],
      "execution_count": 118,
      "outputs": [
        {
          "output_type": "execute_result",
          "data": {
            "text/html": [
              "<div>\n",
              "<style scoped>\n",
              "    .dataframe tbody tr th:only-of-type {\n",
              "        vertical-align: middle;\n",
              "    }\n",
              "\n",
              "    .dataframe tbody tr th {\n",
              "        vertical-align: top;\n",
              "    }\n",
              "\n",
              "    .dataframe thead th {\n",
              "        text-align: right;\n",
              "    }\n",
              "</style>\n",
              "<table border=\"1\" class=\"dataframe\">\n",
              "  <thead>\n",
              "    <tr style=\"text-align: right;\">\n",
              "      <th></th>\n",
              "      <th>temp</th>\n",
              "      <th>atemp</th>\n",
              "      <th>humidity</th>\n",
              "      <th>windspeed</th>\n",
              "      <th>count</th>\n",
              "    </tr>\n",
              "  </thead>\n",
              "  <tbody>\n",
              "    <tr>\n",
              "      <th>count</th>\n",
              "      <td>10886.00000</td>\n",
              "      <td>10886.000000</td>\n",
              "      <td>10886.000000</td>\n",
              "      <td>10886.000000</td>\n",
              "      <td>10886.000000</td>\n",
              "    </tr>\n",
              "    <tr>\n",
              "      <th>mean</th>\n",
              "      <td>20.23086</td>\n",
              "      <td>23.655084</td>\n",
              "      <td>61.886460</td>\n",
              "      <td>12.799395</td>\n",
              "      <td>191.574132</td>\n",
              "    </tr>\n",
              "    <tr>\n",
              "      <th>std</th>\n",
              "      <td>7.79159</td>\n",
              "      <td>8.474601</td>\n",
              "      <td>19.245033</td>\n",
              "      <td>8.164537</td>\n",
              "      <td>181.144454</td>\n",
              "    </tr>\n",
              "    <tr>\n",
              "      <th>min</th>\n",
              "      <td>0.82000</td>\n",
              "      <td>0.760000</td>\n",
              "      <td>0.000000</td>\n",
              "      <td>0.000000</td>\n",
              "      <td>1.000000</td>\n",
              "    </tr>\n",
              "    <tr>\n",
              "      <th>25%</th>\n",
              "      <td>13.94000</td>\n",
              "      <td>16.665000</td>\n",
              "      <td>47.000000</td>\n",
              "      <td>7.001500</td>\n",
              "      <td>42.000000</td>\n",
              "    </tr>\n",
              "    <tr>\n",
              "      <th>50%</th>\n",
              "      <td>20.50000</td>\n",
              "      <td>24.240000</td>\n",
              "      <td>62.000000</td>\n",
              "      <td>12.998000</td>\n",
              "      <td>145.000000</td>\n",
              "    </tr>\n",
              "    <tr>\n",
              "      <th>75%</th>\n",
              "      <td>26.24000</td>\n",
              "      <td>31.060000</td>\n",
              "      <td>77.000000</td>\n",
              "      <td>16.997900</td>\n",
              "      <td>284.000000</td>\n",
              "    </tr>\n",
              "    <tr>\n",
              "      <th>max</th>\n",
              "      <td>41.00000</td>\n",
              "      <td>45.455000</td>\n",
              "      <td>100.000000</td>\n",
              "      <td>56.996900</td>\n",
              "      <td>977.000000</td>\n",
              "    </tr>\n",
              "  </tbody>\n",
              "</table>\n",
              "</div>"
            ],
            "text/plain": [
              "              temp         atemp      humidity     windspeed         count\n",
              "count  10886.00000  10886.000000  10886.000000  10886.000000  10886.000000\n",
              "mean      20.23086     23.655084     61.886460     12.799395    191.574132\n",
              "std        7.79159      8.474601     19.245033      8.164537    181.144454\n",
              "min        0.82000      0.760000      0.000000      0.000000      1.000000\n",
              "25%       13.94000     16.665000     47.000000      7.001500     42.000000\n",
              "50%       20.50000     24.240000     62.000000     12.998000    145.000000\n",
              "75%       26.24000     31.060000     77.000000     16.997900    284.000000\n",
              "max       41.00000     45.455000    100.000000     56.996900    977.000000"
            ]
          },
          "metadata": {
            "tags": []
          },
          "execution_count": 118
        }
      ]
    },
    {
      "cell_type": "code",
      "metadata": {
        "id": "6bAxUh7y5mID",
        "colab_type": "code",
        "colab": {
          "base_uri": "https://localhost:8080/",
          "height": 208
        },
        "outputId": "ac85b7d6-c121-4b39-8f25-1a495321e34c"
      },
      "source": [
        "df.nunique()"
      ],
      "execution_count": 119,
      "outputs": [
        {
          "output_type": "execute_result",
          "data": {
            "text/plain": [
              "datetime      10886\n",
              "season            4\n",
              "holiday           2\n",
              "workingday        2\n",
              "weather           4\n",
              "temp             49\n",
              "atemp            60\n",
              "humidity         89\n",
              "windspeed        28\n",
              "count           822\n",
              "dtype: int64"
            ]
          },
          "metadata": {
            "tags": []
          },
          "execution_count": 119
        }
      ]
    },
    {
      "cell_type": "markdown",
      "metadata": {
        "id": "pvDbZa1g64X5",
        "colab_type": "text"
      },
      "source": [
        "## Analyse univariée"
      ]
    },
    {
      "cell_type": "markdown",
      "metadata": {
        "id": "PUwauisk78t0",
        "colab_type": "text"
      },
      "source": [
        "### Variables numériques"
      ]
    },
    {
      "cell_type": "markdown",
      "metadata": {
        "id": "TRukCqDo7pDk",
        "colab_type": "text"
      },
      "source": [
        "Analyse de la répartition du nombre de location"
      ]
    },
    {
      "cell_type": "code",
      "metadata": {
        "id": "4y8x2PEEhK4U",
        "colab_type": "code",
        "colab": {
          "base_uri": "https://localhost:8080/",
          "height": 208
        },
        "outputId": "06f56ac8-36d4-4fb4-b26b-60df78a49695"
      },
      "source": [
        "df.dtypes"
      ],
      "execution_count": 120,
      "outputs": [
        {
          "output_type": "execute_result",
          "data": {
            "text/plain": [
              "datetime      datetime64[ns]\n",
              "season              category\n",
              "holiday             category\n",
              "workingday          category\n",
              "weather             category\n",
              "temp                 float64\n",
              "atemp                float64\n",
              "humidity               int64\n",
              "windspeed            float64\n",
              "count                  int64\n",
              "dtype: object"
            ]
          },
          "metadata": {
            "tags": []
          },
          "execution_count": 120
        }
      ]
    },
    {
      "cell_type": "code",
      "metadata": {
        "id": "0rMHr9of5rge",
        "colab_type": "code",
        "colab": {
          "base_uri": "https://localhost:8080/",
          "height": 1000
        },
        "outputId": "52e7c719-f896-44c2-c7d4-a39ad7b4df69"
      },
      "source": [
        "for colname, serie in df.iteritems():\n",
        "  if serie.dtype.name in ['float64', 'int64']:\n",
        "      serie.hist(bins=12)\n",
        "      plt.title=\" hist\"\n",
        "      plt.xlabel(colname)\n",
        "      plt.ylabel(\"Count\")\n",
        "      plt.show()"
      ],
      "execution_count": 121,
      "outputs": [
        {
          "output_type": "display_data",
          "data": {
            "image/png": "[encoded data removed]",
            "text/plain": [
              "<Figure size 432x288 with 1 Axes>"
            ]
          },
          "metadata": {
            "tags": []
          }
        },
        {
          "output_type": "display_data",
          "data": {
            "image/png": "[encoded data removed]",
            "text/plain": [
              "<Figure size 432x288 with 1 Axes>"
            ]
          },
          "metadata": {
            "tags": []
          }
        },
        {
          "output_type": "display_data",
          "data": {
            "image/png": "[encoded data removed]",
            "text/plain": [
              "<Figure size 432x288 with 1 Axes>"
            ]
          },
          "metadata": {
            "tags": []
          }
        },
        {
          "output_type": "display_data",
          "data": {
            "image/png": "[encoded data removed]",
            "text/plain": [
              "<Figure size 432x288 with 1 Axes>"
            ]
          },
          "metadata": {
            "tags": []
          }
        },
        {
          "output_type": "display_data",
          "data": {
            "image/png": "[encoded data removed]",
            "text/plain": [
              "<Figure size 432x288 with 1 Axes>"
            ]
          },
          "metadata": {
            "tags": []
          }
        }
      ]
    },
    {
      "cell_type": "markdown",
      "metadata": {
        "id": "zq8T_axs9XQb",
        "colab_type": "text"
      },
      "source": [
        "On remarque que les variables météorologiques semblent suivrent une distribution gaussienne.\n",
        "\n",
        "La variable count semble suivre une loie exponentielle "
      ]
    },
    {
      "cell_type": "markdown",
      "metadata": {
        "id": "YbIHIkDZ91km",
        "colab_type": "text"
      },
      "source": [
        "### Variables catégorielles"
      ]
    },
    {
      "cell_type": "code",
      "metadata": {
        "id": "0q678aYb-Oi1",
        "colab_type": "code",
        "colab": {
          "base_uri": "https://localhost:8080/",
          "height": 433
        },
        "outputId": "3bcb38c3-8ee3-4b04-b8da-7dc66cfb5234"
      },
      "source": [
        "for colname, serie in df.iteritems():\n",
        "    # print(colname, serie.dtype.name)\n",
        "    if serie.dtype.name in ['category']:\n",
        "      print(df.groupby(colname)[\"datetime\"].count(), \"\\n\")"
      ],
      "execution_count": 122,
      "outputs": [
        {
          "output_type": "stream",
          "text": [
            "season\n",
            "automne      2733\n",
            "ete          2733\n",
            "hiver        2734\n",
            "printemps    2686\n",
            "Name: datetime, dtype: int64 \n",
            "\n",
            "holiday\n",
            "0    10575\n",
            "1      311\n",
            "Name: datetime, dtype: int64 \n",
            "\n",
            "workingday\n",
            "0    3474\n",
            "1    7412\n",
            "Name: datetime, dtype: int64 \n",
            "\n",
            "weather\n",
            "brouillard             2834\n",
            "degage_nuageux         7192\n",
            "forte_averses_neige       1\n",
            "legere_pluie_neige      859\n",
            "Name: datetime, dtype: int64 \n",
            "\n"
          ],
          "name": "stdout"
        }
      ]
    },
    {
      "cell_type": "markdown",
      "metadata": {
        "id": "2piWAVI8GIm1",
        "colab_type": "text"
      },
      "source": [
        "On remarque que les données sont relativement bien réparties.\n",
        "\n",
        "Cependant, nous n'avons qu'une donnée pour la feature \"weather\" avec la modalité \"forte_averses_neige\".\n",
        "\n",
        "Peut-être faudrait il la remplacer par une autre modalité ?\n",
        "\n",
        "J'ai fait le choix de la remplacer par la modalité \"legere_pluie_neige\", pour limiter le nombre de modalité.\n"
      ]
    },
    {
      "cell_type": "code",
      "metadata": {
        "id": "BlA-VVmR6Odo",
        "colab_type": "code",
        "colab": {
          "base_uri": "https://localhost:8080/",
          "height": 104
        },
        "outputId": "b1a7356b-81e0-4d87-f08b-c6b79bdbbba3"
      },
      "source": [
        "df.weather.replace({\"forte_averses_neige\":\"legere_pluie_neige\"}, inplace=True)\n",
        "df.groupby(\"weather\")[\"datetime\"].count()"
      ],
      "execution_count": 123,
      "outputs": [
        {
          "output_type": "execute_result",
          "data": {
            "text/plain": [
              "weather\n",
              "brouillard            2834\n",
              "degage_nuageux        7192\n",
              "legere_pluie_neige     860\n",
              "Name: datetime, dtype: int64"
            ]
          },
          "metadata": {
            "tags": []
          },
          "execution_count": 123
        }
      ]
    },
    {
      "cell_type": "markdown",
      "metadata": {
        "id": "AoG9c_GoSa48",
        "colab_type": "text"
      },
      "source": [
        "### Série temporelle & feature enginering\n",
        "\n",
        "\n"
      ]
    },
    {
      "cell_type": "markdown",
      "metadata": {
        "id": "LCs_PTaJShEw",
        "colab_type": "text"
      },
      "source": [
        "Les dates sont des attributs particuliers. Nous allons réaliser du feature engineering afin d'en extraire des informations intéressantes.\n",
        "\n",
        "Il y a 10886 valeurs uniques, comprises entre le 1er janvier 2011 à minuit et le 19 décembre 2012 à 23h."
      ]
    },
    {
      "cell_type": "code",
      "metadata": {
        "id": "f-ZNHSuiSfEa",
        "colab_type": "code",
        "colab": {
          "base_uri": "https://localhost:8080/",
          "height": 139
        },
        "outputId": "9dccb172-2d7d-4423-9ffb-2245260319c0"
      },
      "source": [
        "df.datetime.describe()\n"
      ],
      "execution_count": 124,
      "outputs": [
        {
          "output_type": "execute_result",
          "data": {
            "text/plain": [
              "count                   10886\n",
              "unique                  10886\n",
              "top       2011-06-09 04:00:00\n",
              "freq                        1\n",
              "first     2011-01-01 00:00:00\n",
              "last      2012-12-19 23:00:00\n",
              "Name: datetime, dtype: object"
            ]
          },
          "metadata": {
            "tags": []
          },
          "execution_count": 124
        }
      ]
    },
    {
      "cell_type": "markdown",
      "metadata": {
        "id": "As28clLEmYQe",
        "colab_type": "text"
      },
      "source": [
        "On réalise du feature engineering pour calculer :\n",
        "* l'année\n",
        "* le mois\n",
        "* le jour de la semaine\n",
        "* le jour\n",
        "* l'heure\n",
        "* le timestamp\n"
      ]
    },
    {
      "cell_type": "code",
      "metadata": {
        "id": "ZkA-Lp3QOMbG",
        "colab_type": "code",
        "colab": {}
      },
      "source": [
        "# On garde l'année\n",
        "df['year'] = pd.DatetimeIndex(df['datetime']).year\n",
        "# On garde le mois de l'enregistrement\n",
        "df['month'] = pd.DatetimeIndex(df['datetime']).month\n",
        "# On garde le jour de l'enregistrement\n",
        "df['day'] = pd.DatetimeIndex(df['datetime']).day\n",
        "# On garde l'heure de l'enregistrement\n",
        "df['hour'] = pd.DatetimeIndex(df['datetime']).hour\n",
        "# On garde le jour de la semaine \n",
        "df['dayofweek'] = pd.DatetimeIndex(df['datetime']).dayofweek.map({0:\"lundi\", 1:\"mardi\", 2:\"mercredi\", 3:\"jeudi\", 4:\"vendredi\", 5:\"samedi\", 6:\"dimanche\"})\n",
        "\n",
        "# On garde le timestamp pour une notion de continuité d'une année sur l'autre\n",
        "df[\"timestamp\"] = df.datetime.values.astype(np.int64) // 10 ** 9 \n",
        "\n",
        "df[\"dayofweek\"] = pd.Categorical(df[\"dayofweek\"], ordered=True)\n",
        "df[\"hour\"] = pd.Categorical(df[\"hour\"], ordered=True)\n",
        "df[\"day\"] = pd.Categorical(df[\"day\"], ordered=True)\n",
        "df[\"month\"] = pd.Categorical(df[\"month\"], ordered=True)\n",
        "df[\"year\"] = pd.Categorical(df[\"year\"], ordered=True)\n",
        "\n"
      ],
      "execution_count": 0,
      "outputs": []
    },
    {
      "cell_type": "code",
      "metadata": {
        "id": "3khuNqT_kzX5",
        "colab_type": "code",
        "colab": {
          "base_uri": "https://localhost:8080/",
          "height": 312
        },
        "outputId": "0c54d0fb-f02c-4016-dcd9-76e668f65019"
      },
      "source": [
        "df.dtypes"
      ],
      "execution_count": 126,
      "outputs": [
        {
          "output_type": "execute_result",
          "data": {
            "text/plain": [
              "datetime      datetime64[ns]\n",
              "season              category\n",
              "holiday             category\n",
              "workingday          category\n",
              "weather               object\n",
              "temp                 float64\n",
              "atemp                float64\n",
              "humidity               int64\n",
              "windspeed            float64\n",
              "count                  int64\n",
              "year                category\n",
              "month               category\n",
              "day                 category\n",
              "hour                category\n",
              "dayofweek           category\n",
              "timestamp              int64\n",
              "dtype: object"
            ]
          },
          "metadata": {
            "tags": []
          },
          "execution_count": 126
        }
      ]
    },
    {
      "cell_type": "code",
      "metadata": {
        "id": "XGsnblOJks8Z",
        "colab_type": "code",
        "colab": {
          "base_uri": "https://localhost:8080/",
          "height": 395
        },
        "outputId": "c5494ed7-6bfd-4027-f1b0-5af09361a7e3"
      },
      "source": [
        "df.tail()"
      ],
      "execution_count": 127,
      "outputs": [
        {
          "output_type": "execute_result",
          "data": {
            "text/html": [
              "<div>\n",
              "<style scoped>\n",
              "    .dataframe tbody tr th:only-of-type {\n",
              "        vertical-align: middle;\n",
              "    }\n",
              "\n",
              "    .dataframe tbody tr th {\n",
              "        vertical-align: top;\n",
              "    }\n",
              "\n",
              "    .dataframe thead th {\n",
              "        text-align: right;\n",
              "    }\n",
              "</style>\n",
              "<table border=\"1\" class=\"dataframe\">\n",
              "  <thead>\n",
              "    <tr style=\"text-align: right;\">\n",
              "      <th></th>\n",
              "      <th>datetime</th>\n",
              "      <th>season</th>\n",
              "      <th>holiday</th>\n",
              "      <th>workingday</th>\n",
              "      <th>weather</th>\n",
              "      <th>temp</th>\n",
              "      <th>atemp</th>\n",
              "      <th>humidity</th>\n",
              "      <th>windspeed</th>\n",
              "      <th>count</th>\n",
              "      <th>year</th>\n",
              "      <th>month</th>\n",
              "      <th>day</th>\n",
              "      <th>hour</th>\n",
              "      <th>dayofweek</th>\n",
              "      <th>timestamp</th>\n",
              "    </tr>\n",
              "  </thead>\n",
              "  <tbody>\n",
              "    <tr>\n",
              "      <th>10881</th>\n",
              "      <td>2012-12-19 19:00:00</td>\n",
              "      <td>hiver</td>\n",
              "      <td>0</td>\n",
              "      <td>1</td>\n",
              "      <td>degage_nuageux</td>\n",
              "      <td>15.58</td>\n",
              "      <td>19.695</td>\n",
              "      <td>50</td>\n",
              "      <td>26.0027</td>\n",
              "      <td>336</td>\n",
              "      <td>2012</td>\n",
              "      <td>12</td>\n",
              "      <td>19</td>\n",
              "      <td>19</td>\n",
              "      <td>mercredi</td>\n",
              "      <td>1355943600</td>\n",
              "    </tr>\n",
              "    <tr>\n",
              "      <th>10882</th>\n",
              "      <td>2012-12-19 20:00:00</td>\n",
              "      <td>hiver</td>\n",
              "      <td>0</td>\n",
              "      <td>1</td>\n",
              "      <td>degage_nuageux</td>\n",
              "      <td>14.76</td>\n",
              "      <td>17.425</td>\n",
              "      <td>57</td>\n",
              "      <td>15.0013</td>\n",
              "      <td>241</td>\n",
              "      <td>2012</td>\n",
              "      <td>12</td>\n",
              "      <td>19</td>\n",
              "      <td>20</td>\n",
              "      <td>mercredi</td>\n",
              "      <td>1355947200</td>\n",
              "    </tr>\n",
              "    <tr>\n",
              "      <th>10883</th>\n",
              "      <td>2012-12-19 21:00:00</td>\n",
              "      <td>hiver</td>\n",
              "      <td>0</td>\n",
              "      <td>1</td>\n",
              "      <td>degage_nuageux</td>\n",
              "      <td>13.94</td>\n",
              "      <td>15.910</td>\n",
              "      <td>61</td>\n",
              "      <td>15.0013</td>\n",
              "      <td>168</td>\n",
              "      <td>2012</td>\n",
              "      <td>12</td>\n",
              "      <td>19</td>\n",
              "      <td>21</td>\n",
              "      <td>mercredi</td>\n",
              "      <td>1355950800</td>\n",
              "    </tr>\n",
              "    <tr>\n",
              "      <th>10884</th>\n",
              "      <td>2012-12-19 22:00:00</td>\n",
              "      <td>hiver</td>\n",
              "      <td>0</td>\n",
              "      <td>1</td>\n",
              "      <td>degage_nuageux</td>\n",
              "      <td>13.94</td>\n",
              "      <td>17.425</td>\n",
              "      <td>61</td>\n",
              "      <td>6.0032</td>\n",
              "      <td>129</td>\n",
              "      <td>2012</td>\n",
              "      <td>12</td>\n",
              "      <td>19</td>\n",
              "      <td>22</td>\n",
              "      <td>mercredi</td>\n",
              "      <td>1355954400</td>\n",
              "    </tr>\n",
              "    <tr>\n",
              "      <th>10885</th>\n",
              "      <td>2012-12-19 23:00:00</td>\n",
              "      <td>hiver</td>\n",
              "      <td>0</td>\n",
              "      <td>1</td>\n",
              "      <td>degage_nuageux</td>\n",
              "      <td>13.12</td>\n",
              "      <td>16.665</td>\n",
              "      <td>66</td>\n",
              "      <td>8.9981</td>\n",
              "      <td>88</td>\n",
              "      <td>2012</td>\n",
              "      <td>12</td>\n",
              "      <td>19</td>\n",
              "      <td>23</td>\n",
              "      <td>mercredi</td>\n",
              "      <td>1355958000</td>\n",
              "    </tr>\n",
              "  </tbody>\n",
              "</table>\n",
              "</div>"
            ],
            "text/plain": [
              "                 datetime season holiday  ... hour dayofweek   timestamp\n",
              "10881 2012-12-19 19:00:00  hiver       0  ...   19  mercredi  1355943600\n",
              "10882 2012-12-19 20:00:00  hiver       0  ...   20  mercredi  1355947200\n",
              "10883 2012-12-19 21:00:00  hiver       0  ...   21  mercredi  1355950800\n",
              "10884 2012-12-19 22:00:00  hiver       0  ...   22  mercredi  1355954400\n",
              "10885 2012-12-19 23:00:00  hiver       0  ...   23  mercredi  1355958000\n",
              "\n",
              "[5 rows x 16 columns]"
            ]
          },
          "metadata": {
            "tags": []
          },
          "execution_count": 127
        }
      ]
    },
    {
      "cell_type": "markdown",
      "metadata": {
        "id": "yDeOBb3tXzEh",
        "colab_type": "text"
      },
      "source": [
        "\n",
        "## Analyse bivariées"
      ]
    },
    {
      "cell_type": "markdown",
      "metadata": {
        "id": "rILMvb-neZH2",
        "colab_type": "text"
      },
      "source": [
        "### Analyse des jours fériés / jours travaillés\n",
        "\n",
        "On remarque que le fait que le jour soit férié n'a pas une importance capitale. Cependant, les jours non fériés sont les jours durant lesquels il y a le plus de location."
      ]
    },
    {
      "cell_type": "code",
      "metadata": {
        "id": "BDmANIWOnO6e",
        "colab_type": "code",
        "colab": {
          "base_uri": "https://localhost:8080/",
          "height": 279
        },
        "outputId": "5f0a03f1-7e61-4873-f088-fda203428a8a"
      },
      "source": [
        "sns.violinplot(x=\"holiday\", y=\"count\", data=df)\n",
        "plt.show()"
      ],
      "execution_count": 144,
      "outputs": [
        {
          "output_type": "display_data",
          "data": {
            "image/png": "[encoded data removed]",
            "text/plain": [
              "<Figure size 432x288 with 1 Axes>"
            ]
          },
          "metadata": {
            "tags": []
          }
        }
      ]
    },
    {
      "cell_type": "markdown",
      "metadata": {
        "id": "kXQ3RiF0jtYS",
        "colab_type": "text"
      },
      "source": [
        "Etrangement le 1er janvier n'est pas considéré comme un jour ferié et le 17 novembre est un jour ferié. Il convidendrait de vérifier plus en détail la veracité des données pour cette feature\n",
        "\n",
        "Après vérification deux jours fériés sont le 4 juillet 2011 et le 17 janvier, ce qui correspond respectivement à l'independance day et MLK day aux USA"
      ]
    },
    {
      "cell_type": "code",
      "metadata": {
        "id": "lJxqzzfZh9pp",
        "colab_type": "code",
        "colab": {
          "base_uri": "https://localhost:8080/",
          "height": 121
        },
        "outputId": "59e38543-6b04-40af-dc19-b4f001dd4ab1"
      },
      "source": [
        "df[df['holiday']==1].datetime.head()"
      ],
      "execution_count": 136,
      "outputs": [
        {
          "output_type": "execute_result",
          "data": {
            "text/plain": [
              "372   2011-01-17 00:00:00\n",
              "373   2011-01-17 01:00:00\n",
              "374   2011-01-17 02:00:00\n",
              "375   2011-01-17 03:00:00\n",
              "376   2011-01-17 04:00:00\n",
              "Name: datetime, dtype: datetime64[ns]"
            ]
          },
          "metadata": {
            "tags": []
          },
          "execution_count": 136
        }
      ]
    },
    {
      "cell_type": "markdown",
      "metadata": {
        "id": "XIlyz3RQn7Sp",
        "colab_type": "text"
      },
      "source": [
        "Le fait que le jour soit travaillé n'a pas de grande importance"
      ]
    },
    {
      "cell_type": "code",
      "metadata": {
        "id": "deaI4a9Ldxdx",
        "colab_type": "code",
        "colab": {
          "base_uri": "https://localhost:8080/",
          "height": 279
        },
        "outputId": "369c0900-2653-4ad0-d320-eded6b9968d2"
      },
      "source": [
        "sns.barplot(x=\"workingday\", y=\"count\", data=df)\n",
        "plt.show()"
      ],
      "execution_count": 148,
      "outputs": [
        {
          "output_type": "display_data",
          "data": {
            "image/png": "[encoded data removed]",
            "text/plain": [
              "<Figure size 432x288 with 1 Axes>"
            ]
          },
          "metadata": {
            "tags": []
          }
        }
      ]
    },
    {
      "cell_type": "markdown",
      "metadata": {
        "id": "NV31DAQVpX-H",
        "colab_type": "text"
      },
      "source": [
        "### Analyse temporelle\n"
      ]
    },
    {
      "cell_type": "markdown",
      "metadata": {
        "id": "hAbRkx4idjga",
        "colab_type": "text"
      },
      "source": [
        "On remarque que la saison a une grande importance sur le nombre de vélos loués."
      ]
    },
    {
      "cell_type": "code",
      "metadata": {
        "id": "l9CU52AZppC3",
        "colab_type": "code",
        "colab": {
          "base_uri": "https://localhost:8080/",
          "height": 295
        },
        "outputId": "0259b4ef-bebc-4b54-9969-d2b6845454f0"
      },
      "source": [
        "df.dtypes"
      ],
      "execution_count": 152,
      "outputs": [
        {
          "output_type": "execute_result",
          "data": {
            "text/plain": [
              "datetime      datetime64[ns]\n",
              "season              category\n",
              "holiday             category\n",
              "workingday          category\n",
              "weather               object\n",
              "temp                 float64\n",
              "humidity               int64\n",
              "windspeed            float64\n",
              "count                  int64\n",
              "year                category\n",
              "month               category\n",
              "day                 category\n",
              "hour                category\n",
              "dayofweek           category\n",
              "timestamp              int64\n",
              "dtype: object"
            ]
          },
          "metadata": {
            "tags": []
          },
          "execution_count": 152
        }
      ]
    },
    {
      "cell_type": "code",
      "metadata": {
        "id": "9gswnomcdPaW",
        "colab_type": "code",
        "colab": {
          "base_uri": "https://localhost:8080/",
          "height": 295
        },
        "outputId": "7e4c051e-2b2a-4666-b58b-54e7e052c539"
      },
      "source": [
        "ax = sns.barplot(x=\"season\", y=\"count\", data=df)\n",
        "ax.set_title(\"Nombres de locations par saison\")\n",
        "plt.show()"
      ],
      "execution_count": 155,
      "outputs": [
        {
          "output_type": "display_data",
          "data": {
            "image/png": "[encoded data removed]",
            "text/plain": [
              "<Figure size 432x288 with 1 Axes>"
            ]
          },
          "metadata": {
            "tags": []
          }
        }
      ]
    },
    {
      "cell_type": "markdown",
      "metadata": {
        "id": "TPwH5JRnevPi",
        "colab_type": "text"
      },
      "source": [
        "On remarque l'importance particulièrement élevé des mois sur les ventes.\n",
        "\n",
        "Cette variable semble plus significative que la saison. Il conviendra peut-être de dropper la saison. // TODO"
      ]
    },
    {
      "cell_type": "code",
      "metadata": {
        "id": "KdmyNu7kevtQ",
        "colab_type": "code",
        "colab": {
          "base_uri": "https://localhost:8080/",
          "height": 295
        },
        "outputId": "b8548ba2-6ecd-45a3-93d6-3cde60509a16"
      },
      "source": [
        "ax = sns.barplot(x=\"month\", y=\"count\", data=df)\n",
        "ax.set_title(\"Nombres de locations par mois\")\n",
        "plt.show()"
      ],
      "execution_count": 133,
      "outputs": [
        {
          "output_type": "display_data",
          "data": {
            "image/png": "[encoded data removed]",
            "text/plain": [
              "<Figure size 432x288 with 1 Axes>"
            ]
          },
          "metadata": {
            "tags": []
          }
        }
      ]
    },
    {
      "cell_type": "markdown",
      "metadata": {
        "id": "ZLSXAsCSj-3v",
        "colab_type": "text"
      },
      "source": [
        "L'heure a une grande importance sur le nombre de locations"
      ]
    },
    {
      "cell_type": "code",
      "metadata": {
        "id": "1sfH-9Hbj_TA",
        "colab_type": "code",
        "colab": {
          "base_uri": "https://localhost:8080/",
          "height": 295
        },
        "outputId": "405a616c-d94e-4de7-c89d-8ac405dd8c23"
      },
      "source": [
        "ax = sns.barplot(x=\"hour\", y=\"count\", data=df)\n",
        "ax.set_title(\"Nombres de locations par mois\")\n",
        "plt.show()"
      ],
      "execution_count": 137,
      "outputs": [
        {
          "output_type": "display_data",
          "data": {
            "image/png": "[encoded data removed]",
            "text/plain": [
              "<Figure size 432x288 with 1 Axes>"
            ]
          },
          "metadata": {
            "tags": []
          }
        }
      ]
    },
    {
      "cell_type": "markdown",
      "metadata": {
        "id": "zk_yxKvNp4BQ",
        "colab_type": "text"
      },
      "source": [
        "Comme on pouvait le penser initalialement, le jour du mois n'est pas réélement significatif dans le nombre de vélos loués"
      ]
    },
    {
      "cell_type": "code",
      "metadata": {
        "id": "-cj1txyYkaD3",
        "colab_type": "code",
        "colab": {
          "base_uri": "https://localhost:8080/",
          "height": 295
        },
        "outputId": "15654dd3-f901-4865-9480-42244a0a405c"
      },
      "source": [
        "ax = sns.barplot(x=\"day\", y=\"count\", data=df)\n",
        "ax.set_title(\"Nombres de locations par jour\")\n",
        "plt.show()"
      ],
      "execution_count": 140,
      "outputs": [
        {
          "output_type": "display_data",
          "data": {
            "image/png": "[encoded data removed]",
            "text/plain": [
              "<Figure size 432x288 with 1 Axes>"
            ]
          },
          "metadata": {
            "tags": []
          }
        }
      ]
    },
    {
      "cell_type": "markdown",
      "metadata": {
        "id": "Iea-P5_5r8SU",
        "colab_type": "text"
      },
      "source": [
        "### Analyse de la météo"
      ]
    },
    {
      "cell_type": "markdown",
      "metadata": {
        "id": "9uy2fLfLsQPY",
        "colab_type": "text"
      },
      "source": [
        "On remarque que les locations augmentent en moyenne avec la température.\n",
        "\n",
        "Cependant, après un certain seuil de température, le nombre de location semble diminuer"
      ]
    },
    {
      "cell_type": "code",
      "metadata": {
        "id": "bFxg0unHr7Z3",
        "colab_type": "code",
        "colab": {
          "base_uri": "https://localhost:8080/",
          "height": 279
        },
        "outputId": "e29a414a-faf9-4717-9bbe-45ab51e383b9"
      },
      "source": [
        "ax = sns.barplot(x=\"temp\", y=\"count\", data=df)"
      ],
      "execution_count": 194,
      "outputs": [
        {
          "output_type": "display_data",
          "data": {
            "image/png": "[encoded data removed]",
            "text/plain": [
              "<Figure size 432x288 with 1 Axes>"
            ]
          },
          "metadata": {
            "tags": []
          }
        }
      ]
    },
    {
      "cell_type": "markdown",
      "metadata": {
        "id": "VtpvDmExujVm",
        "colab_type": "text"
      },
      "source": [
        "On remarque que l'humidité a une légère importance sur la cible"
      ]
    },
    {
      "cell_type": "code",
      "metadata": {
        "id": "d6ZptxL5qsps",
        "colab_type": "code",
        "colab": {
          "base_uri": "https://localhost:8080/",
          "height": 279
        },
        "outputId": "e2b132a0-15d7-4ab1-ae7c-deba75a64987"
      },
      "source": [
        "ax = sns.barplot(x=\"humidity\", y=\"count\", data=df)"
      ],
      "execution_count": 176,
      "outputs": [
        {
          "output_type": "display_data",
          "data": {
            "image/png": "[encoded data removed]",
            "text/plain": [
              "<Figure size 432x288 with 1 Axes>"
            ]
          },
          "metadata": {
            "tags": []
          }
        }
      ]
    },
    {
      "cell_type": "markdown",
      "metadata": {
        "id": "jpGzeh5HudR2",
        "colab_type": "text"
      },
      "source": [
        "TODO : documentation"
      ]
    },
    {
      "cell_type": "code",
      "metadata": {
        "id": "X5FZB9jVuOAc",
        "colab_type": "code",
        "colab": {
          "base_uri": "https://localhost:8080/",
          "height": 459
        },
        "outputId": "4dca864f-59fc-46e9-980b-f874446f1976"
      },
      "source": [
        "sns.jointplot(\"temp\", \"humidity\", kind=\"kde\", color=\"#4CB391\", data=df)"
      ],
      "execution_count": 181,
      "outputs": [
        {
          "output_type": "execute_result",
          "data": {
            "text/plain": [
              "<seaborn.axisgrid.JointGrid at 0x7fc76fc53400>"
            ]
          },
          "metadata": {
            "tags": []
          },
          "execution_count": 181
        },
        {
          "output_type": "display_data",
          "data": {
            "image/png": "[encoded data removed]",
            "text/plain": [
              "<Figure size 432x432 with 3 Axes>"
            ]
          },
          "metadata": {
            "tags": []
          }
        }
      ]
    },
    {
      "cell_type": "markdown",
      "metadata": {
        "id": "614-gowVo6jP",
        "colab_type": "text"
      },
      "source": [
        "## Analyse multivariée"
      ]
    },
    {
      "cell_type": "markdown",
      "metadata": {
        "id": "E24j76X-anh9",
        "colab_type": "text"
      },
      "source": [
        "### Correlations\n",
        "\n",
        "On remarque que la température réele et la température ressentie sont fortmement corrélées."
      ]
    },
    {
      "cell_type": "code",
      "metadata": {
        "id": "kypmopiGZVqQ",
        "colab_type": "code",
        "colab": {
          "base_uri": "https://localhost:8080/",
          "height": 325
        },
        "outputId": "2621c8f5-558c-4818-f728-79ab3eaec36d"
      },
      "source": [
        "ax = sns.heatmap(df.corr(), cmap=\"YlOrRd\")\n",
        "ax.set_title(\"Corrélations des variables continues\")\n",
        "plt.show()"
      ],
      "execution_count": 128,
      "outputs": [
        {
          "output_type": "display_data",
          "data": {
            "image/png": "[encoded data removed]",
            "text/plain": [
              "<Figure size 432x288 with 2 Axes>"
            ]
          },
          "metadata": {
            "tags": []
          }
        }
      ]
    },
    {
      "cell_type": "code",
      "metadata": {
        "id": "BEXSDwU-cPFE",
        "colab_type": "code",
        "colab": {
          "base_uri": "https://localhost:8080/",
          "height": 233
        },
        "outputId": "69dd65f2-264b-45ce-dee0-03528b83d2fe"
      },
      "source": [
        "df.corr()"
      ],
      "execution_count": 129,
      "outputs": [
        {
          "output_type": "execute_result",
          "data": {
            "text/html": [
              "<div>\n",
              "<style scoped>\n",
              "    .dataframe tbody tr th:only-of-type {\n",
              "        vertical-align: middle;\n",
              "    }\n",
              "\n",
              "    .dataframe tbody tr th {\n",
              "        vertical-align: top;\n",
              "    }\n",
              "\n",
              "    .dataframe thead th {\n",
              "        text-align: right;\n",
              "    }\n",
              "</style>\n",
              "<table border=\"1\" class=\"dataframe\">\n",
              "  <thead>\n",
              "    <tr style=\"text-align: right;\">\n",
              "      <th></th>\n",
              "      <th>temp</th>\n",
              "      <th>atemp</th>\n",
              "      <th>humidity</th>\n",
              "      <th>windspeed</th>\n",
              "      <th>count</th>\n",
              "      <th>timestamp</th>\n",
              "    </tr>\n",
              "  </thead>\n",
              "  <tbody>\n",
              "    <tr>\n",
              "      <th>temp</th>\n",
              "      <td>1.000000</td>\n",
              "      <td>0.984948</td>\n",
              "      <td>-0.064949</td>\n",
              "      <td>-0.017852</td>\n",
              "      <td>0.394454</td>\n",
              "      <td>0.180986</td>\n",
              "    </tr>\n",
              "    <tr>\n",
              "      <th>atemp</th>\n",
              "      <td>0.984948</td>\n",
              "      <td>1.000000</td>\n",
              "      <td>-0.043536</td>\n",
              "      <td>-0.057473</td>\n",
              "      <td>0.389784</td>\n",
              "      <td>0.181823</td>\n",
              "    </tr>\n",
              "    <tr>\n",
              "      <th>humidity</th>\n",
              "      <td>-0.064949</td>\n",
              "      <td>-0.043536</td>\n",
              "      <td>1.000000</td>\n",
              "      <td>-0.318607</td>\n",
              "      <td>-0.317371</td>\n",
              "      <td>0.032856</td>\n",
              "    </tr>\n",
              "    <tr>\n",
              "      <th>windspeed</th>\n",
              "      <td>-0.017852</td>\n",
              "      <td>-0.057473</td>\n",
              "      <td>-0.318607</td>\n",
              "      <td>1.000000</td>\n",
              "      <td>0.101369</td>\n",
              "      <td>-0.086888</td>\n",
              "    </tr>\n",
              "    <tr>\n",
              "      <th>count</th>\n",
              "      <td>0.394454</td>\n",
              "      <td>0.389784</td>\n",
              "      <td>-0.317371</td>\n",
              "      <td>0.101369</td>\n",
              "      <td>1.000000</td>\n",
              "      <td>0.310187</td>\n",
              "    </tr>\n",
              "    <tr>\n",
              "      <th>timestamp</th>\n",
              "      <td>0.180986</td>\n",
              "      <td>0.181823</td>\n",
              "      <td>0.032856</td>\n",
              "      <td>-0.086888</td>\n",
              "      <td>0.310187</td>\n",
              "      <td>1.000000</td>\n",
              "    </tr>\n",
              "  </tbody>\n",
              "</table>\n",
              "</div>"
            ],
            "text/plain": [
              "               temp     atemp  humidity  windspeed     count  timestamp\n",
              "temp       1.000000  0.984948 -0.064949  -0.017852  0.394454   0.180986\n",
              "atemp      0.984948  1.000000 -0.043536  -0.057473  0.389784   0.181823\n",
              "humidity  -0.064949 -0.043536  1.000000  -0.318607 -0.317371   0.032856\n",
              "windspeed -0.017852 -0.057473 -0.318607   1.000000  0.101369  -0.086888\n",
              "count      0.394454  0.389784 -0.317371   0.101369  1.000000   0.310187\n",
              "timestamp  0.180986  0.181823  0.032856  -0.086888  0.310187   1.000000"
            ]
          },
          "metadata": {
            "tags": []
          },
          "execution_count": 129
        }
      ]
    },
    {
      "cell_type": "markdown",
      "metadata": {
        "id": "0Pr126nccTFp",
        "colab_type": "text"
      },
      "source": [
        "Une corrélation de 98.5 entre les deux variables est trop importante. On supprimera donc une des deux colonnes.\n",
        "\n",
        "Le choix se porte sur la température ressentie."
      ]
    },
    {
      "cell_type": "code",
      "metadata": {
        "id": "8pL6qCkMcRQ3",
        "colab_type": "code",
        "colab": {}
      },
      "source": [
        "df.drop(\"atemp\",axis=1, inplace=True)"
      ],
      "execution_count": 0,
      "outputs": []
    },
    {
      "cell_type": "markdown",
      "metadata": {
        "id": "x9BLMhIwpzDO",
        "colab_type": "text"
      },
      "source": [
        "### Analyse multivariées\n"
      ]
    },
    {
      "cell_type": "code",
      "metadata": {
        "id": "GM_0Vlwqp14Y",
        "colab_type": "code",
        "colab": {
          "base_uri": "https://localhost:8080/",
          "height": 295
        },
        "outputId": "2bc98e42-2c8f-48d0-b7d3-126363339c2b"
      },
      "source": [
        "ax = sns.barplot(x=\"month\", y=\"count\", hue=\"year\", data=df)\n",
        "ax.set_title(\"Nombres de locations par saison\")\n",
        "plt.show()"
      ],
      "execution_count": 156,
      "outputs": [
        {
          "output_type": "display_data",
          "data": {
            "image/png": "[encoded data removed]",
            "text/plain": [
              "<Figure size 432x288 with 1 Axes>"
            ]
          },
          "metadata": {
            "tags": []
          }
        }
      ]
    },
    {
      "cell_type": "code",
      "metadata": {
        "id": "Ll8oALTjq7VT",
        "colab_type": "code",
        "colab": {
          "base_uri": "https://localhost:8080/",
          "height": 279
        },
        "outputId": "eecde846-3f7c-4e86-8b1e-db74990306c5"
      },
      "source": [
        "ax = sns.scatterplot(x=\"temp\", y=\"humidity\", size=\"count\",\n",
        "                     data=df, alpha=0.8, sizes=(1, 50))"
      ],
      "execution_count": 188,
      "outputs": [
        {
          "output_type": "display_data",
          "data": {
            "image/png": "[encoded data removed]",
            "text/plain": [
              "<Figure size 432x288 with 1 Axes>"
            ]
          },
          "metadata": {
            "tags": []
          }
        }
      ]
    },
    {
      "cell_type": "code",
      "metadata": {
        "id": "kDmBi3rMrE3d",
        "colab_type": "code",
        "colab": {
          "base_uri": "https://localhost:8080/",
          "height": 295
        },
        "outputId": "9aa8f585-a91b-4bd1-8c98-44744bf3d745"
      },
      "source": [
        "df.dtypes"
      ],
      "execution_count": 158,
      "outputs": [
        {
          "output_type": "execute_result",
          "data": {
            "text/plain": [
              "datetime      datetime64[ns]\n",
              "season              category\n",
              "holiday             category\n",
              "workingday          category\n",
              "weather               object\n",
              "temp                 float64\n",
              "humidity               int64\n",
              "windspeed            float64\n",
              "count                  int64\n",
              "year                category\n",
              "month               category\n",
              "day                 category\n",
              "hour                category\n",
              "dayofweek           category\n",
              "timestamp              int64\n",
              "dtype: object"
            ]
          },
          "metadata": {
            "tags": []
          },
          "execution_count": 158
        }
      ]
    }
  ]
}