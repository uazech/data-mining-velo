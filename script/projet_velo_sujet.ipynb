{
  "nbformat": 4,
  "nbformat_minor": 0,
  "metadata": {
    "kernelspec": {
      "display_name": "cb-pilot-ds",
      "language": "python",
      "name": "cb-pilot-ds"
    },
    "language_info": {
      "codemirror_mode": {
        "name": "ipython",
        "version": 3
      },
      "file_extension": ".py",
      "mimetype": "text/x-python",
      "name": "python",
      "nbconvert_exporter": "python",
      "pygments_lexer": "ipython3",
      "version": "3.6.8"
    },
    "toc": {
      "colors": {
        "hover_highlight": "#DAA520",
        "running_highlight": "#FF0000",
        "selected_highlight": "#FFD700"
      },
      "moveMenuLeft": true,
      "nav_menu": {
        "height": "30px",
        "width": "252px"
      },
      "navigate_menu": true,
      "number_sections": true,
      "sideBar": true,
      "threshold": 4,
      "toc_cell": false,
      "toc_section_display": "block",
      "toc_window_display": false,
      "widenNotebook": false
    },
    "colab": {
      "name": "projet_velo_sujet.ipynb",
      "provenance": [],
      "collapsed_sections": [
        "FspUXumAvUjd"
      ],
      "toc_visible": true,
      "include_colab_link": true
    }
  },
  "cells": [
    {
      "cell_type": "markdown",
      "metadata": {
        "id": "view-in-github",
        "colab_type": "text"
      },
      "source": [
        "<a href=\"https://colab.research.google.com/github/uazech/data-mining-velo/blob/master/script/projet_velo_sujet.ipynb\" target=\"_parent\"><img src=\"https://colab.research.google.com/assets/colab-badge.svg\" alt=\"Open In Colab\"/></a>"
      ]
    },
    {
      "cell_type": "markdown",
      "metadata": {
        "id": "iVipsAE0sXOv",
        "colab_type": "text"
      },
      "source": [
        "# Projet"
      ]
    },
    {
      "cell_type": "markdown",
      "metadata": {
        "id": "8F4hB8IfsXOw",
        "colab_type": "text"
      },
      "source": [
        "Le projet consiste à prévoir le nombre de vélos loués à chaque heure dans des bornes libres-services de la ville (système type Vélib'). La variable cible est ici la variable **count**.\n",
        "\n",
        "Voici un descriptif de l'ensemble des variables :\n",
        "* *datetime* - date et heure du relevé \n",
        "* *season* - 1 = printemps , 2 = été, 3 = automne, 4 = hiver \n",
        "* *holiday* – indique si le jour est un jour de vacances scolaires \n",
        "* *workingday* - indique si le jour est travaillé (ni week-end ni vacances) \n",
        "* *weather* - 1: Dégagé à nuageux, 2 : Brouillard, 3 : Légère pluie ou neige, 4 : Fortes averses ou neiges \n",
        "* *temp* – température en degrés Celsius \n",
        "* *atemp* – température ressentie en degrés Celsius \n",
        "* *humidity* – taux d’humidité \n",
        "* *windspeed* – vitesse du vent \n",
        "* *casual* - nombre de locations d’usagers non abonnés \n",
        "* *registered* – nombre de locations d’usagers abonnés \n",
        "* *count* – nombre total de locations de vélos "
      ]
    },
    {
      "cell_type": "markdown",
      "metadata": {
        "id": "BAX6dYkSsXOx",
        "colab_type": "text"
      },
      "source": [
        "L'objectif du projet est de mener à bien la création d'un modèle qui pourrait théoriquement être déployé en production. Les étapes d'exploration des données, de traitement et de preprocessing ne sont bien entendu pas à négliger. Il ne s'agit pas d'une compétition de type *Kaggle*, le projet ne sera pas uniquement noté sur la performance du modèle, mais plutôt sur votre approche complète et la justification de chacun de vos choix.\n",
        "\n",
        "Comme vu durant le cours, soyez faites attention à certains points :\n",
        "- quel type de problème dois-je traiter ?\n",
        "- feature engineering : est-ce que j'utilise les données correctement, toutes les données ?\n",
        "- data leakage : est-ce qu'une de mes features n'est pas trop explicative ?\n",
        "- ai-je bien traité toutes les données correctement ?\n",
        "- est-ce que mon modèle est adapté ?\n",
        "- etc, etc, etc\n",
        "\n",
        "Soyez vigilant à expliquer et justifier votre démarche à l'aide de visualisation, de commentaires dans vos codes (pensez aux cellules markdown), etc"
      ]
    },
    {
      "cell_type": "code",
      "metadata": {
        "ExecuteTime": {
          "end_time": "2018-01-23T21:07:13.585997Z",
          "start_time": "2018-01-23T21:07:11.883063Z"
        },
        "id": "2cX6e_DUsXOx",
        "colab_type": "code",
        "colab": {}
      },
      "source": [
        "import pandas as pd\n",
        "import numpy as np\n",
        "\n",
        "import matplotlib.pyplot as plt\n",
        "import seaborn as sns\n",
        "%matplotlib inline"
      ],
      "execution_count": 0,
      "outputs": []
    },
    {
      "cell_type": "markdown",
      "metadata": {
        "id": "FzrooXRZvEoC",
        "colab_type": "text"
      },
      "source": [
        "# Lecture et préparation des données"
      ]
    },
    {
      "cell_type": "markdown",
      "metadata": {
        "id": "FspUXumAvUjd",
        "colab_type": "text"
      },
      "source": [
        "##Lecture des données"
      ]
    },
    {
      "cell_type": "markdown",
      "metadata": {
        "id": "Q1hHinhWvYlg",
        "colab_type": "text"
      },
      "source": [
        "Chargement du fichier velo.csv et affichage des données"
      ]
    },
    {
      "cell_type": "code",
      "metadata": {
        "ExecuteTime": {
          "end_time": "2018-01-23T21:08:16.102718Z",
          "start_time": "2018-01-23T21:08:16.035614Z"
        },
        "id": "iZf2UzRYsXO0",
        "colab_type": "code",
        "colab": {
          "base_uri": "https://localhost:8080/",
          "height": 395
        },
        "outputId": "12af2982-b7c5-43ba-d727-53cba74af044"
      },
      "source": [
        "url = \"https://raw.githubusercontent.com/uazech/data-mining-velo/master/data/input/velo.csv\"\n",
        "df = pd.read_csv(url)\n",
        "df.head()"
      ],
      "execution_count": 228,
      "outputs": [
        {
          "output_type": "execute_result",
          "data": {
            "text/html": [
              "<div>\n",
              "<style scoped>\n",
              "    .dataframe tbody tr th:only-of-type {\n",
              "        vertical-align: middle;\n",
              "    }\n",
              "\n",
              "    .dataframe tbody tr th {\n",
              "        vertical-align: top;\n",
              "    }\n",
              "\n",
              "    .dataframe thead th {\n",
              "        text-align: right;\n",
              "    }\n",
              "</style>\n",
              "<table border=\"1\" class=\"dataframe\">\n",
              "  <thead>\n",
              "    <tr style=\"text-align: right;\">\n",
              "      <th></th>\n",
              "      <th>datetime</th>\n",
              "      <th>season</th>\n",
              "      <th>holiday</th>\n",
              "      <th>workingday</th>\n",
              "      <th>weather</th>\n",
              "      <th>temp</th>\n",
              "      <th>atemp</th>\n",
              "      <th>humidity</th>\n",
              "      <th>windspeed</th>\n",
              "      <th>casual</th>\n",
              "      <th>registered</th>\n",
              "      <th>count</th>\n",
              "    </tr>\n",
              "  </thead>\n",
              "  <tbody>\n",
              "    <tr>\n",
              "      <th>0</th>\n",
              "      <td>2011-01-01 00:00:00</td>\n",
              "      <td>1</td>\n",
              "      <td>0</td>\n",
              "      <td>0</td>\n",
              "      <td>1</td>\n",
              "      <td>9.84</td>\n",
              "      <td>14.395</td>\n",
              "      <td>81</td>\n",
              "      <td>0.0</td>\n",
              "      <td>3</td>\n",
              "      <td>13</td>\n",
              "      <td>16</td>\n",
              "    </tr>\n",
              "    <tr>\n",
              "      <th>1</th>\n",
              "      <td>2011-01-01 01:00:00</td>\n",
              "      <td>1</td>\n",
              "      <td>0</td>\n",
              "      <td>0</td>\n",
              "      <td>1</td>\n",
              "      <td>9.02</td>\n",
              "      <td>13.635</td>\n",
              "      <td>80</td>\n",
              "      <td>0.0</td>\n",
              "      <td>8</td>\n",
              "      <td>32</td>\n",
              "      <td>40</td>\n",
              "    </tr>\n",
              "    <tr>\n",
              "      <th>2</th>\n",
              "      <td>2011-01-01 02:00:00</td>\n",
              "      <td>1</td>\n",
              "      <td>0</td>\n",
              "      <td>0</td>\n",
              "      <td>1</td>\n",
              "      <td>9.02</td>\n",
              "      <td>13.635</td>\n",
              "      <td>80</td>\n",
              "      <td>0.0</td>\n",
              "      <td>5</td>\n",
              "      <td>27</td>\n",
              "      <td>32</td>\n",
              "    </tr>\n",
              "    <tr>\n",
              "      <th>3</th>\n",
              "      <td>2011-01-01 03:00:00</td>\n",
              "      <td>1</td>\n",
              "      <td>0</td>\n",
              "      <td>0</td>\n",
              "      <td>1</td>\n",
              "      <td>9.84</td>\n",
              "      <td>14.395</td>\n",
              "      <td>75</td>\n",
              "      <td>0.0</td>\n",
              "      <td>3</td>\n",
              "      <td>10</td>\n",
              "      <td>13</td>\n",
              "    </tr>\n",
              "    <tr>\n",
              "      <th>4</th>\n",
              "      <td>2011-01-01 04:00:00</td>\n",
              "      <td>1</td>\n",
              "      <td>0</td>\n",
              "      <td>0</td>\n",
              "      <td>1</td>\n",
              "      <td>9.84</td>\n",
              "      <td>14.395</td>\n",
              "      <td>75</td>\n",
              "      <td>0.0</td>\n",
              "      <td>0</td>\n",
              "      <td>1</td>\n",
              "      <td>1</td>\n",
              "    </tr>\n",
              "  </tbody>\n",
              "</table>\n",
              "</div>"
            ],
            "text/plain": [
              "              datetime  season  holiday  ...  casual  registered  count\n",
              "0  2011-01-01 00:00:00       1        0  ...       3          13     16\n",
              "1  2011-01-01 01:00:00       1        0  ...       8          32     40\n",
              "2  2011-01-01 02:00:00       1        0  ...       5          27     32\n",
              "3  2011-01-01 03:00:00       1        0  ...       3          10     13\n",
              "4  2011-01-01 04:00:00       1        0  ...       0           1      1\n",
              "\n",
              "[5 rows x 12 columns]"
            ]
          },
          "metadata": {
            "tags": []
          },
          "execution_count": 228
        }
      ]
    },
    {
      "cell_type": "markdown",
      "metadata": {
        "id": "ktSBhj8Ww3DO",
        "colab_type": "text"
      },
      "source": [
        "Affichage du nombre unique de données par colonne. Permet de vérifier qu'il n'y a pas d'anomalies dans les données. "
      ]
    },
    {
      "cell_type": "code",
      "metadata": {
        "id": "A3fl58L_wdKA",
        "colab_type": "code",
        "colab": {
          "base_uri": "https://localhost:8080/",
          "height": 243
        },
        "outputId": "7452f24c-44f8-482b-dadc-d320570a5ee3"
      },
      "source": [
        "df.nunique()"
      ],
      "execution_count": 229,
      "outputs": [
        {
          "output_type": "execute_result",
          "data": {
            "text/plain": [
              "datetime      10886\n",
              "season            4\n",
              "holiday           2\n",
              "workingday        2\n",
              "weather           4\n",
              "temp             49\n",
              "atemp            60\n",
              "humidity         89\n",
              "windspeed        28\n",
              "casual          309\n",
              "registered      731\n",
              "count           822\n",
              "dtype: int64"
            ]
          },
          "metadata": {
            "tags": []
          },
          "execution_count": 229
        }
      ]
    },
    {
      "cell_type": "markdown",
      "metadata": {
        "id": "jdEk-nezxC3-",
        "colab_type": "text"
      },
      "source": [
        "Affichage du nombre de valeur manquante par colonne, afin de vérifier si on doit les traiter ou non.\n",
        "\n",
        "Il n'y a pas de valeur manquante."
      ]
    },
    {
      "cell_type": "code",
      "metadata": {
        "id": "1Ib8jQ2_xIIZ",
        "colab_type": "code",
        "colab": {
          "base_uri": "https://localhost:8080/",
          "height": 243
        },
        "outputId": "7c1e5802-c6ec-4d4e-e70b-a210796f12b7"
      },
      "source": [
        "df.isna().sum()"
      ],
      "execution_count": 230,
      "outputs": [
        {
          "output_type": "execute_result",
          "data": {
            "text/plain": [
              "datetime      0\n",
              "season        0\n",
              "holiday       0\n",
              "workingday    0\n",
              "weather       0\n",
              "temp          0\n",
              "atemp         0\n",
              "humidity      0\n",
              "windspeed     0\n",
              "casual        0\n",
              "registered    0\n",
              "count         0\n",
              "dtype: int64"
            ]
          },
          "metadata": {
            "tags": []
          },
          "execution_count": 230
        }
      ]
    },
    {
      "cell_type": "markdown",
      "metadata": {
        "id": "5Isd_veuveRf",
        "colab_type": "text"
      },
      "source": [
        "Affichage des types de chaque feature. On remarque que : \n",
        "* La variable ```season``` est une variable catégorielle, et ne devrait pas être de type entier\n",
        "* La variable ```datetime``` est considérée comme une variable catégorielle, à convertir en timeserie\n",
        "* La variable ```weather``` est considérée comme une variable entière, alors qu'elle devrait être de type catégorielle\n",
        "* "
      ]
    },
    {
      "cell_type": "code",
      "metadata": {
        "id": "9iEvF80gsXO2",
        "colab_type": "code",
        "colab": {
          "base_uri": "https://localhost:8080/",
          "height": 243
        },
        "outputId": "12e6e422-0332-456e-cf94-1f1b4c7336d6"
      },
      "source": [
        "df.dtypes"
      ],
      "execution_count": 231,
      "outputs": [
        {
          "output_type": "execute_result",
          "data": {
            "text/plain": [
              "datetime       object\n",
              "season          int64\n",
              "holiday         int64\n",
              "workingday      int64\n",
              "weather         int64\n",
              "temp          float64\n",
              "atemp         float64\n",
              "humidity        int64\n",
              "windspeed     float64\n",
              "casual          int64\n",
              "registered      int64\n",
              "count           int64\n",
              "dtype: object"
            ]
          },
          "metadata": {
            "tags": []
          },
          "execution_count": 231
        }
      ]
    },
    {
      "cell_type": "markdown",
      "metadata": {
        "id": "lLioA1LlzP3n",
        "colab_type": "text"
      },
      "source": [
        "Deux variables semblent suspectes. En effet, dans l'affichage du head précédent, la target était égale à la somme des deux variable registered et casual.\n",
        "\n",
        "Dans la description des données, ces deux variables semblent également liées."
      ]
    },
    {
      "cell_type": "code",
      "metadata": {
        "id": "Gf1PDTuywGNu",
        "colab_type": "code",
        "colab": {
          "base_uri": "https://localhost:8080/",
          "height": 260
        },
        "outputId": "51b81071-79ba-463a-8961-71e50f5e552a"
      },
      "source": [
        "df[\"tmp\"] = df[\"registered\"] + df[\"casual\"]\n",
        "(df[df[\"count\"] == df[\"tmp\"]].count()) == (df.count())"
      ],
      "execution_count": 232,
      "outputs": [
        {
          "output_type": "execute_result",
          "data": {
            "text/plain": [
              "datetime      True\n",
              "season        True\n",
              "holiday       True\n",
              "workingday    True\n",
              "weather       True\n",
              "temp          True\n",
              "atemp         True\n",
              "humidity      True\n",
              "windspeed     True\n",
              "casual        True\n",
              "registered    True\n",
              "count         True\n",
              "tmp           True\n",
              "dtype: bool"
            ]
          },
          "metadata": {
            "tags": []
          },
          "execution_count": 232
        }
      ]
    },
    {
      "cell_type": "markdown",
      "metadata": {
        "id": "C8Ia4iEV02bE",
        "colab_type": "text"
      },
      "source": [
        "Les données sont effectivement liées. Les colonnes casual et registered seront à supprimer lors de la préparation des données. \n",
        "En effet, on ne connait pas le nombre de locations de vélo de type casual et registred lorsque l'on cherche à prédire le nombre de locations pour une journée."
      ]
    },
    {
      "cell_type": "markdown",
      "metadata": {
        "id": "v-0e_cc9zEZ4",
        "colab_type": "text"
      },
      "source": [
        "## Préparation des données"
      ]
    },
    {
      "cell_type": "markdown",
      "metadata": {
        "id": "_S0IYwy9v-MP",
        "colab_type": "text"
      },
      "source": [
        "Catégorisation des colonnes et changement des valeurs associées aux libellés"
      ]
    },
    {
      "cell_type": "code",
      "metadata": {
        "id": "RVCvBxOfv9C9",
        "colab_type": "code",
        "colab": {}
      },
      "source": [
        "# Changement du type en série temporelle\n",
        "df['datetime'] = pd.to_datetime(df['datetime'])  \n",
        "\n",
        "# changement des types en catégoriels\n",
        "df[\"season\"] = df.season.map({1:\"printemps\", 2:\"ete\", 3:\"automne\", 4:\"hiver\"})\n",
        "df[\"weather\"] = df.weather.map({1:\"degage_nuageux\", 2:\"brouillard\", 3:\"legere_pluie_neige\", 4:\"forte_averses_neige\"})\n",
        "df[\"season\"] = pd.Categorical(df[\"season\"], ordered=False)\n",
        "df[\"weather\"] = pd.Categorical(df[\"weather\"], ordered=False)\n",
        "df[\"holiday\"] = pd.Categorical(df[\"holiday\"], ordered=False)\n",
        "df[\"workingday\"] = pd.Categorical(df[\"workingday\"], ordered=False)\n"
      ],
      "execution_count": 0,
      "outputs": []
    },
    {
      "cell_type": "markdown",
      "metadata": {
        "id": "0Y5A-3t23IX9",
        "colab_type": "text"
      },
      "source": [
        "Suppression des colonnes"
      ]
    },
    {
      "cell_type": "code",
      "metadata": {
        "id": "l9KF4Yt20WZ4",
        "colab_type": "code",
        "colab": {}
      },
      "source": [
        "df = df.drop(\"casual\", axis=1)\n",
        "df = df.drop(\"registered\", axis=1)\n",
        "df = df.drop(\"tmp\", axis=1) "
      ],
      "execution_count": 0,
      "outputs": []
    },
    {
      "cell_type": "markdown",
      "metadata": {
        "id": "Q1PKuiR4_Us8",
        "colab_type": "text"
      },
      "source": [
        "Définition de l'index du dataframe.\n",
        "\n",
        "On choisit ici la colonne datetime, car les valeurs sont caractéristiques des données et qu'il n'y a pas de doublons."
      ]
    },
    {
      "cell_type": "code",
      "metadata": {
        "id": "15cmDG20_dic",
        "colab_type": "code",
        "colab": {
          "base_uri": "https://localhost:8080/",
          "height": 619
        },
        "outputId": "1bec337c-704d-4eda-f5e7-837fb3d8d91a"
      },
      "source": [
        "df.set_index(\"datetime\")"
      ],
      "execution_count": 235,
      "outputs": [
        {
          "output_type": "execute_result",
          "data": {
            "text/html": [
              "<div>\n",
              "<style scoped>\n",
              "    .dataframe tbody tr th:only-of-type {\n",
              "        vertical-align: middle;\n",
              "    }\n",
              "\n",
              "    .dataframe tbody tr th {\n",
              "        vertical-align: top;\n",
              "    }\n",
              "\n",
              "    .dataframe thead th {\n",
              "        text-align: right;\n",
              "    }\n",
              "</style>\n",
              "<table border=\"1\" class=\"dataframe\">\n",
              "  <thead>\n",
              "    <tr style=\"text-align: right;\">\n",
              "      <th></th>\n",
              "      <th>season</th>\n",
              "      <th>holiday</th>\n",
              "      <th>workingday</th>\n",
              "      <th>weather</th>\n",
              "      <th>temp</th>\n",
              "      <th>atemp</th>\n",
              "      <th>humidity</th>\n",
              "      <th>windspeed</th>\n",
              "      <th>count</th>\n",
              "    </tr>\n",
              "    <tr>\n",
              "      <th>datetime</th>\n",
              "      <th></th>\n",
              "      <th></th>\n",
              "      <th></th>\n",
              "      <th></th>\n",
              "      <th></th>\n",
              "      <th></th>\n",
              "      <th></th>\n",
              "      <th></th>\n",
              "      <th></th>\n",
              "    </tr>\n",
              "  </thead>\n",
              "  <tbody>\n",
              "    <tr>\n",
              "      <th>2011-01-01 00:00:00</th>\n",
              "      <td>printemps</td>\n",
              "      <td>0</td>\n",
              "      <td>0</td>\n",
              "      <td>degage_nuageux</td>\n",
              "      <td>9.84</td>\n",
              "      <td>14.395</td>\n",
              "      <td>81</td>\n",
              "      <td>0.0000</td>\n",
              "      <td>16</td>\n",
              "    </tr>\n",
              "    <tr>\n",
              "      <th>2011-01-01 01:00:00</th>\n",
              "      <td>printemps</td>\n",
              "      <td>0</td>\n",
              "      <td>0</td>\n",
              "      <td>degage_nuageux</td>\n",
              "      <td>9.02</td>\n",
              "      <td>13.635</td>\n",
              "      <td>80</td>\n",
              "      <td>0.0000</td>\n",
              "      <td>40</td>\n",
              "    </tr>\n",
              "    <tr>\n",
              "      <th>2011-01-01 02:00:00</th>\n",
              "      <td>printemps</td>\n",
              "      <td>0</td>\n",
              "      <td>0</td>\n",
              "      <td>degage_nuageux</td>\n",
              "      <td>9.02</td>\n",
              "      <td>13.635</td>\n",
              "      <td>80</td>\n",
              "      <td>0.0000</td>\n",
              "      <td>32</td>\n",
              "    </tr>\n",
              "    <tr>\n",
              "      <th>2011-01-01 03:00:00</th>\n",
              "      <td>printemps</td>\n",
              "      <td>0</td>\n",
              "      <td>0</td>\n",
              "      <td>degage_nuageux</td>\n",
              "      <td>9.84</td>\n",
              "      <td>14.395</td>\n",
              "      <td>75</td>\n",
              "      <td>0.0000</td>\n",
              "      <td>13</td>\n",
              "    </tr>\n",
              "    <tr>\n",
              "      <th>2011-01-01 04:00:00</th>\n",
              "      <td>printemps</td>\n",
              "      <td>0</td>\n",
              "      <td>0</td>\n",
              "      <td>degage_nuageux</td>\n",
              "      <td>9.84</td>\n",
              "      <td>14.395</td>\n",
              "      <td>75</td>\n",
              "      <td>0.0000</td>\n",
              "      <td>1</td>\n",
              "    </tr>\n",
              "    <tr>\n",
              "      <th>...</th>\n",
              "      <td>...</td>\n",
              "      <td>...</td>\n",
              "      <td>...</td>\n",
              "      <td>...</td>\n",
              "      <td>...</td>\n",
              "      <td>...</td>\n",
              "      <td>...</td>\n",
              "      <td>...</td>\n",
              "      <td>...</td>\n",
              "    </tr>\n",
              "    <tr>\n",
              "      <th>2012-12-19 19:00:00</th>\n",
              "      <td>hiver</td>\n",
              "      <td>0</td>\n",
              "      <td>1</td>\n",
              "      <td>degage_nuageux</td>\n",
              "      <td>15.58</td>\n",
              "      <td>19.695</td>\n",
              "      <td>50</td>\n",
              "      <td>26.0027</td>\n",
              "      <td>336</td>\n",
              "    </tr>\n",
              "    <tr>\n",
              "      <th>2012-12-19 20:00:00</th>\n",
              "      <td>hiver</td>\n",
              "      <td>0</td>\n",
              "      <td>1</td>\n",
              "      <td>degage_nuageux</td>\n",
              "      <td>14.76</td>\n",
              "      <td>17.425</td>\n",
              "      <td>57</td>\n",
              "      <td>15.0013</td>\n",
              "      <td>241</td>\n",
              "    </tr>\n",
              "    <tr>\n",
              "      <th>2012-12-19 21:00:00</th>\n",
              "      <td>hiver</td>\n",
              "      <td>0</td>\n",
              "      <td>1</td>\n",
              "      <td>degage_nuageux</td>\n",
              "      <td>13.94</td>\n",
              "      <td>15.910</td>\n",
              "      <td>61</td>\n",
              "      <td>15.0013</td>\n",
              "      <td>168</td>\n",
              "    </tr>\n",
              "    <tr>\n",
              "      <th>2012-12-19 22:00:00</th>\n",
              "      <td>hiver</td>\n",
              "      <td>0</td>\n",
              "      <td>1</td>\n",
              "      <td>degage_nuageux</td>\n",
              "      <td>13.94</td>\n",
              "      <td>17.425</td>\n",
              "      <td>61</td>\n",
              "      <td>6.0032</td>\n",
              "      <td>129</td>\n",
              "    </tr>\n",
              "    <tr>\n",
              "      <th>2012-12-19 23:00:00</th>\n",
              "      <td>hiver</td>\n",
              "      <td>0</td>\n",
              "      <td>1</td>\n",
              "      <td>degage_nuageux</td>\n",
              "      <td>13.12</td>\n",
              "      <td>16.665</td>\n",
              "      <td>66</td>\n",
              "      <td>8.9981</td>\n",
              "      <td>88</td>\n",
              "    </tr>\n",
              "  </tbody>\n",
              "</table>\n",
              "<p>10886 rows × 9 columns</p>\n",
              "</div>"
            ],
            "text/plain": [
              "                        season holiday workingday  ... humidity  windspeed  count\n",
              "datetime                                           ...                           \n",
              "2011-01-01 00:00:00  printemps       0          0  ...       81     0.0000     16\n",
              "2011-01-01 01:00:00  printemps       0          0  ...       80     0.0000     40\n",
              "2011-01-01 02:00:00  printemps       0          0  ...       80     0.0000     32\n",
              "2011-01-01 03:00:00  printemps       0          0  ...       75     0.0000     13\n",
              "2011-01-01 04:00:00  printemps       0          0  ...       75     0.0000      1\n",
              "...                        ...     ...        ...  ...      ...        ...    ...\n",
              "2012-12-19 19:00:00      hiver       0          1  ...       50    26.0027    336\n",
              "2012-12-19 20:00:00      hiver       0          1  ...       57    15.0013    241\n",
              "2012-12-19 21:00:00      hiver       0          1  ...       61    15.0013    168\n",
              "2012-12-19 22:00:00      hiver       0          1  ...       61     6.0032    129\n",
              "2012-12-19 23:00:00      hiver       0          1  ...       66     8.9981     88\n",
              "\n",
              "[10886 rows x 9 columns]"
            ]
          },
          "metadata": {
            "tags": []
          },
          "execution_count": 235
        }
      ]
    },
    {
      "cell_type": "markdown",
      "metadata": {
        "id": "l7kQSni23dad",
        "colab_type": "text"
      },
      "source": [
        "Affichage des types et du dataframe"
      ]
    },
    {
      "cell_type": "code",
      "metadata": {
        "id": "A9Qelako3c0t",
        "colab_type": "code",
        "colab": {
          "base_uri": "https://localhost:8080/",
          "height": 208
        },
        "outputId": "776d4a30-ed30-4f88-e69c-9dcab9d8b8b5"
      },
      "source": [
        "df.dtypes"
      ],
      "execution_count": 236,
      "outputs": [
        {
          "output_type": "execute_result",
          "data": {
            "text/plain": [
              "datetime      datetime64[ns]\n",
              "season              category\n",
              "holiday             category\n",
              "workingday          category\n",
              "weather             category\n",
              "temp                 float64\n",
              "atemp                float64\n",
              "humidity               int64\n",
              "windspeed            float64\n",
              "count                  int64\n",
              "dtype: object"
            ]
          },
          "metadata": {
            "tags": []
          },
          "execution_count": 236
        }
      ]
    },
    {
      "cell_type": "code",
      "metadata": {
        "id": "6wlfmXd-3k3j",
        "colab_type": "code",
        "colab": {
          "base_uri": "https://localhost:8080/",
          "height": 289
        },
        "outputId": "de112a11-acc0-4583-b44e-6603caac394a"
      },
      "source": [
        "df.head()"
      ],
      "execution_count": 237,
      "outputs": [
        {
          "output_type": "execute_result",
          "data": {
            "text/html": [
              "<div>\n",
              "<style scoped>\n",
              "    .dataframe tbody tr th:only-of-type {\n",
              "        vertical-align: middle;\n",
              "    }\n",
              "\n",
              "    .dataframe tbody tr th {\n",
              "        vertical-align: top;\n",
              "    }\n",
              "\n",
              "    .dataframe thead th {\n",
              "        text-align: right;\n",
              "    }\n",
              "</style>\n",
              "<table border=\"1\" class=\"dataframe\">\n",
              "  <thead>\n",
              "    <tr style=\"text-align: right;\">\n",
              "      <th></th>\n",
              "      <th>datetime</th>\n",
              "      <th>season</th>\n",
              "      <th>holiday</th>\n",
              "      <th>workingday</th>\n",
              "      <th>weather</th>\n",
              "      <th>temp</th>\n",
              "      <th>atemp</th>\n",
              "      <th>humidity</th>\n",
              "      <th>windspeed</th>\n",
              "      <th>count</th>\n",
              "    </tr>\n",
              "  </thead>\n",
              "  <tbody>\n",
              "    <tr>\n",
              "      <th>0</th>\n",
              "      <td>2011-01-01 00:00:00</td>\n",
              "      <td>printemps</td>\n",
              "      <td>0</td>\n",
              "      <td>0</td>\n",
              "      <td>degage_nuageux</td>\n",
              "      <td>9.84</td>\n",
              "      <td>14.395</td>\n",
              "      <td>81</td>\n",
              "      <td>0.0</td>\n",
              "      <td>16</td>\n",
              "    </tr>\n",
              "    <tr>\n",
              "      <th>1</th>\n",
              "      <td>2011-01-01 01:00:00</td>\n",
              "      <td>printemps</td>\n",
              "      <td>0</td>\n",
              "      <td>0</td>\n",
              "      <td>degage_nuageux</td>\n",
              "      <td>9.02</td>\n",
              "      <td>13.635</td>\n",
              "      <td>80</td>\n",
              "      <td>0.0</td>\n",
              "      <td>40</td>\n",
              "    </tr>\n",
              "    <tr>\n",
              "      <th>2</th>\n",
              "      <td>2011-01-01 02:00:00</td>\n",
              "      <td>printemps</td>\n",
              "      <td>0</td>\n",
              "      <td>0</td>\n",
              "      <td>degage_nuageux</td>\n",
              "      <td>9.02</td>\n",
              "      <td>13.635</td>\n",
              "      <td>80</td>\n",
              "      <td>0.0</td>\n",
              "      <td>32</td>\n",
              "    </tr>\n",
              "    <tr>\n",
              "      <th>3</th>\n",
              "      <td>2011-01-01 03:00:00</td>\n",
              "      <td>printemps</td>\n",
              "      <td>0</td>\n",
              "      <td>0</td>\n",
              "      <td>degage_nuageux</td>\n",
              "      <td>9.84</td>\n",
              "      <td>14.395</td>\n",
              "      <td>75</td>\n",
              "      <td>0.0</td>\n",
              "      <td>13</td>\n",
              "    </tr>\n",
              "    <tr>\n",
              "      <th>4</th>\n",
              "      <td>2011-01-01 04:00:00</td>\n",
              "      <td>printemps</td>\n",
              "      <td>0</td>\n",
              "      <td>0</td>\n",
              "      <td>degage_nuageux</td>\n",
              "      <td>9.84</td>\n",
              "      <td>14.395</td>\n",
              "      <td>75</td>\n",
              "      <td>0.0</td>\n",
              "      <td>1</td>\n",
              "    </tr>\n",
              "  </tbody>\n",
              "</table>\n",
              "</div>"
            ],
            "text/plain": [
              "             datetime     season holiday  ... humidity windspeed  count\n",
              "0 2011-01-01 00:00:00  printemps       0  ...       81       0.0     16\n",
              "1 2011-01-01 01:00:00  printemps       0  ...       80       0.0     40\n",
              "2 2011-01-01 02:00:00  printemps       0  ...       80       0.0     32\n",
              "3 2011-01-01 03:00:00  printemps       0  ...       75       0.0     13\n",
              "4 2011-01-01 04:00:00  printemps       0  ...       75       0.0      1\n",
              "\n",
              "[5 rows x 10 columns]"
            ]
          },
          "metadata": {
            "tags": []
          },
          "execution_count": 237
        }
      ]
    },
    {
      "cell_type": "markdown",
      "metadata": {
        "id": "TNITaP3L4HKS",
        "colab_type": "text"
      },
      "source": [
        "# Exploration des données"
      ]
    },
    {
      "cell_type": "markdown",
      "metadata": {
        "id": "z7g3hHq24JNi",
        "colab_type": "text"
      },
      "source": [
        "## Analyse numérique"
      ]
    },
    {
      "cell_type": "markdown",
      "metadata": {
        "id": "6zPsmC6I47WM",
        "colab_type": "text"
      },
      "source": [
        "Il y a 10886 données. On peut pour chaque donnée numérique regarder la moyenne, l'écart type et les quartiles."
      ]
    },
    {
      "cell_type": "code",
      "metadata": {
        "id": "epkJhkPV41sf",
        "colab_type": "code",
        "colab": {
          "base_uri": "https://localhost:8080/",
          "height": 294
        },
        "outputId": "e89a6f2e-bcc8-4c7e-a770-523b77300940"
      },
      "source": [
        "df.describe()\n"
      ],
      "execution_count": 239,
      "outputs": [
        {
          "output_type": "execute_result",
          "data": {
            "text/html": [
              "<div>\n",
              "<style scoped>\n",
              "    .dataframe tbody tr th:only-of-type {\n",
              "        vertical-align: middle;\n",
              "    }\n",
              "\n",
              "    .dataframe tbody tr th {\n",
              "        vertical-align: top;\n",
              "    }\n",
              "\n",
              "    .dataframe thead th {\n",
              "        text-align: right;\n",
              "    }\n",
              "</style>\n",
              "<table border=\"1\" class=\"dataframe\">\n",
              "  <thead>\n",
              "    <tr style=\"text-align: right;\">\n",
              "      <th></th>\n",
              "      <th>temp</th>\n",
              "      <th>atemp</th>\n",
              "      <th>humidity</th>\n",
              "      <th>windspeed</th>\n",
              "      <th>count</th>\n",
              "    </tr>\n",
              "  </thead>\n",
              "  <tbody>\n",
              "    <tr>\n",
              "      <th>count</th>\n",
              "      <td>10886.00000</td>\n",
              "      <td>10886.000000</td>\n",
              "      <td>10886.000000</td>\n",
              "      <td>10886.000000</td>\n",
              "      <td>10886.000000</td>\n",
              "    </tr>\n",
              "    <tr>\n",
              "      <th>mean</th>\n",
              "      <td>20.23086</td>\n",
              "      <td>23.655084</td>\n",
              "      <td>61.886460</td>\n",
              "      <td>12.799395</td>\n",
              "      <td>191.574132</td>\n",
              "    </tr>\n",
              "    <tr>\n",
              "      <th>std</th>\n",
              "      <td>7.79159</td>\n",
              "      <td>8.474601</td>\n",
              "      <td>19.245033</td>\n",
              "      <td>8.164537</td>\n",
              "      <td>181.144454</td>\n",
              "    </tr>\n",
              "    <tr>\n",
              "      <th>min</th>\n",
              "      <td>0.82000</td>\n",
              "      <td>0.760000</td>\n",
              "      <td>0.000000</td>\n",
              "      <td>0.000000</td>\n",
              "      <td>1.000000</td>\n",
              "    </tr>\n",
              "    <tr>\n",
              "      <th>25%</th>\n",
              "      <td>13.94000</td>\n",
              "      <td>16.665000</td>\n",
              "      <td>47.000000</td>\n",
              "      <td>7.001500</td>\n",
              "      <td>42.000000</td>\n",
              "    </tr>\n",
              "    <tr>\n",
              "      <th>50%</th>\n",
              "      <td>20.50000</td>\n",
              "      <td>24.240000</td>\n",
              "      <td>62.000000</td>\n",
              "      <td>12.998000</td>\n",
              "      <td>145.000000</td>\n",
              "    </tr>\n",
              "    <tr>\n",
              "      <th>75%</th>\n",
              "      <td>26.24000</td>\n",
              "      <td>31.060000</td>\n",
              "      <td>77.000000</td>\n",
              "      <td>16.997900</td>\n",
              "      <td>284.000000</td>\n",
              "    </tr>\n",
              "    <tr>\n",
              "      <th>max</th>\n",
              "      <td>41.00000</td>\n",
              "      <td>45.455000</td>\n",
              "      <td>100.000000</td>\n",
              "      <td>56.996900</td>\n",
              "      <td>977.000000</td>\n",
              "    </tr>\n",
              "  </tbody>\n",
              "</table>\n",
              "</div>"
            ],
            "text/plain": [
              "              temp         atemp      humidity     windspeed         count\n",
              "count  10886.00000  10886.000000  10886.000000  10886.000000  10886.000000\n",
              "mean      20.23086     23.655084     61.886460     12.799395    191.574132\n",
              "std        7.79159      8.474601     19.245033      8.164537    181.144454\n",
              "min        0.82000      0.760000      0.000000      0.000000      1.000000\n",
              "25%       13.94000     16.665000     47.000000      7.001500     42.000000\n",
              "50%       20.50000     24.240000     62.000000     12.998000    145.000000\n",
              "75%       26.24000     31.060000     77.000000     16.997900    284.000000\n",
              "max       41.00000     45.455000    100.000000     56.996900    977.000000"
            ]
          },
          "metadata": {
            "tags": []
          },
          "execution_count": 239
        }
      ]
    },
    {
      "cell_type": "code",
      "metadata": {
        "id": "6bAxUh7y5mID",
        "colab_type": "code",
        "colab": {
          "base_uri": "https://localhost:8080/",
          "height": 208
        },
        "outputId": "afc7e854-c228-4c7f-9629-ffc63d5f1412"
      },
      "source": [
        "df.nunique()"
      ],
      "execution_count": 240,
      "outputs": [
        {
          "output_type": "execute_result",
          "data": {
            "text/plain": [
              "datetime      10886\n",
              "season            4\n",
              "holiday           2\n",
              "workingday        2\n",
              "weather           4\n",
              "temp             49\n",
              "atemp            60\n",
              "humidity         89\n",
              "windspeed        28\n",
              "count           822\n",
              "dtype: int64"
            ]
          },
          "metadata": {
            "tags": []
          },
          "execution_count": 240
        }
      ]
    },
    {
      "cell_type": "markdown",
      "metadata": {
        "id": "pvDbZa1g64X5",
        "colab_type": "text"
      },
      "source": [
        "## Analyse univariée"
      ]
    },
    {
      "cell_type": "markdown",
      "metadata": {
        "id": "PUwauisk78t0",
        "colab_type": "text"
      },
      "source": [
        "### Variables numériques"
      ]
    },
    {
      "cell_type": "markdown",
      "metadata": {
        "id": "TRukCqDo7pDk",
        "colab_type": "text"
      },
      "source": [
        "Analyse de la répartition du nombre de location"
      ]
    },
    {
      "cell_type": "code",
      "metadata": {
        "id": "0rMHr9of5rge",
        "colab_type": "code",
        "colab": {
          "base_uri": "https://localhost:8080/",
          "height": 1000
        },
        "outputId": "1cdb6e63-7de2-41bc-d81a-3d2bb9cfa176"
      },
      "source": [
        "for colname, serie in df.iteritems():\n",
        "    if serie.dtype.name in ['float64', 'int64']:\n",
        "        serie.hist(bins=12)\n",
        "        plt.title(f\"{colname} hist\")\n",
        "        plt.xlabel(colname)\n",
        "        plt.ylabel(\"Count\")\n",
        "        plt.show()"
      ],
      "execution_count": 241,
      "outputs": [
        {
          "output_type": "display_data",
          "data": {
            "image/png": "[encoded data removed]",
            "text/plain": [
              "<Figure size 432x288 with 1 Axes>"
            ]
          },
          "metadata": {
            "tags": []
          }
        },
        {
          "output_type": "display_data",
          "data": {
            "image/png": "[encoded data removed]",
            "text/plain": [
              "<Figure size 432x288 with 1 Axes>"
            ]
          },
          "metadata": {
            "tags": []
          }
        },
        {
          "output_type": "display_data",
          "data": {
            "image/png": "[encoded data removed]",
            "text/plain": [
              "<Figure size 432x288 with 1 Axes>"
            ]
          },
          "metadata": {
            "tags": []
          }
        },
        {
          "output_type": "display_data",
          "data": {
            "image/png": "[encoded data removed]",
            "text/plain": [
              "<Figure size 432x288 with 1 Axes>"
            ]
          },
          "metadata": {
            "tags": []
          }
        },
        {
          "output_type": "display_data",
          "data": {
            "image/png": "[encoded data removed]",
            "text/plain": [
              "<Figure size 432x288 with 1 Axes>"
            ]
          },
          "metadata": {
            "tags": []
          }
        }
      ]
    },
    {
      "cell_type": "markdown",
      "metadata": {
        "id": "zq8T_axs9XQb",
        "colab_type": "text"
      },
      "source": [
        "On remarque que les variables météorologiques semblent suivrent une distribution gaussienne.\n",
        "\n",
        "La variable count semble suivre une loie exponentielle "
      ]
    },
    {
      "cell_type": "markdown",
      "metadata": {
        "id": "YbIHIkDZ91km",
        "colab_type": "text"
      },
      "source": [
        "### Variables catégorielles"
      ]
    },
    {
      "cell_type": "code",
      "metadata": {
        "id": "0q678aYb-Oi1",
        "colab_type": "code",
        "colab": {
          "base_uri": "https://localhost:8080/",
          "height": 433
        },
        "outputId": "05b2018b-00e3-4d39-c631-9c339151b304"
      },
      "source": [
        "for colname, serie in df.iteritems():\n",
        "    # print(colname, serie.dtype.name)\n",
        "    if serie.dtype.name in ['category']:\n",
        "      print(df.groupby(colname)[\"datetime\"].count(), \"\\n\")"
      ],
      "execution_count": 242,
      "outputs": [
        {
          "output_type": "stream",
          "text": [
            "season\n",
            "automne      2733\n",
            "ete          2733\n",
            "hiver        2734\n",
            "printemps    2686\n",
            "Name: datetime, dtype: int64 \n",
            "\n",
            "holiday\n",
            "0    10575\n",
            "1      311\n",
            "Name: datetime, dtype: int64 \n",
            "\n",
            "workingday\n",
            "0    3474\n",
            "1    7412\n",
            "Name: datetime, dtype: int64 \n",
            "\n",
            "weather\n",
            "brouillard             2834\n",
            "degage_nuageux         7192\n",
            "forte_averses_neige       1\n",
            "legere_pluie_neige      859\n",
            "Name: datetime, dtype: int64 \n",
            "\n"
          ],
          "name": "stdout"
        }
      ]
    },
    {
      "cell_type": "markdown",
      "metadata": {
        "id": "2piWAVI8GIm1",
        "colab_type": "text"
      },
      "source": [
        "On remarque que les données sont relativement bien réparties.\n",
        "\n",
        "Cependant, nous n'avons qu'une donnée pour la feature \"weather\" avec la modalité \"forte_averses_neige\".\n",
        "\n",
        "Peut-être faudrait il la remplacer par une autre modalité ?\n",
        "\n",
        "J'ai fait le choix de la remplacer par la modalité \"legere_pluie_neige\", pour limiter le nombre de modalité.\n"
      ]
    },
    {
      "cell_type": "code",
      "metadata": {
        "id": "BlA-VVmR6Odo",
        "colab_type": "code",
        "colab": {
          "base_uri": "https://localhost:8080/",
          "height": 104
        },
        "outputId": "fcc8101d-4f81-4e13-d2d0-37e15b092dbd"
      },
      "source": [
        "df.weather.replace({\"forte_averses_neige\":\"legere_pluie_neige\"}, inplace=True)\n",
        "df.groupby(\"weather\")[\"datetime\"].count()"
      ],
      "execution_count": 243,
      "outputs": [
        {
          "output_type": "execute_result",
          "data": {
            "text/plain": [
              "weather\n",
              "brouillard            2834\n",
              "degage_nuageux        7192\n",
              "legere_pluie_neige     860\n",
              "Name: datetime, dtype: int64"
            ]
          },
          "metadata": {
            "tags": []
          },
          "execution_count": 243
        }
      ]
    },
    {
      "cell_type": "markdown",
      "metadata": {
        "id": "AoG9c_GoSa48",
        "colab_type": "text"
      },
      "source": [
        "### Série temporelle & feature enginering\n",
        "\n",
        "\n"
      ]
    },
    {
      "cell_type": "markdown",
      "metadata": {
        "id": "LCs_PTaJShEw",
        "colab_type": "text"
      },
      "source": [
        "Il y a 10886 valeurs uniques, comprises entre le 1er janvier 2011 à minuit et le 19 décembre 2012 à 23h."
      ]
    },
    {
      "cell_type": "code",
      "metadata": {
        "id": "f-ZNHSuiSfEa",
        "colab_type": "code",
        "colab": {
          "base_uri": "https://localhost:8080/",
          "height": 139
        },
        "outputId": "2a046133-38c5-4144-df82-cbba92edeb0d"
      },
      "source": [
        "df.datetime.describe()"
      ],
      "execution_count": 255,
      "outputs": [
        {
          "output_type": "execute_result",
          "data": {
            "text/plain": [
              "count                   10886\n",
              "unique                  10886\n",
              "top       2011-06-09 04:00:00\n",
              "freq                        1\n",
              "first     2011-01-01 00:00:00\n",
              "last      2012-12-19 23:00:00\n",
              "Name: datetime, dtype: object"
            ]
          },
          "metadata": {
            "tags": []
          },
          "execution_count": 255
        }
      ]
    },
    {
      "cell_type": "code",
      "metadata": {
        "id": "ZkA-Lp3QOMbG",
        "colab_type": "code",
        "colab": {
          "base_uri": "https://localhost:8080/",
          "height": 104
        },
        "outputId": "9830c39a-d01b-44a7-f053-f04eda9125e7"
      },
      "source": [
        ""
      ],
      "execution_count": 225,
      "outputs": [
        {
          "output_type": "execute_result",
          "data": {
            "text/plain": [
              "weather\n",
              "brouillard            2834\n",
              "degage_nuageux        7192\n",
              "legere_pluie_neige     860\n",
              "Name: datetime, dtype: int64"
            ]
          },
          "metadata": {
            "tags": []
          },
          "execution_count": 225
        }
      ]
    },
    {
      "cell_type": "markdown",
      "metadata": {
        "id": "yDeOBb3tXzEh",
        "colab_type": "text"
      },
      "source": [
        "\n",
        "* Année\n",
        "* Mois\n",
        "* Jour de la semaine\n",
        "* Heure\n",
        "* Serie en timestamp\n"
      ]
    }
  ]
}