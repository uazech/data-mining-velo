{
  "nbformat": 4,
  "nbformat_minor": 0,
  "metadata": {
    "kernelspec": {
      "name": "python3",
      "display_name": "Python 3"
    },
    "toc": {
      "colors": {
        "hover_highlight": "#DAA520",
        "running_highlight": "#FF0000",
        "selected_highlight": "#FFD700"
      },
      "moveMenuLeft": true,
      "nav_menu": {
        "height": "30px",
        "width": "252px"
      },
      "navigate_menu": true,
      "number_sections": true,
      "sideBar": true,
      "threshold": 4,
      "toc_cell": false,
      "toc_section_display": "block",
      "toc_window_display": false,
      "widenNotebook": false
    },
    "colab": {
      "name": "projet_velo_sujet.ipynb",
      "provenance": [],
      "collapsed_sections": [],
      "toc_visible": true,
      "include_colab_link": true
    },
    "accelerator": "GPU"
  },
  "cells": [
    {
      "cell_type": "markdown",
      "metadata": {
        "id": "view-in-github",
        "colab_type": "text"
      },
      "source": [
        "<a href=\"https://colab.research.google.com/github/uazech/data-mining-velo/blob/master/script/projet_velo_sujet.ipynb\" target=\"_parent\"><img src=\"https://colab.research.google.com/assets/colab-badge.svg\" alt=\"Open In Colab\"/></a>"
      ]
    },
    {
      "cell_type": "markdown",
      "metadata": {
        "id": "iVipsAE0sXOv",
        "colab_type": "text"
      },
      "source": [
        "# Projet"
      ]
    },
    {
      "cell_type": "markdown",
      "metadata": {
        "id": "8F4hB8IfsXOw",
        "colab_type": "text"
      },
      "source": [
        "Le projet consiste à prévoir le nombre de vélos loués à chaque heure dans des bornes libres-services de la ville (système type Vélib'). La variable cible est ici la variable **count**.\n",
        "\n",
        "Voici un descriptif de l'ensemble des variables :\n",
        "* *datetime* - date et heure du relevé \n",
        "* *season* - 1 = printemps , 2 = été, 3 = automne, 4 = hiver \n",
        "* *holiday* – indique si le jour est un jour de vacances scolaires \n",
        "* *workingday* - indique si le jour est travaillé (ni week-end ni vacances) \n",
        "* *weather* - 1: Dégagé à nuageux, 2 : Brouillard, 3 : Légère pluie ou neige, 4 : Fortes averses ou neiges \n",
        "* *temp* – température en degrés Celsius \n",
        "* *atemp* – température ressentie en degrés Celsius \n",
        "* *humidity* – taux d’humidité \n",
        "* *windspeed* – vitesse du vent \n",
        "* *casual* - nombre de locations d’usagers non abonnés \n",
        "* *registered* – nombre de locations d’usagers abonnés \n",
        "* *count* – nombre total de locations de vélos "
      ]
    },
    {
      "cell_type": "markdown",
      "metadata": {
        "id": "BAX6dYkSsXOx",
        "colab_type": "text"
      },
      "source": [
        "L'objectif du projet est de mener à bien la création d'un modèle qui pourrait théoriquement être déployé en production. Les étapes d'exploration des données, de traitement et de preprocessing ne sont bien entendu pas à négliger. Il ne s'agit pas d'une compétition de type *Kaggle*, le projet ne sera pas uniquement noté sur la performance du modèle, mais plutôt sur votre approche complète et la justification de chacun de vos choix.\n",
        "\n",
        "Comme vu durant le cours, soyez faites attention à certains points :\n",
        "- quel type de problème dois-je traiter ?\n",
        "- feature engineering : est-ce que j'utilise les données correctement, toutes les données ?\n",
        "- data leakage : est-ce qu'une de mes features n'est pas trop explicative ?\n",
        "- ai-je bien traité toutes les données correctement ?\n",
        "- est-ce que mon modèle est adapté ?\n",
        "- etc, etc, etc\n",
        "\n",
        "Soyez vigilant à expliquer et justifier votre démarche à l'aide de visualisation, de commentaires dans vos codes (pensez aux cellules markdown), etc"
      ]
    },
    {
      "cell_type": "code",
      "metadata": {
        "ExecuteTime": {
          "end_time": "2018-01-23T21:07:13.585997Z",
          "start_time": "2018-01-23T21:07:11.883063Z"
        },
        "id": "2cX6e_DUsXOx",
        "colab_type": "code",
        "colab": {}
      },
      "source": [
        "import pandas as pd\n",
        "import numpy as np\n",
        "\n",
        "import matplotlib.pyplot as plt\n",
        "import seaborn as sns\n",
        "%matplotlib inline"
      ],
      "execution_count": 0,
      "outputs": []
    },
    {
      "cell_type": "markdown",
      "metadata": {
        "id": "FzrooXRZvEoC",
        "colab_type": "text"
      },
      "source": [
        "# Lecture et préparation des données"
      ]
    },
    {
      "cell_type": "markdown",
      "metadata": {
        "id": "FspUXumAvUjd",
        "colab_type": "text"
      },
      "source": [
        "##Lecture des données"
      ]
    },
    {
      "cell_type": "markdown",
      "metadata": {
        "id": "Q1hHinhWvYlg",
        "colab_type": "text"
      },
      "source": [
        "Chargement du fichier velo.csv et affichage des données\n",
        "\n"
      ]
    },
    {
      "cell_type": "code",
      "metadata": {
        "ExecuteTime": {
          "end_time": "2018-01-23T21:08:16.102718Z",
          "start_time": "2018-01-23T21:08:16.035614Z"
        },
        "id": "iZf2UzRYsXO0",
        "colab_type": "code",
        "outputId": "0994cacd-6640-4db1-ca0f-aa447f3d4332",
        "colab": {
          "base_uri": "https://localhost:8080/",
          "height": 395
        }
      },
      "source": [
        "url = \"https://raw.githubusercontent.com/uazech/data-mining-velo/master/data/input/velo.csv\"\n",
        "df = pd.read_csv(url)\n",
        "df.head()"
      ],
      "execution_count": 52,
      "outputs": [
        {
          "output_type": "execute_result",
          "data": {
            "text/html": [
              "<div>\n",
              "<style scoped>\n",
              "    .dataframe tbody tr th:only-of-type {\n",
              "        vertical-align: middle;\n",
              "    }\n",
              "\n",
              "    .dataframe tbody tr th {\n",
              "        vertical-align: top;\n",
              "    }\n",
              "\n",
              "    .dataframe thead th {\n",
              "        text-align: right;\n",
              "    }\n",
              "</style>\n",
              "<table border=\"1\" class=\"dataframe\">\n",
              "  <thead>\n",
              "    <tr style=\"text-align: right;\">\n",
              "      <th></th>\n",
              "      <th>datetime</th>\n",
              "      <th>season</th>\n",
              "      <th>holiday</th>\n",
              "      <th>workingday</th>\n",
              "      <th>weather</th>\n",
              "      <th>temp</th>\n",
              "      <th>atemp</th>\n",
              "      <th>humidity</th>\n",
              "      <th>windspeed</th>\n",
              "      <th>casual</th>\n",
              "      <th>registered</th>\n",
              "      <th>count</th>\n",
              "    </tr>\n",
              "  </thead>\n",
              "  <tbody>\n",
              "    <tr>\n",
              "      <th>0</th>\n",
              "      <td>2011-01-01 00:00:00</td>\n",
              "      <td>1</td>\n",
              "      <td>0</td>\n",
              "      <td>0</td>\n",
              "      <td>1</td>\n",
              "      <td>9.84</td>\n",
              "      <td>14.395</td>\n",
              "      <td>81</td>\n",
              "      <td>0.0</td>\n",
              "      <td>3</td>\n",
              "      <td>13</td>\n",
              "      <td>16</td>\n",
              "    </tr>\n",
              "    <tr>\n",
              "      <th>1</th>\n",
              "      <td>2011-01-01 01:00:00</td>\n",
              "      <td>1</td>\n",
              "      <td>0</td>\n",
              "      <td>0</td>\n",
              "      <td>1</td>\n",
              "      <td>9.02</td>\n",
              "      <td>13.635</td>\n",
              "      <td>80</td>\n",
              "      <td>0.0</td>\n",
              "      <td>8</td>\n",
              "      <td>32</td>\n",
              "      <td>40</td>\n",
              "    </tr>\n",
              "    <tr>\n",
              "      <th>2</th>\n",
              "      <td>2011-01-01 02:00:00</td>\n",
              "      <td>1</td>\n",
              "      <td>0</td>\n",
              "      <td>0</td>\n",
              "      <td>1</td>\n",
              "      <td>9.02</td>\n",
              "      <td>13.635</td>\n",
              "      <td>80</td>\n",
              "      <td>0.0</td>\n",
              "      <td>5</td>\n",
              "      <td>27</td>\n",
              "      <td>32</td>\n",
              "    </tr>\n",
              "    <tr>\n",
              "      <th>3</th>\n",
              "      <td>2011-01-01 03:00:00</td>\n",
              "      <td>1</td>\n",
              "      <td>0</td>\n",
              "      <td>0</td>\n",
              "      <td>1</td>\n",
              "      <td>9.84</td>\n",
              "      <td>14.395</td>\n",
              "      <td>75</td>\n",
              "      <td>0.0</td>\n",
              "      <td>3</td>\n",
              "      <td>10</td>\n",
              "      <td>13</td>\n",
              "    </tr>\n",
              "    <tr>\n",
              "      <th>4</th>\n",
              "      <td>2011-01-01 04:00:00</td>\n",
              "      <td>1</td>\n",
              "      <td>0</td>\n",
              "      <td>0</td>\n",
              "      <td>1</td>\n",
              "      <td>9.84</td>\n",
              "      <td>14.395</td>\n",
              "      <td>75</td>\n",
              "      <td>0.0</td>\n",
              "      <td>0</td>\n",
              "      <td>1</td>\n",
              "      <td>1</td>\n",
              "    </tr>\n",
              "  </tbody>\n",
              "</table>\n",
              "</div>"
            ],
            "text/plain": [
              "              datetime  season  holiday  ...  casual  registered  count\n",
              "0  2011-01-01 00:00:00       1        0  ...       3          13     16\n",
              "1  2011-01-01 01:00:00       1        0  ...       8          32     40\n",
              "2  2011-01-01 02:00:00       1        0  ...       5          27     32\n",
              "3  2011-01-01 03:00:00       1        0  ...       3          10     13\n",
              "4  2011-01-01 04:00:00       1        0  ...       0           1      1\n",
              "\n",
              "[5 rows x 12 columns]"
            ]
          },
          "metadata": {
            "tags": []
          },
          "execution_count": 52
        }
      ]
    },
    {
      "cell_type": "markdown",
      "metadata": {
        "id": "ktSBhj8Ww3DO",
        "colab_type": "text"
      },
      "source": [
        "Affichage du nombre unique de données par colonne. Permet de vérifier qu'il n'y a pas d'anomalies dans les données. "
      ]
    },
    {
      "cell_type": "code",
      "metadata": {
        "id": "A3fl58L_wdKA",
        "colab_type": "code",
        "outputId": "8528382d-b346-49d6-eac1-240109b5b7b9",
        "colab": {
          "base_uri": "https://localhost:8080/",
          "height": 243
        }
      },
      "source": [
        "df.nunique()"
      ],
      "execution_count": 53,
      "outputs": [
        {
          "output_type": "execute_result",
          "data": {
            "text/plain": [
              "datetime      10886\n",
              "season            4\n",
              "holiday           2\n",
              "workingday        2\n",
              "weather           4\n",
              "temp             49\n",
              "atemp            60\n",
              "humidity         89\n",
              "windspeed        28\n",
              "casual          309\n",
              "registered      731\n",
              "count           822\n",
              "dtype: int64"
            ]
          },
          "metadata": {
            "tags": []
          },
          "execution_count": 53
        }
      ]
    },
    {
      "cell_type": "markdown",
      "metadata": {
        "id": "jdEk-nezxC3-",
        "colab_type": "text"
      },
      "source": [
        "Affichage du nombre de valeur manquante par colonne, afin de vérifier si on doit les traiter ou non.\n",
        "\n",
        "Il n'y a pas de valeur manquante."
      ]
    },
    {
      "cell_type": "code",
      "metadata": {
        "id": "1Ib8jQ2_xIIZ",
        "colab_type": "code",
        "outputId": "40f5a23e-e107-409b-fc03-6a924af9ab74",
        "colab": {
          "base_uri": "https://localhost:8080/",
          "height": 243
        }
      },
      "source": [
        "df.isna().sum()"
      ],
      "execution_count": 54,
      "outputs": [
        {
          "output_type": "execute_result",
          "data": {
            "text/plain": [
              "datetime      0\n",
              "season        0\n",
              "holiday       0\n",
              "workingday    0\n",
              "weather       0\n",
              "temp          0\n",
              "atemp         0\n",
              "humidity      0\n",
              "windspeed     0\n",
              "casual        0\n",
              "registered    0\n",
              "count         0\n",
              "dtype: int64"
            ]
          },
          "metadata": {
            "tags": []
          },
          "execution_count": 54
        }
      ]
    },
    {
      "cell_type": "markdown",
      "metadata": {
        "id": "5Isd_veuveRf",
        "colab_type": "text"
      },
      "source": [
        "Affichage des types de chaque feature. On remarque que : \n",
        "* La variable ```season``` est une variable catégorielle, et ne devrait pas être de type entier\n",
        "* La variable ```datetime``` est considérée comme une variable catégorielle, à convertir en timeserie\n",
        "* La variable ```weather``` est considérée comme une variable entière, alors qu'elle devrait être de type catégorielle\n",
        "* "
      ]
    },
    {
      "cell_type": "code",
      "metadata": {
        "id": "9iEvF80gsXO2",
        "colab_type": "code",
        "outputId": "3c32a5b1-fafb-43e7-ffbe-5d088c184a5f",
        "colab": {
          "base_uri": "https://localhost:8080/",
          "height": 243
        }
      },
      "source": [
        "df.dtypes"
      ],
      "execution_count": 55,
      "outputs": [
        {
          "output_type": "execute_result",
          "data": {
            "text/plain": [
              "datetime       object\n",
              "season          int64\n",
              "holiday         int64\n",
              "workingday      int64\n",
              "weather         int64\n",
              "temp          float64\n",
              "atemp         float64\n",
              "humidity        int64\n",
              "windspeed     float64\n",
              "casual          int64\n",
              "registered      int64\n",
              "count           int64\n",
              "dtype: object"
            ]
          },
          "metadata": {
            "tags": []
          },
          "execution_count": 55
        }
      ]
    },
    {
      "cell_type": "markdown",
      "metadata": {
        "id": "lLioA1LlzP3n",
        "colab_type": "text"
      },
      "source": [
        "Deux variables semblent suspectes. En effet, dans l'affichage du head précédent, la target était égale à la somme des deux variable registered et casual.\n",
        "\n",
        "Dans la description des données, ces deux variables semblent également liées."
      ]
    },
    {
      "cell_type": "code",
      "metadata": {
        "id": "Gf1PDTuywGNu",
        "colab_type": "code",
        "outputId": "0b298bd7-9a73-474c-f11f-063c1e713035",
        "colab": {
          "base_uri": "https://localhost:8080/",
          "height": 260
        }
      },
      "source": [
        "df[\"tmp\"] = df[\"registered\"] + df[\"casual\"]\n",
        "(df[df[\"count\"] == df[\"tmp\"]].count()) == (df.count())"
      ],
      "execution_count": 56,
      "outputs": [
        {
          "output_type": "execute_result",
          "data": {
            "text/plain": [
              "datetime      True\n",
              "season        True\n",
              "holiday       True\n",
              "workingday    True\n",
              "weather       True\n",
              "temp          True\n",
              "atemp         True\n",
              "humidity      True\n",
              "windspeed     True\n",
              "casual        True\n",
              "registered    True\n",
              "count         True\n",
              "tmp           True\n",
              "dtype: bool"
            ]
          },
          "metadata": {
            "tags": []
          },
          "execution_count": 56
        }
      ]
    },
    {
      "cell_type": "markdown",
      "metadata": {
        "id": "C8Ia4iEV02bE",
        "colab_type": "text"
      },
      "source": [
        "Les données sont effectivement liées. Les colonnes casual et registered seront à supprimer lors de la préparation des données. \n",
        "En effet, on ne connait pas le nombre de locations de vélo de type casual et registred lorsque l'on cherche à prédire le nombre de locations pour une journée."
      ]
    },
    {
      "cell_type": "markdown",
      "metadata": {
        "id": "v-0e_cc9zEZ4",
        "colab_type": "text"
      },
      "source": [
        "## Préparation des données"
      ]
    },
    {
      "cell_type": "markdown",
      "metadata": {
        "id": "_S0IYwy9v-MP",
        "colab_type": "text"
      },
      "source": [
        "Catégorisation des colonnes et changement des valeurs associées aux libellés"
      ]
    },
    {
      "cell_type": "code",
      "metadata": {
        "id": "RVCvBxOfv9C9",
        "colab_type": "code",
        "colab": {}
      },
      "source": [
        "# Changement du type en série temporelle\n",
        "df['datetime'] = pd.to_datetime(df['datetime'])  \n",
        "\n",
        "# changement des types en catégoriels\n",
        "df[\"season\"] = df.season.map({1:\"printemps\", 2:\"ete\", 3:\"automne\", 4:\"hiver\"})\n",
        "df[\"weather\"] = df.weather.map({1:\"degage_nuageux\", 2:\"brouillard\", 3:\"legere_pluie_neige\", 4:\"forte_averses_neige\"})\n",
        "df[\"season\"] = pd.Categorical(df[\"season\"], ordered=False)\n",
        "df[\"weather\"] = pd.Categorical(df[\"weather\"], ordered=False)\n",
        "df[\"holiday\"] = pd.Categorical(df[\"holiday\"], ordered=False)\n",
        "df[\"workingday\"] = pd.Categorical(df[\"workingday\"], ordered=False)\n"
      ],
      "execution_count": 0,
      "outputs": []
    },
    {
      "cell_type": "markdown",
      "metadata": {
        "id": "0Y5A-3t23IX9",
        "colab_type": "text"
      },
      "source": [
        "Suppression des colonnes"
      ]
    },
    {
      "cell_type": "code",
      "metadata": {
        "id": "l9KF4Yt20WZ4",
        "colab_type": "code",
        "colab": {}
      },
      "source": [
        "df = df.drop(\"casual\", axis=1)\n",
        "df = df.drop(\"registered\", axis=1)\n",
        "df = df.drop(\"tmp\", axis=1) "
      ],
      "execution_count": 0,
      "outputs": []
    },
    {
      "cell_type": "markdown",
      "metadata": {
        "id": "Q1PKuiR4_Us8",
        "colab_type": "text"
      },
      "source": [
        "Définition de l'index du dataframe.\n",
        "\n",
        "On choisit ici la colonne datetime, car les valeurs sont caractéristiques des données et qu'il n'y a pas de doublons."
      ]
    },
    {
      "cell_type": "code",
      "metadata": {
        "id": "15cmDG20_dic",
        "colab_type": "code",
        "outputId": "56890553-152a-4dab-f455-66cc7994eb2d",
        "colab": {
          "base_uri": "https://localhost:8080/",
          "height": 619
        }
      },
      "source": [
        "df.set_index(\"datetime\")"
      ],
      "execution_count": 59,
      "outputs": [
        {
          "output_type": "execute_result",
          "data": {
            "text/html": [
              "<div>\n",
              "<style scoped>\n",
              "    .dataframe tbody tr th:only-of-type {\n",
              "        vertical-align: middle;\n",
              "    }\n",
              "\n",
              "    .dataframe tbody tr th {\n",
              "        vertical-align: top;\n",
              "    }\n",
              "\n",
              "    .dataframe thead th {\n",
              "        text-align: right;\n",
              "    }\n",
              "</style>\n",
              "<table border=\"1\" class=\"dataframe\">\n",
              "  <thead>\n",
              "    <tr style=\"text-align: right;\">\n",
              "      <th></th>\n",
              "      <th>season</th>\n",
              "      <th>holiday</th>\n",
              "      <th>workingday</th>\n",
              "      <th>weather</th>\n",
              "      <th>temp</th>\n",
              "      <th>atemp</th>\n",
              "      <th>humidity</th>\n",
              "      <th>windspeed</th>\n",
              "      <th>count</th>\n",
              "    </tr>\n",
              "    <tr>\n",
              "      <th>datetime</th>\n",
              "      <th></th>\n",
              "      <th></th>\n",
              "      <th></th>\n",
              "      <th></th>\n",
              "      <th></th>\n",
              "      <th></th>\n",
              "      <th></th>\n",
              "      <th></th>\n",
              "      <th></th>\n",
              "    </tr>\n",
              "  </thead>\n",
              "  <tbody>\n",
              "    <tr>\n",
              "      <th>2011-01-01 00:00:00</th>\n",
              "      <td>printemps</td>\n",
              "      <td>0</td>\n",
              "      <td>0</td>\n",
              "      <td>degage_nuageux</td>\n",
              "      <td>9.84</td>\n",
              "      <td>14.395</td>\n",
              "      <td>81</td>\n",
              "      <td>0.0000</td>\n",
              "      <td>16</td>\n",
              "    </tr>\n",
              "    <tr>\n",
              "      <th>2011-01-01 01:00:00</th>\n",
              "      <td>printemps</td>\n",
              "      <td>0</td>\n",
              "      <td>0</td>\n",
              "      <td>degage_nuageux</td>\n",
              "      <td>9.02</td>\n",
              "      <td>13.635</td>\n",
              "      <td>80</td>\n",
              "      <td>0.0000</td>\n",
              "      <td>40</td>\n",
              "    </tr>\n",
              "    <tr>\n",
              "      <th>2011-01-01 02:00:00</th>\n",
              "      <td>printemps</td>\n",
              "      <td>0</td>\n",
              "      <td>0</td>\n",
              "      <td>degage_nuageux</td>\n",
              "      <td>9.02</td>\n",
              "      <td>13.635</td>\n",
              "      <td>80</td>\n",
              "      <td>0.0000</td>\n",
              "      <td>32</td>\n",
              "    </tr>\n",
              "    <tr>\n",
              "      <th>2011-01-01 03:00:00</th>\n",
              "      <td>printemps</td>\n",
              "      <td>0</td>\n",
              "      <td>0</td>\n",
              "      <td>degage_nuageux</td>\n",
              "      <td>9.84</td>\n",
              "      <td>14.395</td>\n",
              "      <td>75</td>\n",
              "      <td>0.0000</td>\n",
              "      <td>13</td>\n",
              "    </tr>\n",
              "    <tr>\n",
              "      <th>2011-01-01 04:00:00</th>\n",
              "      <td>printemps</td>\n",
              "      <td>0</td>\n",
              "      <td>0</td>\n",
              "      <td>degage_nuageux</td>\n",
              "      <td>9.84</td>\n",
              "      <td>14.395</td>\n",
              "      <td>75</td>\n",
              "      <td>0.0000</td>\n",
              "      <td>1</td>\n",
              "    </tr>\n",
              "    <tr>\n",
              "      <th>...</th>\n",
              "      <td>...</td>\n",
              "      <td>...</td>\n",
              "      <td>...</td>\n",
              "      <td>...</td>\n",
              "      <td>...</td>\n",
              "      <td>...</td>\n",
              "      <td>...</td>\n",
              "      <td>...</td>\n",
              "      <td>...</td>\n",
              "    </tr>\n",
              "    <tr>\n",
              "      <th>2012-12-19 19:00:00</th>\n",
              "      <td>hiver</td>\n",
              "      <td>0</td>\n",
              "      <td>1</td>\n",
              "      <td>degage_nuageux</td>\n",
              "      <td>15.58</td>\n",
              "      <td>19.695</td>\n",
              "      <td>50</td>\n",
              "      <td>26.0027</td>\n",
              "      <td>336</td>\n",
              "    </tr>\n",
              "    <tr>\n",
              "      <th>2012-12-19 20:00:00</th>\n",
              "      <td>hiver</td>\n",
              "      <td>0</td>\n",
              "      <td>1</td>\n",
              "      <td>degage_nuageux</td>\n",
              "      <td>14.76</td>\n",
              "      <td>17.425</td>\n",
              "      <td>57</td>\n",
              "      <td>15.0013</td>\n",
              "      <td>241</td>\n",
              "    </tr>\n",
              "    <tr>\n",
              "      <th>2012-12-19 21:00:00</th>\n",
              "      <td>hiver</td>\n",
              "      <td>0</td>\n",
              "      <td>1</td>\n",
              "      <td>degage_nuageux</td>\n",
              "      <td>13.94</td>\n",
              "      <td>15.910</td>\n",
              "      <td>61</td>\n",
              "      <td>15.0013</td>\n",
              "      <td>168</td>\n",
              "    </tr>\n",
              "    <tr>\n",
              "      <th>2012-12-19 22:00:00</th>\n",
              "      <td>hiver</td>\n",
              "      <td>0</td>\n",
              "      <td>1</td>\n",
              "      <td>degage_nuageux</td>\n",
              "      <td>13.94</td>\n",
              "      <td>17.425</td>\n",
              "      <td>61</td>\n",
              "      <td>6.0032</td>\n",
              "      <td>129</td>\n",
              "    </tr>\n",
              "    <tr>\n",
              "      <th>2012-12-19 23:00:00</th>\n",
              "      <td>hiver</td>\n",
              "      <td>0</td>\n",
              "      <td>1</td>\n",
              "      <td>degage_nuageux</td>\n",
              "      <td>13.12</td>\n",
              "      <td>16.665</td>\n",
              "      <td>66</td>\n",
              "      <td>8.9981</td>\n",
              "      <td>88</td>\n",
              "    </tr>\n",
              "  </tbody>\n",
              "</table>\n",
              "<p>10886 rows × 9 columns</p>\n",
              "</div>"
            ],
            "text/plain": [
              "                        season holiday workingday  ... humidity  windspeed  count\n",
              "datetime                                           ...                           \n",
              "2011-01-01 00:00:00  printemps       0          0  ...       81     0.0000     16\n",
              "2011-01-01 01:00:00  printemps       0          0  ...       80     0.0000     40\n",
              "2011-01-01 02:00:00  printemps       0          0  ...       80     0.0000     32\n",
              "2011-01-01 03:00:00  printemps       0          0  ...       75     0.0000     13\n",
              "2011-01-01 04:00:00  printemps       0          0  ...       75     0.0000      1\n",
              "...                        ...     ...        ...  ...      ...        ...    ...\n",
              "2012-12-19 19:00:00      hiver       0          1  ...       50    26.0027    336\n",
              "2012-12-19 20:00:00      hiver       0          1  ...       57    15.0013    241\n",
              "2012-12-19 21:00:00      hiver       0          1  ...       61    15.0013    168\n",
              "2012-12-19 22:00:00      hiver       0          1  ...       61     6.0032    129\n",
              "2012-12-19 23:00:00      hiver       0          1  ...       66     8.9981     88\n",
              "\n",
              "[10886 rows x 9 columns]"
            ]
          },
          "metadata": {
            "tags": []
          },
          "execution_count": 59
        }
      ]
    },
    {
      "cell_type": "markdown",
      "metadata": {
        "id": "l7kQSni23dad",
        "colab_type": "text"
      },
      "source": [
        "Affichage des types et du dataframe"
      ]
    },
    {
      "cell_type": "code",
      "metadata": {
        "id": "A9Qelako3c0t",
        "colab_type": "code",
        "outputId": "72c6b67a-00f0-4aa1-cbfc-b3b5bff8ee4a",
        "colab": {
          "base_uri": "https://localhost:8080/",
          "height": 208
        }
      },
      "source": [
        "df.dtypes"
      ],
      "execution_count": 60,
      "outputs": [
        {
          "output_type": "execute_result",
          "data": {
            "text/plain": [
              "datetime      datetime64[ns]\n",
              "season              category\n",
              "holiday             category\n",
              "workingday          category\n",
              "weather             category\n",
              "temp                 float64\n",
              "atemp                float64\n",
              "humidity               int64\n",
              "windspeed            float64\n",
              "count                  int64\n",
              "dtype: object"
            ]
          },
          "metadata": {
            "tags": []
          },
          "execution_count": 60
        }
      ]
    },
    {
      "cell_type": "code",
      "metadata": {
        "id": "6wlfmXd-3k3j",
        "colab_type": "code",
        "outputId": "4f0435cd-08b1-4332-a90f-e961bdd98ed5",
        "colab": {
          "base_uri": "https://localhost:8080/",
          "height": 289
        }
      },
      "source": [
        "df.head()"
      ],
      "execution_count": 61,
      "outputs": [
        {
          "output_type": "execute_result",
          "data": {
            "text/html": [
              "<div>\n",
              "<style scoped>\n",
              "    .dataframe tbody tr th:only-of-type {\n",
              "        vertical-align: middle;\n",
              "    }\n",
              "\n",
              "    .dataframe tbody tr th {\n",
              "        vertical-align: top;\n",
              "    }\n",
              "\n",
              "    .dataframe thead th {\n",
              "        text-align: right;\n",
              "    }\n",
              "</style>\n",
              "<table border=\"1\" class=\"dataframe\">\n",
              "  <thead>\n",
              "    <tr style=\"text-align: right;\">\n",
              "      <th></th>\n",
              "      <th>datetime</th>\n",
              "      <th>season</th>\n",
              "      <th>holiday</th>\n",
              "      <th>workingday</th>\n",
              "      <th>weather</th>\n",
              "      <th>temp</th>\n",
              "      <th>atemp</th>\n",
              "      <th>humidity</th>\n",
              "      <th>windspeed</th>\n",
              "      <th>count</th>\n",
              "    </tr>\n",
              "  </thead>\n",
              "  <tbody>\n",
              "    <tr>\n",
              "      <th>0</th>\n",
              "      <td>2011-01-01 00:00:00</td>\n",
              "      <td>printemps</td>\n",
              "      <td>0</td>\n",
              "      <td>0</td>\n",
              "      <td>degage_nuageux</td>\n",
              "      <td>9.84</td>\n",
              "      <td>14.395</td>\n",
              "      <td>81</td>\n",
              "      <td>0.0</td>\n",
              "      <td>16</td>\n",
              "    </tr>\n",
              "    <tr>\n",
              "      <th>1</th>\n",
              "      <td>2011-01-01 01:00:00</td>\n",
              "      <td>printemps</td>\n",
              "      <td>0</td>\n",
              "      <td>0</td>\n",
              "      <td>degage_nuageux</td>\n",
              "      <td>9.02</td>\n",
              "      <td>13.635</td>\n",
              "      <td>80</td>\n",
              "      <td>0.0</td>\n",
              "      <td>40</td>\n",
              "    </tr>\n",
              "    <tr>\n",
              "      <th>2</th>\n",
              "      <td>2011-01-01 02:00:00</td>\n",
              "      <td>printemps</td>\n",
              "      <td>0</td>\n",
              "      <td>0</td>\n",
              "      <td>degage_nuageux</td>\n",
              "      <td>9.02</td>\n",
              "      <td>13.635</td>\n",
              "      <td>80</td>\n",
              "      <td>0.0</td>\n",
              "      <td>32</td>\n",
              "    </tr>\n",
              "    <tr>\n",
              "      <th>3</th>\n",
              "      <td>2011-01-01 03:00:00</td>\n",
              "      <td>printemps</td>\n",
              "      <td>0</td>\n",
              "      <td>0</td>\n",
              "      <td>degage_nuageux</td>\n",
              "      <td>9.84</td>\n",
              "      <td>14.395</td>\n",
              "      <td>75</td>\n",
              "      <td>0.0</td>\n",
              "      <td>13</td>\n",
              "    </tr>\n",
              "    <tr>\n",
              "      <th>4</th>\n",
              "      <td>2011-01-01 04:00:00</td>\n",
              "      <td>printemps</td>\n",
              "      <td>0</td>\n",
              "      <td>0</td>\n",
              "      <td>degage_nuageux</td>\n",
              "      <td>9.84</td>\n",
              "      <td>14.395</td>\n",
              "      <td>75</td>\n",
              "      <td>0.0</td>\n",
              "      <td>1</td>\n",
              "    </tr>\n",
              "  </tbody>\n",
              "</table>\n",
              "</div>"
            ],
            "text/plain": [
              "             datetime     season holiday  ... humidity windspeed  count\n",
              "0 2011-01-01 00:00:00  printemps       0  ...       81       0.0     16\n",
              "1 2011-01-01 01:00:00  printemps       0  ...       80       0.0     40\n",
              "2 2011-01-01 02:00:00  printemps       0  ...       80       0.0     32\n",
              "3 2011-01-01 03:00:00  printemps       0  ...       75       0.0     13\n",
              "4 2011-01-01 04:00:00  printemps       0  ...       75       0.0      1\n",
              "\n",
              "[5 rows x 10 columns]"
            ]
          },
          "metadata": {
            "tags": []
          },
          "execution_count": 61
        }
      ]
    },
    {
      "cell_type": "markdown",
      "metadata": {
        "id": "TNITaP3L4HKS",
        "colab_type": "text"
      },
      "source": [
        "# Exploration des données"
      ]
    },
    {
      "cell_type": "markdown",
      "metadata": {
        "id": "z7g3hHq24JNi",
        "colab_type": "text"
      },
      "source": [
        "## Analyse numérique"
      ]
    },
    {
      "cell_type": "markdown",
      "metadata": {
        "id": "6zPsmC6I47WM",
        "colab_type": "text"
      },
      "source": [
        "Il y a 10886 données. On peut pour chaque donnée numérique regarder la moyenne, l'écart type et les quartiles."
      ]
    },
    {
      "cell_type": "code",
      "metadata": {
        "id": "epkJhkPV41sf",
        "colab_type": "code",
        "outputId": "22d602d5-2e69-46a1-c8b1-438229386d48",
        "colab": {
          "base_uri": "https://localhost:8080/",
          "height": 294
        }
      },
      "source": [
        "df.describe()"
      ],
      "execution_count": 62,
      "outputs": [
        {
          "output_type": "execute_result",
          "data": {
            "text/html": [
              "<div>\n",
              "<style scoped>\n",
              "    .dataframe tbody tr th:only-of-type {\n",
              "        vertical-align: middle;\n",
              "    }\n",
              "\n",
              "    .dataframe tbody tr th {\n",
              "        vertical-align: top;\n",
              "    }\n",
              "\n",
              "    .dataframe thead th {\n",
              "        text-align: right;\n",
              "    }\n",
              "</style>\n",
              "<table border=\"1\" class=\"dataframe\">\n",
              "  <thead>\n",
              "    <tr style=\"text-align: right;\">\n",
              "      <th></th>\n",
              "      <th>temp</th>\n",
              "      <th>atemp</th>\n",
              "      <th>humidity</th>\n",
              "      <th>windspeed</th>\n",
              "      <th>count</th>\n",
              "    </tr>\n",
              "  </thead>\n",
              "  <tbody>\n",
              "    <tr>\n",
              "      <th>count</th>\n",
              "      <td>10886.00000</td>\n",
              "      <td>10886.000000</td>\n",
              "      <td>10886.000000</td>\n",
              "      <td>10886.000000</td>\n",
              "      <td>10886.000000</td>\n",
              "    </tr>\n",
              "    <tr>\n",
              "      <th>mean</th>\n",
              "      <td>20.23086</td>\n",
              "      <td>23.655084</td>\n",
              "      <td>61.886460</td>\n",
              "      <td>12.799395</td>\n",
              "      <td>191.574132</td>\n",
              "    </tr>\n",
              "    <tr>\n",
              "      <th>std</th>\n",
              "      <td>7.79159</td>\n",
              "      <td>8.474601</td>\n",
              "      <td>19.245033</td>\n",
              "      <td>8.164537</td>\n",
              "      <td>181.144454</td>\n",
              "    </tr>\n",
              "    <tr>\n",
              "      <th>min</th>\n",
              "      <td>0.82000</td>\n",
              "      <td>0.760000</td>\n",
              "      <td>0.000000</td>\n",
              "      <td>0.000000</td>\n",
              "      <td>1.000000</td>\n",
              "    </tr>\n",
              "    <tr>\n",
              "      <th>25%</th>\n",
              "      <td>13.94000</td>\n",
              "      <td>16.665000</td>\n",
              "      <td>47.000000</td>\n",
              "      <td>7.001500</td>\n",
              "      <td>42.000000</td>\n",
              "    </tr>\n",
              "    <tr>\n",
              "      <th>50%</th>\n",
              "      <td>20.50000</td>\n",
              "      <td>24.240000</td>\n",
              "      <td>62.000000</td>\n",
              "      <td>12.998000</td>\n",
              "      <td>145.000000</td>\n",
              "    </tr>\n",
              "    <tr>\n",
              "      <th>75%</th>\n",
              "      <td>26.24000</td>\n",
              "      <td>31.060000</td>\n",
              "      <td>77.000000</td>\n",
              "      <td>16.997900</td>\n",
              "      <td>284.000000</td>\n",
              "    </tr>\n",
              "    <tr>\n",
              "      <th>max</th>\n",
              "      <td>41.00000</td>\n",
              "      <td>45.455000</td>\n",
              "      <td>100.000000</td>\n",
              "      <td>56.996900</td>\n",
              "      <td>977.000000</td>\n",
              "    </tr>\n",
              "  </tbody>\n",
              "</table>\n",
              "</div>"
            ],
            "text/plain": [
              "              temp         atemp      humidity     windspeed         count\n",
              "count  10886.00000  10886.000000  10886.000000  10886.000000  10886.000000\n",
              "mean      20.23086     23.655084     61.886460     12.799395    191.574132\n",
              "std        7.79159      8.474601     19.245033      8.164537    181.144454\n",
              "min        0.82000      0.760000      0.000000      0.000000      1.000000\n",
              "25%       13.94000     16.665000     47.000000      7.001500     42.000000\n",
              "50%       20.50000     24.240000     62.000000     12.998000    145.000000\n",
              "75%       26.24000     31.060000     77.000000     16.997900    284.000000\n",
              "max       41.00000     45.455000    100.000000     56.996900    977.000000"
            ]
          },
          "metadata": {
            "tags": []
          },
          "execution_count": 62
        }
      ]
    },
    {
      "cell_type": "code",
      "metadata": {
        "id": "6bAxUh7y5mID",
        "colab_type": "code",
        "outputId": "137c7164-3ff5-4fbf-80be-3643279cf37d",
        "colab": {
          "base_uri": "https://localhost:8080/",
          "height": 208
        }
      },
      "source": [
        "df.nunique()"
      ],
      "execution_count": 63,
      "outputs": [
        {
          "output_type": "execute_result",
          "data": {
            "text/plain": [
              "datetime      10886\n",
              "season            4\n",
              "holiday           2\n",
              "workingday        2\n",
              "weather           4\n",
              "temp             49\n",
              "atemp            60\n",
              "humidity         89\n",
              "windspeed        28\n",
              "count           822\n",
              "dtype: int64"
            ]
          },
          "metadata": {
            "tags": []
          },
          "execution_count": 63
        }
      ]
    },
    {
      "cell_type": "markdown",
      "metadata": {
        "id": "pvDbZa1g64X5",
        "colab_type": "text"
      },
      "source": [
        "## Analyse univariée"
      ]
    },
    {
      "cell_type": "markdown",
      "metadata": {
        "id": "PUwauisk78t0",
        "colab_type": "text"
      },
      "source": [
        "### Variables numériques"
      ]
    },
    {
      "cell_type": "markdown",
      "metadata": {
        "id": "TRukCqDo7pDk",
        "colab_type": "text"
      },
      "source": [
        "Analyse de la répartition du nombre de location"
      ]
    },
    {
      "cell_type": "code",
      "metadata": {
        "id": "4y8x2PEEhK4U",
        "colab_type": "code",
        "outputId": "de30e664-343c-488a-ef29-ad5582835da3",
        "colab": {
          "base_uri": "https://localhost:8080/",
          "height": 208
        }
      },
      "source": [
        "df.dtypes"
      ],
      "execution_count": 64,
      "outputs": [
        {
          "output_type": "execute_result",
          "data": {
            "text/plain": [
              "datetime      datetime64[ns]\n",
              "season              category\n",
              "holiday             category\n",
              "workingday          category\n",
              "weather             category\n",
              "temp                 float64\n",
              "atemp                float64\n",
              "humidity               int64\n",
              "windspeed            float64\n",
              "count                  int64\n",
              "dtype: object"
            ]
          },
          "metadata": {
            "tags": []
          },
          "execution_count": 64
        }
      ]
    },
    {
      "cell_type": "code",
      "metadata": {
        "id": "0rMHr9of5rge",
        "colab_type": "code",
        "outputId": "320c3c90-d73d-4578-8810-7016d7e4ff46",
        "colab": {
          "base_uri": "https://localhost:8080/",
          "height": 1000
        }
      },
      "source": [
        "for colname, serie in df.iteritems():\n",
        "  if serie.dtype.name in ['float64', 'int64']:\n",
        "      serie.hist(bins=12)\n",
        "      plt.title=\" hist\"\n",
        "      plt.xlabel(colname)\n",
        "      plt.ylabel(\"Count\")\n",
        "      plt.show()"
      ],
      "execution_count": 65,
      "outputs": [
        {
          "output_type": "display_data",
          "data": {
            "image/png": "[encoded data removed]",
            "text/plain": [
              "<Figure size 432x288 with 1 Axes>"
            ]
          },
          "metadata": {
            "tags": []
          }
        },
        {
          "output_type": "display_data",
          "data": {
            "image/png": "[encoded data removed]",
            "text/plain": [
              "<Figure size 432x288 with 1 Axes>"
            ]
          },
          "metadata": {
            "tags": []
          }
        },
        {
          "output_type": "display_data",
          "data": {
            "image/png": "[encoded data removed]",
            "text/plain": [
              "<Figure size 432x288 with 1 Axes>"
            ]
          },
          "metadata": {
            "tags": []
          }
        },
        {
          "output_type": "display_data",
          "data": {
            "image/png": "[encoded data removed]",
            "text/plain": [
              "<Figure size 432x288 with 1 Axes>"
            ]
          },
          "metadata": {
            "tags": []
          }
        },
        {
          "output_type": "display_data",
          "data": {
            "image/png": "[encoded data removed]",
            "text/plain": [
              "<Figure size 432x288 with 1 Axes>"
            ]
          },
          "metadata": {
            "tags": []
          }
        }
      ]
    },
    {
      "cell_type": "markdown",
      "metadata": {
        "id": "zq8T_axs9XQb",
        "colab_type": "text"
      },
      "source": [
        "On remarque que les variables météorologiques semblent suivrent une distribution gaussienne.\n",
        "\n",
        "La variable count semble suivre une loie exponentielle "
      ]
    },
    {
      "cell_type": "markdown",
      "metadata": {
        "id": "YbIHIkDZ91km",
        "colab_type": "text"
      },
      "source": [
        "### Variables catégorielles"
      ]
    },
    {
      "cell_type": "code",
      "metadata": {
        "id": "0q678aYb-Oi1",
        "colab_type": "code",
        "outputId": "f273e035-def4-4579-80bb-ef4efb22ebed",
        "colab": {
          "base_uri": "https://localhost:8080/",
          "height": 433
        }
      },
      "source": [
        "for colname, serie in df.iteritems():\n",
        "    # print(colname, serie.dtype.name)\n",
        "    if serie.dtype.name in ['category']:\n",
        "      print(df.groupby(colname)[\"datetime\"].count(), \"\\n\")"
      ],
      "execution_count": 66,
      "outputs": [
        {
          "output_type": "stream",
          "text": [
            "season\n",
            "automne      2733\n",
            "ete          2733\n",
            "hiver        2734\n",
            "printemps    2686\n",
            "Name: datetime, dtype: int64 \n",
            "\n",
            "holiday\n",
            "0    10575\n",
            "1      311\n",
            "Name: datetime, dtype: int64 \n",
            "\n",
            "workingday\n",
            "0    3474\n",
            "1    7412\n",
            "Name: datetime, dtype: int64 \n",
            "\n",
            "weather\n",
            "brouillard             2834\n",
            "degage_nuageux         7192\n",
            "forte_averses_neige       1\n",
            "legere_pluie_neige      859\n",
            "Name: datetime, dtype: int64 \n",
            "\n"
          ],
          "name": "stdout"
        }
      ]
    },
    {
      "cell_type": "markdown",
      "metadata": {
        "id": "2piWAVI8GIm1",
        "colab_type": "text"
      },
      "source": [
        "On remarque que les données sont relativement bien réparties.\n",
        "\n",
        "Cependant, nous n'avons qu'une donnée pour la feature \"weather\" avec la modalité \"forte_averses_neige\".\n",
        "\n",
        "Peut-être faudrait il la remplacer par une autre modalité ?\n",
        "\n",
        "J'ai fait le choix de la remplacer par la modalité \"legere_pluie_neige\", pour limiter le nombre de modalité.\n"
      ]
    },
    {
      "cell_type": "code",
      "metadata": {
        "id": "BlA-VVmR6Odo",
        "colab_type": "code",
        "colab": {}
      },
      "source": [
        "df.weather.replace({\"forte_averses_neige\":\"legere_pluie_neige\"}, inplace=True)\n",
        "df.groupby(\"weather\")[\"datetime\"].count()\n",
        "df[\"weather\"] = pd.Categorical(df[\"weather\"], ordered=False)\n"
      ],
      "execution_count": 0,
      "outputs": []
    },
    {
      "cell_type": "markdown",
      "metadata": {
        "id": "AoG9c_GoSa48",
        "colab_type": "text"
      },
      "source": [
        "### Série temporelle & feature enginering\n",
        "\n",
        "\n"
      ]
    },
    {
      "cell_type": "markdown",
      "metadata": {
        "id": "LCs_PTaJShEw",
        "colab_type": "text"
      },
      "source": [
        "Les dates sont des attributs particuliers. Nous allons réaliser du feature engineering afin d'en extraire des informations intéressantes.\n",
        "\n",
        "Il y a 10886 valeurs uniques, comprises entre le 1er janvier 2011 à minuit et le 19 décembre 2012 à 23h."
      ]
    },
    {
      "cell_type": "code",
      "metadata": {
        "id": "f-ZNHSuiSfEa",
        "colab_type": "code",
        "outputId": "f0769fd6-13cd-4ee7-e8b7-7cf9cf96c81a",
        "colab": {
          "base_uri": "https://localhost:8080/",
          "height": 139
        }
      },
      "source": [
        "df.datetime.describe()\n"
      ],
      "execution_count": 68,
      "outputs": [
        {
          "output_type": "execute_result",
          "data": {
            "text/plain": [
              "count                   10886\n",
              "unique                  10886\n",
              "top       2011-06-09 04:00:00\n",
              "freq                        1\n",
              "first     2011-01-01 00:00:00\n",
              "last      2012-12-19 23:00:00\n",
              "Name: datetime, dtype: object"
            ]
          },
          "metadata": {
            "tags": []
          },
          "execution_count": 68
        }
      ]
    },
    {
      "cell_type": "markdown",
      "metadata": {
        "id": "As28clLEmYQe",
        "colab_type": "text"
      },
      "source": [
        "On réalise du feature engineering pour calculer :\n",
        "* l'année\n",
        "* le mois\n",
        "* le jour de la semaine\n",
        "* le jour\n",
        "* l'heure\n",
        "* le timestamp\n"
      ]
    },
    {
      "cell_type": "code",
      "metadata": {
        "id": "ZkA-Lp3QOMbG",
        "colab_type": "code",
        "colab": {}
      },
      "source": [
        "# On garde l'année\n",
        "df['year'] = pd.DatetimeIndex(df['datetime']).year\n",
        "# On garde le mois de l'enregistrement\n",
        "df['month'] = pd.DatetimeIndex(df['datetime']).month\n",
        "# On garde le jour de l'enregistrement\n",
        "df['day'] = pd.DatetimeIndex(df['datetime']).day\n",
        "# On garde l'heure de l'enregistrement\n",
        "df['hour'] = pd.DatetimeIndex(df['datetime']).hour\n",
        "# On garde le jour de la semaine \n",
        "df['dayofweek'] = pd.DatetimeIndex(df['datetime']).dayofweek.map({0:\"lundi\", 1:\"mardi\", 2:\"mercredi\", 3:\"jeudi\", 4:\"vendredi\", 5:\"samedi\", 6:\"dimanche\"})\n",
        "\n",
        "# On garde le timestamp pour une notion de continuité d'une année sur l'autre\n",
        "df[\"timestamp\"] = df.datetime.values.astype(np.int64) // 10 ** 9 \n",
        "\n",
        "df[\"dayofweek\"] = pd.Categorical(df[\"dayofweek\"], ordered=True)\n",
        "df[\"hour\"] = pd.Categorical(df[\"hour\"], ordered=True)\n",
        "df[\"day\"] = pd.Categorical(df[\"day\"], ordered=True)\n",
        "df[\"month\"] = pd.Categorical(df[\"month\"], ordered=True)\n",
        "df[\"year\"] = pd.Categorical(df[\"year\"], ordered=True)\n",
        "\n"
      ],
      "execution_count": 0,
      "outputs": []
    },
    {
      "cell_type": "code",
      "metadata": {
        "id": "3khuNqT_kzX5",
        "colab_type": "code",
        "outputId": "a96991eb-37ea-4347-84fe-6535c2807bb0",
        "colab": {
          "base_uri": "https://localhost:8080/",
          "height": 312
        }
      },
      "source": [
        "df.dtypes"
      ],
      "execution_count": 70,
      "outputs": [
        {
          "output_type": "execute_result",
          "data": {
            "text/plain": [
              "datetime      datetime64[ns]\n",
              "season              category\n",
              "holiday             category\n",
              "workingday          category\n",
              "weather             category\n",
              "temp                 float64\n",
              "atemp                float64\n",
              "humidity               int64\n",
              "windspeed            float64\n",
              "count                  int64\n",
              "year                category\n",
              "month               category\n",
              "day                 category\n",
              "hour                category\n",
              "dayofweek           category\n",
              "timestamp              int64\n",
              "dtype: object"
            ]
          },
          "metadata": {
            "tags": []
          },
          "execution_count": 70
        }
      ]
    },
    {
      "cell_type": "code",
      "metadata": {
        "id": "XGsnblOJks8Z",
        "colab_type": "code",
        "outputId": "35c12235-4aec-4831-dbc1-df3513d29f87",
        "colab": {
          "base_uri": "https://localhost:8080/",
          "height": 395
        }
      },
      "source": [
        "df.tail()"
      ],
      "execution_count": 71,
      "outputs": [
        {
          "output_type": "execute_result",
          "data": {
            "text/html": [
              "<div>\n",
              "<style scoped>\n",
              "    .dataframe tbody tr th:only-of-type {\n",
              "        vertical-align: middle;\n",
              "    }\n",
              "\n",
              "    .dataframe tbody tr th {\n",
              "        vertical-align: top;\n",
              "    }\n",
              "\n",
              "    .dataframe thead th {\n",
              "        text-align: right;\n",
              "    }\n",
              "</style>\n",
              "<table border=\"1\" class=\"dataframe\">\n",
              "  <thead>\n",
              "    <tr style=\"text-align: right;\">\n",
              "      <th></th>\n",
              "      <th>datetime</th>\n",
              "      <th>season</th>\n",
              "      <th>holiday</th>\n",
              "      <th>workingday</th>\n",
              "      <th>weather</th>\n",
              "      <th>temp</th>\n",
              "      <th>atemp</th>\n",
              "      <th>humidity</th>\n",
              "      <th>windspeed</th>\n",
              "      <th>count</th>\n",
              "      <th>year</th>\n",
              "      <th>month</th>\n",
              "      <th>day</th>\n",
              "      <th>hour</th>\n",
              "      <th>dayofweek</th>\n",
              "      <th>timestamp</th>\n",
              "    </tr>\n",
              "  </thead>\n",
              "  <tbody>\n",
              "    <tr>\n",
              "      <th>10881</th>\n",
              "      <td>2012-12-19 19:00:00</td>\n",
              "      <td>hiver</td>\n",
              "      <td>0</td>\n",
              "      <td>1</td>\n",
              "      <td>degage_nuageux</td>\n",
              "      <td>15.58</td>\n",
              "      <td>19.695</td>\n",
              "      <td>50</td>\n",
              "      <td>26.0027</td>\n",
              "      <td>336</td>\n",
              "      <td>2012</td>\n",
              "      <td>12</td>\n",
              "      <td>19</td>\n",
              "      <td>19</td>\n",
              "      <td>mercredi</td>\n",
              "      <td>1355943600</td>\n",
              "    </tr>\n",
              "    <tr>\n",
              "      <th>10882</th>\n",
              "      <td>2012-12-19 20:00:00</td>\n",
              "      <td>hiver</td>\n",
              "      <td>0</td>\n",
              "      <td>1</td>\n",
              "      <td>degage_nuageux</td>\n",
              "      <td>14.76</td>\n",
              "      <td>17.425</td>\n",
              "      <td>57</td>\n",
              "      <td>15.0013</td>\n",
              "      <td>241</td>\n",
              "      <td>2012</td>\n",
              "      <td>12</td>\n",
              "      <td>19</td>\n",
              "      <td>20</td>\n",
              "      <td>mercredi</td>\n",
              "      <td>1355947200</td>\n",
              "    </tr>\n",
              "    <tr>\n",
              "      <th>10883</th>\n",
              "      <td>2012-12-19 21:00:00</td>\n",
              "      <td>hiver</td>\n",
              "      <td>0</td>\n",
              "      <td>1</td>\n",
              "      <td>degage_nuageux</td>\n",
              "      <td>13.94</td>\n",
              "      <td>15.910</td>\n",
              "      <td>61</td>\n",
              "      <td>15.0013</td>\n",
              "      <td>168</td>\n",
              "      <td>2012</td>\n",
              "      <td>12</td>\n",
              "      <td>19</td>\n",
              "      <td>21</td>\n",
              "      <td>mercredi</td>\n",
              "      <td>1355950800</td>\n",
              "    </tr>\n",
              "    <tr>\n",
              "      <th>10884</th>\n",
              "      <td>2012-12-19 22:00:00</td>\n",
              "      <td>hiver</td>\n",
              "      <td>0</td>\n",
              "      <td>1</td>\n",
              "      <td>degage_nuageux</td>\n",
              "      <td>13.94</td>\n",
              "      <td>17.425</td>\n",
              "      <td>61</td>\n",
              "      <td>6.0032</td>\n",
              "      <td>129</td>\n",
              "      <td>2012</td>\n",
              "      <td>12</td>\n",
              "      <td>19</td>\n",
              "      <td>22</td>\n",
              "      <td>mercredi</td>\n",
              "      <td>1355954400</td>\n",
              "    </tr>\n",
              "    <tr>\n",
              "      <th>10885</th>\n",
              "      <td>2012-12-19 23:00:00</td>\n",
              "      <td>hiver</td>\n",
              "      <td>0</td>\n",
              "      <td>1</td>\n",
              "      <td>degage_nuageux</td>\n",
              "      <td>13.12</td>\n",
              "      <td>16.665</td>\n",
              "      <td>66</td>\n",
              "      <td>8.9981</td>\n",
              "      <td>88</td>\n",
              "      <td>2012</td>\n",
              "      <td>12</td>\n",
              "      <td>19</td>\n",
              "      <td>23</td>\n",
              "      <td>mercredi</td>\n",
              "      <td>1355958000</td>\n",
              "    </tr>\n",
              "  </tbody>\n",
              "</table>\n",
              "</div>"
            ],
            "text/plain": [
              "                 datetime season holiday  ... hour dayofweek   timestamp\n",
              "10881 2012-12-19 19:00:00  hiver       0  ...   19  mercredi  1355943600\n",
              "10882 2012-12-19 20:00:00  hiver       0  ...   20  mercredi  1355947200\n",
              "10883 2012-12-19 21:00:00  hiver       0  ...   21  mercredi  1355950800\n",
              "10884 2012-12-19 22:00:00  hiver       0  ...   22  mercredi  1355954400\n",
              "10885 2012-12-19 23:00:00  hiver       0  ...   23  mercredi  1355958000\n",
              "\n",
              "[5 rows x 16 columns]"
            ]
          },
          "metadata": {
            "tags": []
          },
          "execution_count": 71
        }
      ]
    },
    {
      "cell_type": "markdown",
      "metadata": {
        "id": "yDeOBb3tXzEh",
        "colab_type": "text"
      },
      "source": [
        "\n",
        "## Analyse bivariées"
      ]
    },
    {
      "cell_type": "markdown",
      "metadata": {
        "id": "rILMvb-neZH2",
        "colab_type": "text"
      },
      "source": [
        "### Analyse des jours fériés / jours travaillés\n",
        "\n",
        "On remarque que le fait que le jour soit férié n'a pas une importance capitale. Cependant, les jours non fériés sont les jours durant lesquels il y a le plus de location."
      ]
    },
    {
      "cell_type": "code",
      "metadata": {
        "id": "BDmANIWOnO6e",
        "colab_type": "code",
        "outputId": "cebb69ea-ed06-473b-c476-816424544387",
        "colab": {
          "base_uri": "https://localhost:8080/",
          "height": 279
        }
      },
      "source": [
        "ax = sns.violinplot(x=\"holiday\", y=\"count\", data=df)\n",
        "\n",
        "plt.show()"
      ],
      "execution_count": 72,
      "outputs": [
        {
          "output_type": "display_data",
          "data": {
            "image/png": "[encoded data removed]",
            "text/plain": [
              "<Figure size 432x288 with 1 Axes>"
            ]
          },
          "metadata": {
            "tags": []
          }
        }
      ]
    },
    {
      "cell_type": "markdown",
      "metadata": {
        "id": "kXQ3RiF0jtYS",
        "colab_type": "text"
      },
      "source": [
        "Etrangement le 1er janvier n'est pas considéré comme un jour ferié et le 17 novembre est un jour ferié. Il convidendrait de vérifier plus en détail la veracité des données pour cette feature\n",
        "\n",
        "Après vérification deux jours fériés sont le 4 juillet 2011 et le 17 janvier, ce qui correspond respectivement à l'independance day et MLK day aux USA"
      ]
    },
    {
      "cell_type": "code",
      "metadata": {
        "id": "lJxqzzfZh9pp",
        "colab_type": "code",
        "outputId": "473f87d1-1b98-4ae2-a967-7a388210985f",
        "colab": {
          "base_uri": "https://localhost:8080/",
          "height": 121
        }
      },
      "source": [
        "df[df['holiday']==1].datetime.head()"
      ],
      "execution_count": 73,
      "outputs": [
        {
          "output_type": "execute_result",
          "data": {
            "text/plain": [
              "372   2011-01-17 00:00:00\n",
              "373   2011-01-17 01:00:00\n",
              "374   2011-01-17 02:00:00\n",
              "375   2011-01-17 03:00:00\n",
              "376   2011-01-17 04:00:00\n",
              "Name: datetime, dtype: datetime64[ns]"
            ]
          },
          "metadata": {
            "tags": []
          },
          "execution_count": 73
        }
      ]
    },
    {
      "cell_type": "markdown",
      "metadata": {
        "id": "XIlyz3RQn7Sp",
        "colab_type": "text"
      },
      "source": [
        "Le fait que le jour soit travaillé n'a pas de grande importance. On remarque cependant plus d'outliers sur les jours qui sont travaillés"
      ]
    },
    {
      "cell_type": "code",
      "metadata": {
        "id": "deaI4a9Ldxdx",
        "colab_type": "code",
        "outputId": "25ee8074-367e-4b31-e9b6-869b091db2de",
        "colab": {
          "base_uri": "https://localhost:8080/",
          "height": 295
        }
      },
      "source": [
        "ax = sns.boxplot(x=\"workingday\", y=\"count\", data=df)\n",
        "ax.set_title(\"Boxplot du nombre de location en fonction des jours travaillés\")\n",
        "plt.show()"
      ],
      "execution_count": 74,
      "outputs": [
        {
          "output_type": "display_data",
          "data": {
            "image/png": "[encoded data removed]",
            "text/plain": [
              "<Figure size 432x288 with 1 Axes>"
            ]
          },
          "metadata": {
            "tags": []
          }
        }
      ]
    },
    {
      "cell_type": "markdown",
      "metadata": {
        "id": "XmNE8RWTy4I6",
        "colab_type": "text"
      },
      "source": [
        "Le jour de la semaine n'a pas d'importance très importante sur la cible."
      ]
    },
    {
      "cell_type": "code",
      "metadata": {
        "id": "TiOtN-GByjRP",
        "colab_type": "code",
        "outputId": "ee0c8673-442b-4ba3-c8e0-3128c9838368",
        "colab": {
          "base_uri": "https://localhost:8080/",
          "height": 295
        }
      },
      "source": [
        "ax = sns.boxplot(x=\"dayofweek\", y=\"count\", data=df)\n",
        "ax.set_title(\"Boxplot du nombre de location en fonction des jours travaillés\")\n",
        "plt.show()"
      ],
      "execution_count": 75,
      "outputs": [
        {
          "output_type": "display_data",
          "data": {
            "image/png": "[encoded data removed]",
            "text/plain": [
              "<Figure size 432x288 with 1 Axes>"
            ]
          },
          "metadata": {
            "tags": []
          }
        }
      ]
    },
    {
      "cell_type": "markdown",
      "metadata": {
        "id": "NV31DAQVpX-H",
        "colab_type": "text"
      },
      "source": [
        "### Analyse temporelle\n"
      ]
    },
    {
      "cell_type": "markdown",
      "metadata": {
        "id": "hAbRkx4idjga",
        "colab_type": "text"
      },
      "source": [
        "On remarque que la saison a une grande importance sur le nombre de vélos loués."
      ]
    },
    {
      "cell_type": "code",
      "metadata": {
        "id": "9gswnomcdPaW",
        "colab_type": "code",
        "outputId": "9d2c50f8-6f9f-4fd7-9c87-9cc1ce3f831a",
        "colab": {
          "base_uri": "https://localhost:8080/",
          "height": 295
        }
      },
      "source": [
        "ax = sns.barplot(x=\"season\", y=\"count\", data=df)\n",
        "ax.set_title(\"Nombres de locations par saison\")\n",
        "plt.show()"
      ],
      "execution_count": 76,
      "outputs": [
        {
          "output_type": "display_data",
          "data": {
            "image/png": "[encoded data removed]",
            "text/plain": [
              "<Figure size 432x288 with 1 Axes>"
            ]
          },
          "metadata": {
            "tags": []
          }
        }
      ]
    },
    {
      "cell_type": "markdown",
      "metadata": {
        "id": "TPwH5JRnevPi",
        "colab_type": "text"
      },
      "source": [
        "On remarque l'importance particulièrement élevé des mois sur les ventes.\n",
        "\n",
        "Cette variable semble plus significative que la saison. Il conviendra peut-être de dropper la saison. // TODO"
      ]
    },
    {
      "cell_type": "code",
      "metadata": {
        "id": "KdmyNu7kevtQ",
        "colab_type": "code",
        "outputId": "467ba638-4ccf-422c-f814-45a02ff72351",
        "colab": {
          "base_uri": "https://localhost:8080/",
          "height": 295
        }
      },
      "source": [
        "ax = sns.barplot(x=\"month\", y=\"count\", data=df)\n",
        "ax.set_title(\"Nombres de locations par mois\")\n",
        "plt.show()"
      ],
      "execution_count": 77,
      "outputs": [
        {
          "output_type": "display_data",
          "data": {
            "image/png": "[encoded data removed]",
            "text/plain": [
              "<Figure size 432x288 with 1 Axes>"
            ]
          },
          "metadata": {
            "tags": []
          }
        }
      ]
    },
    {
      "cell_type": "markdown",
      "metadata": {
        "id": "ZLSXAsCSj-3v",
        "colab_type": "text"
      },
      "source": [
        "L'heure a une grande importance sur le nombre de locations"
      ]
    },
    {
      "cell_type": "code",
      "metadata": {
        "id": "1sfH-9Hbj_TA",
        "colab_type": "code",
        "outputId": "4652752d-57f2-42ca-d364-b10968bd1dd7",
        "colab": {
          "base_uri": "https://localhost:8080/",
          "height": 295
        }
      },
      "source": [
        "ax = sns.barplot(x=\"hour\", y=\"count\", data=df)\n",
        "ax.set_title(\"Nombres de locations par heure\")\n",
        "plt.show()"
      ],
      "execution_count": 78,
      "outputs": [
        {
          "output_type": "display_data",
          "data": {
            "image/png": "[encoded data removed]",
            "text/plain": [
              "<Figure size 432x288 with 1 Axes>"
            ]
          },
          "metadata": {
            "tags": []
          }
        }
      ]
    },
    {
      "cell_type": "markdown",
      "metadata": {
        "id": "zk_yxKvNp4BQ",
        "colab_type": "text"
      },
      "source": [
        "Comme on pouvait le penser initalialement, le jour du mois n'est pas réélement significatif dans le nombre de vélos loués"
      ]
    },
    {
      "cell_type": "code",
      "metadata": {
        "id": "-cj1txyYkaD3",
        "colab_type": "code",
        "outputId": "820b043d-f99f-4c56-bb2e-997ba0ae5c27",
        "colab": {
          "base_uri": "https://localhost:8080/",
          "height": 295
        }
      },
      "source": [
        "ax = sns.barplot(x=\"day\", y=\"count\", data=df)\n",
        "ax.set_title(\"Nombres de locations par jour\")\n",
        "plt.show()"
      ],
      "execution_count": 79,
      "outputs": [
        {
          "output_type": "display_data",
          "data": {
            "image/png": "[encoded data removed]",
            "text/plain": [
              "<Figure size 432x288 with 1 Axes>"
            ]
          },
          "metadata": {
            "tags": []
          }
        }
      ]
    },
    {
      "cell_type": "markdown",
      "metadata": {
        "id": "Iea-P5_5r8SU",
        "colab_type": "text"
      },
      "source": [
        "### Analyse de la météo"
      ]
    },
    {
      "cell_type": "markdown",
      "metadata": {
        "id": "9uy2fLfLsQPY",
        "colab_type": "text"
      },
      "source": [
        "On remarque que les locations augmentent en moyenne avec la température.\n",
        "\n",
        "Cependant, après un certain seuil de température, le nombre de location semble diminuer"
      ]
    },
    {
      "cell_type": "code",
      "metadata": {
        "id": "bFxg0unHr7Z3",
        "colab_type": "code",
        "outputId": "16bd5df6-1d02-4c36-c4cb-449eda787b85",
        "colab": {
          "base_uri": "https://localhost:8080/",
          "height": 279
        }
      },
      "source": [
        "ax = sns.barplot(x=\"temp\", y=\"count\", data=df)"
      ],
      "execution_count": 80,
      "outputs": [
        {
          "output_type": "display_data",
          "data": {
            "image/png": "[encoded data removed]",
            "text/plain": [
              "<Figure size 432x288 with 1 Axes>"
            ]
          },
          "metadata": {
            "tags": []
          }
        }
      ]
    },
    {
      "cell_type": "markdown",
      "metadata": {
        "id": "VtpvDmExujVm",
        "colab_type": "text"
      },
      "source": [
        "On remarque que l'humidité a une légère importance sur la cible"
      ]
    },
    {
      "cell_type": "code",
      "metadata": {
        "id": "d6ZptxL5qsps",
        "colab_type": "code",
        "outputId": "183c2659-74fe-4055-fb0c-c8c14fdc53ba",
        "colab": {
          "base_uri": "https://localhost:8080/",
          "height": 279
        }
      },
      "source": [
        "ax = sns.barplot(x=\"humidity\", y=\"count\", data=df)"
      ],
      "execution_count": 81,
      "outputs": [
        {
          "output_type": "display_data",
          "data": {
            "image/png": "[encoded data removed]",
            "text/plain": [
              "<Figure size 432x288 with 1 Axes>"
            ]
          },
          "metadata": {
            "tags": []
          }
        }
      ]
    },
    {
      "cell_type": "markdown",
      "metadata": {
        "id": "d3f-BlB91bqm",
        "colab_type": "text"
      },
      "source": [
        "La vitesse du vent n'a pas d'influence aussi décisive sur le nombre de locations. \n",
        "\n",
        "Il serait interessant de savoir pourquoi le nombre de locations est beaucoup plus important les jours de grands vents"
      ]
    },
    {
      "cell_type": "code",
      "metadata": {
        "id": "dW_Wn3pT1KT2",
        "colab_type": "code",
        "outputId": "8e07faf2-3ca1-4ea1-a8a8-746e80c0fe08",
        "colab": {
          "base_uri": "https://localhost:8080/",
          "height": 279
        }
      },
      "source": [
        "ax = sns.barplot(x=\"windspeed\", y=\"count\", data=df)"
      ],
      "execution_count": 82,
      "outputs": [
        {
          "output_type": "display_data",
          "data": {
            "image/png": "[encoded data removed]",
            "text/plain": [
              "<Figure size 432x288 with 1 Axes>"
            ]
          },
          "metadata": {
            "tags": []
          }
        }
      ]
    },
    {
      "cell_type": "markdown",
      "metadata": {
        "id": "jpGzeh5HudR2",
        "colab_type": "text"
      },
      "source": [
        "TODO : documentation"
      ]
    },
    {
      "cell_type": "code",
      "metadata": {
        "id": "X5FZB9jVuOAc",
        "colab_type": "code",
        "outputId": "34c26d95-2864-45ba-f04d-dcd4581030bf",
        "colab": {
          "base_uri": "https://localhost:8080/",
          "height": 459
        }
      },
      "source": [
        "sns.jointplot(\"temp\", \"humidity\", kind=\"hex\", color=\"#4CB391\", data=df)"
      ],
      "execution_count": 83,
      "outputs": [
        {
          "output_type": "execute_result",
          "data": {
            "text/plain": [
              "<seaborn.axisgrid.JointGrid at 0x7f41350b96d8>"
            ]
          },
          "metadata": {
            "tags": []
          },
          "execution_count": 83
        },
        {
          "output_type": "display_data",
          "data": {
            "image/png": "[encoded data removed]",
            "text/plain": [
              "<Figure size 432x432 with 3 Axes>"
            ]
          },
          "metadata": {
            "tags": []
          }
        }
      ]
    },
    {
      "cell_type": "markdown",
      "metadata": {
        "id": "614-gowVo6jP",
        "colab_type": "text"
      },
      "source": [
        "## Analyse multivariée"
      ]
    },
    {
      "cell_type": "markdown",
      "metadata": {
        "id": "E24j76X-anh9",
        "colab_type": "text"
      },
      "source": [
        "### Correlations\n",
        "\n",
        "On remarque que la température réele et la température ressentie sont fortmement corrélées."
      ]
    },
    {
      "cell_type": "code",
      "metadata": {
        "id": "kypmopiGZVqQ",
        "colab_type": "code",
        "outputId": "e610a0aa-e19e-4097-8434-2f133f117542",
        "colab": {
          "base_uri": "https://localhost:8080/",
          "height": 325
        }
      },
      "source": [
        "ax = sns.heatmap(df.corr(), cmap=\"YlOrRd\")\n",
        "ax.set_title(\"Corrélations des variables continues\")\n",
        "plt.show()"
      ],
      "execution_count": 84,
      "outputs": [
        {
          "output_type": "display_data",
          "data": {
            "image/png": "[encoded data removed]",
            "text/plain": [
              "<Figure size 432x288 with 2 Axes>"
            ]
          },
          "metadata": {
            "tags": []
          }
        }
      ]
    },
    {
      "cell_type": "code",
      "metadata": {
        "id": "BEXSDwU-cPFE",
        "colab_type": "code",
        "outputId": "ff6a792c-2c2c-49d4-81df-9cdcbf9b38b3",
        "colab": {
          "base_uri": "https://localhost:8080/",
          "height": 233
        }
      },
      "source": [
        "df.corr()"
      ],
      "execution_count": 85,
      "outputs": [
        {
          "output_type": "execute_result",
          "data": {
            "text/html": [
              "<div>\n",
              "<style scoped>\n",
              "    .dataframe tbody tr th:only-of-type {\n",
              "        vertical-align: middle;\n",
              "    }\n",
              "\n",
              "    .dataframe tbody tr th {\n",
              "        vertical-align: top;\n",
              "    }\n",
              "\n",
              "    .dataframe thead th {\n",
              "        text-align: right;\n",
              "    }\n",
              "</style>\n",
              "<table border=\"1\" class=\"dataframe\">\n",
              "  <thead>\n",
              "    <tr style=\"text-align: right;\">\n",
              "      <th></th>\n",
              "      <th>temp</th>\n",
              "      <th>atemp</th>\n",
              "      <th>humidity</th>\n",
              "      <th>windspeed</th>\n",
              "      <th>count</th>\n",
              "      <th>timestamp</th>\n",
              "    </tr>\n",
              "  </thead>\n",
              "  <tbody>\n",
              "    <tr>\n",
              "      <th>temp</th>\n",
              "      <td>1.000000</td>\n",
              "      <td>0.984948</td>\n",
              "      <td>-0.064949</td>\n",
              "      <td>-0.017852</td>\n",
              "      <td>0.394454</td>\n",
              "      <td>0.180986</td>\n",
              "    </tr>\n",
              "    <tr>\n",
              "      <th>atemp</th>\n",
              "      <td>0.984948</td>\n",
              "      <td>1.000000</td>\n",
              "      <td>-0.043536</td>\n",
              "      <td>-0.057473</td>\n",
              "      <td>0.389784</td>\n",
              "      <td>0.181823</td>\n",
              "    </tr>\n",
              "    <tr>\n",
              "      <th>humidity</th>\n",
              "      <td>-0.064949</td>\n",
              "      <td>-0.043536</td>\n",
              "      <td>1.000000</td>\n",
              "      <td>-0.318607</td>\n",
              "      <td>-0.317371</td>\n",
              "      <td>0.032856</td>\n",
              "    </tr>\n",
              "    <tr>\n",
              "      <th>windspeed</th>\n",
              "      <td>-0.017852</td>\n",
              "      <td>-0.057473</td>\n",
              "      <td>-0.318607</td>\n",
              "      <td>1.000000</td>\n",
              "      <td>0.101369</td>\n",
              "      <td>-0.086888</td>\n",
              "    </tr>\n",
              "    <tr>\n",
              "      <th>count</th>\n",
              "      <td>0.394454</td>\n",
              "      <td>0.389784</td>\n",
              "      <td>-0.317371</td>\n",
              "      <td>0.101369</td>\n",
              "      <td>1.000000</td>\n",
              "      <td>0.310187</td>\n",
              "    </tr>\n",
              "    <tr>\n",
              "      <th>timestamp</th>\n",
              "      <td>0.180986</td>\n",
              "      <td>0.181823</td>\n",
              "      <td>0.032856</td>\n",
              "      <td>-0.086888</td>\n",
              "      <td>0.310187</td>\n",
              "      <td>1.000000</td>\n",
              "    </tr>\n",
              "  </tbody>\n",
              "</table>\n",
              "</div>"
            ],
            "text/plain": [
              "               temp     atemp  humidity  windspeed     count  timestamp\n",
              "temp       1.000000  0.984948 -0.064949  -0.017852  0.394454   0.180986\n",
              "atemp      0.984948  1.000000 -0.043536  -0.057473  0.389784   0.181823\n",
              "humidity  -0.064949 -0.043536  1.000000  -0.318607 -0.317371   0.032856\n",
              "windspeed -0.017852 -0.057473 -0.318607   1.000000  0.101369  -0.086888\n",
              "count      0.394454  0.389784 -0.317371   0.101369  1.000000   0.310187\n",
              "timestamp  0.180986  0.181823  0.032856  -0.086888  0.310187   1.000000"
            ]
          },
          "metadata": {
            "tags": []
          },
          "execution_count": 85
        }
      ]
    },
    {
      "cell_type": "markdown",
      "metadata": {
        "id": "0Pr126nccTFp",
        "colab_type": "text"
      },
      "source": [
        "Une corrélation de 98.5 entre les deux variables est trop importante. On supprimera donc une des deux colonnes.\n",
        "\n",
        "Le choix se porte sur la température ressentie."
      ]
    },
    {
      "cell_type": "code",
      "metadata": {
        "id": "8pL6qCkMcRQ3",
        "colab_type": "code",
        "colab": {}
      },
      "source": [
        "df.drop(\"atemp\",axis=1, inplace=True)"
      ],
      "execution_count": 0,
      "outputs": []
    },
    {
      "cell_type": "markdown",
      "metadata": {
        "id": "x9BLMhIwpzDO",
        "colab_type": "text"
      },
      "source": [
        "### Analyse multivariées\n"
      ]
    },
    {
      "cell_type": "markdown",
      "metadata": {
        "id": "Qpe7p3f2zsVL",
        "colab_type": "text"
      },
      "source": [
        "On remarque que la saisonalité est très similaire d'une année sur l'autre. \n",
        "Par contre, il semble qu'il y ai près de 2 fois plus de locations en 2012"
      ]
    },
    {
      "cell_type": "code",
      "metadata": {
        "id": "GM_0Vlwqp14Y",
        "colab_type": "code",
        "outputId": "0b34f0cf-5fa5-4a87-aef5-2dcb8e15905c",
        "colab": {
          "base_uri": "https://localhost:8080/",
          "height": 295
        }
      },
      "source": [
        "ax = sns.barplot(x=\"month\", y=\"count\", hue=\"year\", data=df)\n",
        "ax.set_title(\"Nombres de locations par saison\")\n",
        "plt.show()"
      ],
      "execution_count": 87,
      "outputs": [
        {
          "output_type": "display_data",
          "data": {
            "image/png": "[encoded data removed]",
            "text/plain": [
              "<Figure size 432x288 with 1 Axes>"
            ]
          },
          "metadata": {
            "tags": []
          }
        }
      ]
    },
    {
      "cell_type": "markdown",
      "metadata": {
        "id": "_WSK6AHVz7Lb",
        "colab_type": "text"
      },
      "source": [
        "La température et l'humidité ont une influence commune sur le nombre de locations. Globalement, plus il fait chaud, moins il fait humide et plus il y a de locations.\n",
        "\n",
        "Après un certain seuil de température cepedant, le nombre de locations tend à diminuer.\n",
        "\n",
        "Température, humidité et saison sont également très liés. Il est interessant de noter qu'il fait plus chaud en hiver qu'au printemps et plus froid en été qu'en automne.  "
      ]
    },
    {
      "cell_type": "code",
      "metadata": {
        "id": "Ll8oALTjq7VT",
        "colab_type": "code",
        "outputId": "abd619f9-e545-4fd9-aec4-0c7289cc904c",
        "colab": {
          "base_uri": "https://localhost:8080/",
          "height": 459
        }
      },
      "source": [
        "sns.relplot(x=\"temp\", y=\"humidity\", hue=\"season\", size=\"count\",\n",
        "            sizes=(1, 100), alpha=.5, palette=\"muted\",\n",
        "            height=6, data=df)\n",
        "plt.plot()"
      ],
      "execution_count": 88,
      "outputs": [
        {
          "output_type": "execute_result",
          "data": {
            "text/plain": [
              "[]"
            ]
          },
          "metadata": {
            "tags": []
          },
          "execution_count": 88
        },
        {
          "output_type": "display_data",
          "data": {
            "image/png": "[encoded data removed]",
            "text/plain": [
              "<Figure size 518.75x432 with 1 Axes>"
            ]
          },
          "metadata": {
            "tags": []
          }
        }
      ]
    },
    {
      "cell_type": "markdown",
      "metadata": {
        "id": "A3YPG9F__CUz",
        "colab_type": "text"
      },
      "source": [
        "# Modeling "
      ]
    },
    {
      "cell_type": "markdown",
      "metadata": {
        "id": "XLrcbkNh_YbL",
        "colab_type": "text"
      },
      "source": [
        "## Preprocessing"
      ]
    },
    {
      "cell_type": "markdown",
      "metadata": {
        "id": "ASqpKtHlB9_a",
        "colab_type": "text"
      },
      "source": [
        "### Ajustement des variables"
      ]
    },
    {
      "cell_type": "markdown",
      "metadata": {
        "id": "vxQ3ROUK_gVX",
        "colab_type": "text"
      },
      "source": [
        "J'ai choisi de dropper la saison, car je la trouvais non significative par rapport au mois. En effet, les dates de notre dataset allant de 1 à 19, la saison n'apport pas plus d'information que le mois.\n",
        "\n",
        "J'ai également décidé de dropper la variable jour, qui n'apporte pas d'information spécifique"
      ]
    },
    {
      "cell_type": "code",
      "metadata": {
        "id": "NOM8TXg7AFqJ",
        "colab_type": "code",
        "colab": {}
      },
      "source": [
        "df = df.drop(\"season\", axis=1)\n",
        "df = df.drop(\"day\", axis=1)\n",
        "# df = df.drop(\"dayofweek\", axis=1)\n",
        "# df = df.drop(\"timestamp\", axis=1)\n",
        "# df = df.reset_index()\n",
        "# df = df.drop(\"datetime\", axis=1)"
      ],
      "execution_count": 0,
      "outputs": []
    },
    {
      "cell_type": "code",
      "metadata": {
        "id": "wf4VTyDpAdCT",
        "colab_type": "code",
        "outputId": "747c53f7-a2f6-4f60-e4e0-b40ff83b932f",
        "colab": {
          "base_uri": "https://localhost:8080/",
          "height": 260
        }
      },
      "source": [
        "df.dtypes"
      ],
      "execution_count": 90,
      "outputs": [
        {
          "output_type": "execute_result",
          "data": {
            "text/plain": [
              "datetime      datetime64[ns]\n",
              "holiday             category\n",
              "workingday          category\n",
              "weather             category\n",
              "temp                 float64\n",
              "humidity               int64\n",
              "windspeed            float64\n",
              "count                  int64\n",
              "year                category\n",
              "month               category\n",
              "hour                category\n",
              "dayofweek           category\n",
              "timestamp              int64\n",
              "dtype: object"
            ]
          },
          "metadata": {
            "tags": []
          },
          "execution_count": 90
        }
      ]
    },
    {
      "cell_type": "markdown",
      "metadata": {
        "id": "mPxUrjubBB9t",
        "colab_type": "text"
      },
      "source": [
        "Analyse du nombre de modalité des variables catégorielles. \n",
        "\n",
        "Le nombre n'étant pas trop élévé, on pourra one-hot-encoder les variables."
      ]
    },
    {
      "cell_type": "code",
      "metadata": {
        "id": "kDmBi3rMrE3d",
        "colab_type": "code",
        "outputId": "a33cbbe6-0b8e-4b10-9cb0-7f3d31c389bf",
        "colab": {
          "base_uri": "https://localhost:8080/",
          "height": 156
        }
      },
      "source": [
        "categorical_features = df.columns[df.dtypes == \"category\"].tolist()\n",
        "print(df[categorical_features].nunique())"
      ],
      "execution_count": 91,
      "outputs": [
        {
          "output_type": "stream",
          "text": [
            "holiday        2\n",
            "workingday     2\n",
            "weather        3\n",
            "year           2\n",
            "month         12\n",
            "hour          24\n",
            "dayofweek      7\n",
            "dtype: int64\n"
          ],
          "name": "stdout"
        }
      ]
    },
    {
      "cell_type": "markdown",
      "metadata": {
        "id": "bAJPc1-SBaj6",
        "colab_type": "text"
      },
      "source": [
        "### Dummification / One hot encoding"
      ]
    },
    {
      "cell_type": "markdown",
      "metadata": {
        "id": "aMqNDNGtC5F6",
        "colab_type": "text"
      },
      "source": [
        "On dummifie de manière à obtenir un dataset"
      ]
    },
    {
      "cell_type": "code",
      "metadata": {
        "id": "z0GbpWJIB4KH",
        "colab_type": "code",
        "outputId": "0cc373a6-07c2-4b62-f0c1-734a2a7367f2",
        "colab": {
          "base_uri": "https://localhost:8080/",
          "height": 1000
        }
      },
      "source": [
        "df_dummies = pd.get_dummies(df[categorical_features], drop_first=False) # TODO : tester sans et avec\n",
        "# on concatène ensuite avec le dataset original\n",
        "df_final = pd.concat([df.drop(categorical_features, axis=1), df_dummies], axis=1)\n",
        "print(df_final.shape)\n",
        "print(df_final.dtypes)"
      ],
      "execution_count": 92,
      "outputs": [
        {
          "output_type": "stream",
          "text": [
            "(10886, 58)\n",
            "datetime                      datetime64[ns]\n",
            "temp                                 float64\n",
            "humidity                               int64\n",
            "windspeed                            float64\n",
            "count                                  int64\n",
            "timestamp                              int64\n",
            "holiday_0                              uint8\n",
            "holiday_1                              uint8\n",
            "workingday_0                           uint8\n",
            "workingday_1                           uint8\n",
            "weather_brouillard                     uint8\n",
            "weather_degage_nuageux                 uint8\n",
            "weather_legere_pluie_neige             uint8\n",
            "year_2011                              uint8\n",
            "year_2012                              uint8\n",
            "month_1                                uint8\n",
            "month_2                                uint8\n",
            "month_3                                uint8\n",
            "month_4                                uint8\n",
            "month_5                                uint8\n",
            "month_6                                uint8\n",
            "month_7                                uint8\n",
            "month_8                                uint8\n",
            "month_9                                uint8\n",
            "month_10                               uint8\n",
            "month_11                               uint8\n",
            "month_12                               uint8\n",
            "hour_0                                 uint8\n",
            "hour_1                                 uint8\n",
            "hour_2                                 uint8\n",
            "hour_3                                 uint8\n",
            "hour_4                                 uint8\n",
            "hour_5                                 uint8\n",
            "hour_6                                 uint8\n",
            "hour_7                                 uint8\n",
            "hour_8                                 uint8\n",
            "hour_9                                 uint8\n",
            "hour_10                                uint8\n",
            "hour_11                                uint8\n",
            "hour_12                                uint8\n",
            "hour_13                                uint8\n",
            "hour_14                                uint8\n",
            "hour_15                                uint8\n",
            "hour_16                                uint8\n",
            "hour_17                                uint8\n",
            "hour_18                                uint8\n",
            "hour_19                                uint8\n",
            "hour_20                                uint8\n",
            "hour_21                                uint8\n",
            "hour_22                                uint8\n",
            "hour_23                                uint8\n",
            "dayofweek_dimanche                     uint8\n",
            "dayofweek_jeudi                        uint8\n",
            "dayofweek_lundi                        uint8\n",
            "dayofweek_mardi                        uint8\n",
            "dayofweek_mercredi                     uint8\n",
            "dayofweek_samedi                       uint8\n",
            "dayofweek_vendredi                     uint8\n",
            "dtype: object\n"
          ],
          "name": "stdout"
        }
      ]
    },
    {
      "cell_type": "markdown",
      "metadata": {
        "id": "fXwGY8HqDS1f",
        "colab_type": "text"
      },
      "source": [
        "### Séparation"
      ]
    },
    {
      "cell_type": "code",
      "metadata": {
        "id": "pG0YlL9aCXxa",
        "colab_type": "code",
        "outputId": "db8ef825-7a70-46f4-87be-83efdc00a3e9",
        "colab": {
          "base_uri": "https://localhost:8080/",
          "height": 222
        }
      },
      "source": [
        "y = df_final.pop('count')\n",
        "X = df_final.drop(\"datetime\", axis=1)\n",
        "X.head()"
      ],
      "execution_count": 93,
      "outputs": [
        {
          "output_type": "execute_result",
          "data": {
            "text/html": [
              "<div>\n",
              "<style scoped>\n",
              "    .dataframe tbody tr th:only-of-type {\n",
              "        vertical-align: middle;\n",
              "    }\n",
              "\n",
              "    .dataframe tbody tr th {\n",
              "        vertical-align: top;\n",
              "    }\n",
              "\n",
              "    .dataframe thead th {\n",
              "        text-align: right;\n",
              "    }\n",
              "</style>\n",
              "<table border=\"1\" class=\"dataframe\">\n",
              "  <thead>\n",
              "    <tr style=\"text-align: right;\">\n",
              "      <th></th>\n",
              "      <th>temp</th>\n",
              "      <th>humidity</th>\n",
              "      <th>windspeed</th>\n",
              "      <th>timestamp</th>\n",
              "      <th>holiday_0</th>\n",
              "      <th>holiday_1</th>\n",
              "      <th>workingday_0</th>\n",
              "      <th>workingday_1</th>\n",
              "      <th>weather_brouillard</th>\n",
              "      <th>weather_degage_nuageux</th>\n",
              "      <th>weather_legere_pluie_neige</th>\n",
              "      <th>year_2011</th>\n",
              "      <th>year_2012</th>\n",
              "      <th>month_1</th>\n",
              "      <th>month_2</th>\n",
              "      <th>month_3</th>\n",
              "      <th>month_4</th>\n",
              "      <th>month_5</th>\n",
              "      <th>month_6</th>\n",
              "      <th>month_7</th>\n",
              "      <th>month_8</th>\n",
              "      <th>month_9</th>\n",
              "      <th>month_10</th>\n",
              "      <th>month_11</th>\n",
              "      <th>month_12</th>\n",
              "      <th>hour_0</th>\n",
              "      <th>hour_1</th>\n",
              "      <th>hour_2</th>\n",
              "      <th>hour_3</th>\n",
              "      <th>hour_4</th>\n",
              "      <th>hour_5</th>\n",
              "      <th>hour_6</th>\n",
              "      <th>hour_7</th>\n",
              "      <th>hour_8</th>\n",
              "      <th>hour_9</th>\n",
              "      <th>hour_10</th>\n",
              "      <th>hour_11</th>\n",
              "      <th>hour_12</th>\n",
              "      <th>hour_13</th>\n",
              "      <th>hour_14</th>\n",
              "      <th>hour_15</th>\n",
              "      <th>hour_16</th>\n",
              "      <th>hour_17</th>\n",
              "      <th>hour_18</th>\n",
              "      <th>hour_19</th>\n",
              "      <th>hour_20</th>\n",
              "      <th>hour_21</th>\n",
              "      <th>hour_22</th>\n",
              "      <th>hour_23</th>\n",
              "      <th>dayofweek_dimanche</th>\n",
              "      <th>dayofweek_jeudi</th>\n",
              "      <th>dayofweek_lundi</th>\n",
              "      <th>dayofweek_mardi</th>\n",
              "      <th>dayofweek_mercredi</th>\n",
              "      <th>dayofweek_samedi</th>\n",
              "      <th>dayofweek_vendredi</th>\n",
              "    </tr>\n",
              "  </thead>\n",
              "  <tbody>\n",
              "    <tr>\n",
              "      <th>0</th>\n",
              "      <td>9.84</td>\n",
              "      <td>81</td>\n",
              "      <td>0.0</td>\n",
              "      <td>1293840000</td>\n",
              "      <td>1</td>\n",
              "      <td>0</td>\n",
              "      <td>1</td>\n",
              "      <td>0</td>\n",
              "      <td>0</td>\n",
              "      <td>1</td>\n",
              "      <td>0</td>\n",
              "      <td>1</td>\n",
              "      <td>0</td>\n",
              "      <td>1</td>\n",
              "      <td>0</td>\n",
              "      <td>0</td>\n",
              "      <td>0</td>\n",
              "      <td>0</td>\n",
              "      <td>0</td>\n",
              "      <td>0</td>\n",
              "      <td>0</td>\n",
              "      <td>0</td>\n",
              "      <td>0</td>\n",
              "      <td>0</td>\n",
              "      <td>0</td>\n",
              "      <td>1</td>\n",
              "      <td>0</td>\n",
              "      <td>0</td>\n",
              "      <td>0</td>\n",
              "      <td>0</td>\n",
              "      <td>0</td>\n",
              "      <td>0</td>\n",
              "      <td>0</td>\n",
              "      <td>0</td>\n",
              "      <td>0</td>\n",
              "      <td>0</td>\n",
              "      <td>0</td>\n",
              "      <td>0</td>\n",
              "      <td>0</td>\n",
              "      <td>0</td>\n",
              "      <td>0</td>\n",
              "      <td>0</td>\n",
              "      <td>0</td>\n",
              "      <td>0</td>\n",
              "      <td>0</td>\n",
              "      <td>0</td>\n",
              "      <td>0</td>\n",
              "      <td>0</td>\n",
              "      <td>0</td>\n",
              "      <td>0</td>\n",
              "      <td>0</td>\n",
              "      <td>0</td>\n",
              "      <td>0</td>\n",
              "      <td>0</td>\n",
              "      <td>1</td>\n",
              "      <td>0</td>\n",
              "    </tr>\n",
              "    <tr>\n",
              "      <th>1</th>\n",
              "      <td>9.02</td>\n",
              "      <td>80</td>\n",
              "      <td>0.0</td>\n",
              "      <td>1293843600</td>\n",
              "      <td>1</td>\n",
              "      <td>0</td>\n",
              "      <td>1</td>\n",
              "      <td>0</td>\n",
              "      <td>0</td>\n",
              "      <td>1</td>\n",
              "      <td>0</td>\n",
              "      <td>1</td>\n",
              "      <td>0</td>\n",
              "      <td>1</td>\n",
              "      <td>0</td>\n",
              "      <td>0</td>\n",
              "      <td>0</td>\n",
              "      <td>0</td>\n",
              "      <td>0</td>\n",
              "      <td>0</td>\n",
              "      <td>0</td>\n",
              "      <td>0</td>\n",
              "      <td>0</td>\n",
              "      <td>0</td>\n",
              "      <td>0</td>\n",
              "      <td>0</td>\n",
              "      <td>1</td>\n",
              "      <td>0</td>\n",
              "      <td>0</td>\n",
              "      <td>0</td>\n",
              "      <td>0</td>\n",
              "      <td>0</td>\n",
              "      <td>0</td>\n",
              "      <td>0</td>\n",
              "      <td>0</td>\n",
              "      <td>0</td>\n",
              "      <td>0</td>\n",
              "      <td>0</td>\n",
              "      <td>0</td>\n",
              "      <td>0</td>\n",
              "      <td>0</td>\n",
              "      <td>0</td>\n",
              "      <td>0</td>\n",
              "      <td>0</td>\n",
              "      <td>0</td>\n",
              "      <td>0</td>\n",
              "      <td>0</td>\n",
              "      <td>0</td>\n",
              "      <td>0</td>\n",
              "      <td>0</td>\n",
              "      <td>0</td>\n",
              "      <td>0</td>\n",
              "      <td>0</td>\n",
              "      <td>0</td>\n",
              "      <td>1</td>\n",
              "      <td>0</td>\n",
              "    </tr>\n",
              "    <tr>\n",
              "      <th>2</th>\n",
              "      <td>9.02</td>\n",
              "      <td>80</td>\n",
              "      <td>0.0</td>\n",
              "      <td>1293847200</td>\n",
              "      <td>1</td>\n",
              "      <td>0</td>\n",
              "      <td>1</td>\n",
              "      <td>0</td>\n",
              "      <td>0</td>\n",
              "      <td>1</td>\n",
              "      <td>0</td>\n",
              "      <td>1</td>\n",
              "      <td>0</td>\n",
              "      <td>1</td>\n",
              "      <td>0</td>\n",
              "      <td>0</td>\n",
              "      <td>0</td>\n",
              "      <td>0</td>\n",
              "      <td>0</td>\n",
              "      <td>0</td>\n",
              "      <td>0</td>\n",
              "      <td>0</td>\n",
              "      <td>0</td>\n",
              "      <td>0</td>\n",
              "      <td>0</td>\n",
              "      <td>0</td>\n",
              "      <td>0</td>\n",
              "      <td>1</td>\n",
              "      <td>0</td>\n",
              "      <td>0</td>\n",
              "      <td>0</td>\n",
              "      <td>0</td>\n",
              "      <td>0</td>\n",
              "      <td>0</td>\n",
              "      <td>0</td>\n",
              "      <td>0</td>\n",
              "      <td>0</td>\n",
              "      <td>0</td>\n",
              "      <td>0</td>\n",
              "      <td>0</td>\n",
              "      <td>0</td>\n",
              "      <td>0</td>\n",
              "      <td>0</td>\n",
              "      <td>0</td>\n",
              "      <td>0</td>\n",
              "      <td>0</td>\n",
              "      <td>0</td>\n",
              "      <td>0</td>\n",
              "      <td>0</td>\n",
              "      <td>0</td>\n",
              "      <td>0</td>\n",
              "      <td>0</td>\n",
              "      <td>0</td>\n",
              "      <td>0</td>\n",
              "      <td>1</td>\n",
              "      <td>0</td>\n",
              "    </tr>\n",
              "    <tr>\n",
              "      <th>3</th>\n",
              "      <td>9.84</td>\n",
              "      <td>75</td>\n",
              "      <td>0.0</td>\n",
              "      <td>1293850800</td>\n",
              "      <td>1</td>\n",
              "      <td>0</td>\n",
              "      <td>1</td>\n",
              "      <td>0</td>\n",
              "      <td>0</td>\n",
              "      <td>1</td>\n",
              "      <td>0</td>\n",
              "      <td>1</td>\n",
              "      <td>0</td>\n",
              "      <td>1</td>\n",
              "      <td>0</td>\n",
              "      <td>0</td>\n",
              "      <td>0</td>\n",
              "      <td>0</td>\n",
              "      <td>0</td>\n",
              "      <td>0</td>\n",
              "      <td>0</td>\n",
              "      <td>0</td>\n",
              "      <td>0</td>\n",
              "      <td>0</td>\n",
              "      <td>0</td>\n",
              "      <td>0</td>\n",
              "      <td>0</td>\n",
              "      <td>0</td>\n",
              "      <td>1</td>\n",
              "      <td>0</td>\n",
              "      <td>0</td>\n",
              "      <td>0</td>\n",
              "      <td>0</td>\n",
              "      <td>0</td>\n",
              "      <td>0</td>\n",
              "      <td>0</td>\n",
              "      <td>0</td>\n",
              "      <td>0</td>\n",
              "      <td>0</td>\n",
              "      <td>0</td>\n",
              "      <td>0</td>\n",
              "      <td>0</td>\n",
              "      <td>0</td>\n",
              "      <td>0</td>\n",
              "      <td>0</td>\n",
              "      <td>0</td>\n",
              "      <td>0</td>\n",
              "      <td>0</td>\n",
              "      <td>0</td>\n",
              "      <td>0</td>\n",
              "      <td>0</td>\n",
              "      <td>0</td>\n",
              "      <td>0</td>\n",
              "      <td>0</td>\n",
              "      <td>1</td>\n",
              "      <td>0</td>\n",
              "    </tr>\n",
              "    <tr>\n",
              "      <th>4</th>\n",
              "      <td>9.84</td>\n",
              "      <td>75</td>\n",
              "      <td>0.0</td>\n",
              "      <td>1293854400</td>\n",
              "      <td>1</td>\n",
              "      <td>0</td>\n",
              "      <td>1</td>\n",
              "      <td>0</td>\n",
              "      <td>0</td>\n",
              "      <td>1</td>\n",
              "      <td>0</td>\n",
              "      <td>1</td>\n",
              "      <td>0</td>\n",
              "      <td>1</td>\n",
              "      <td>0</td>\n",
              "      <td>0</td>\n",
              "      <td>0</td>\n",
              "      <td>0</td>\n",
              "      <td>0</td>\n",
              "      <td>0</td>\n",
              "      <td>0</td>\n",
              "      <td>0</td>\n",
              "      <td>0</td>\n",
              "      <td>0</td>\n",
              "      <td>0</td>\n",
              "      <td>0</td>\n",
              "      <td>0</td>\n",
              "      <td>0</td>\n",
              "      <td>0</td>\n",
              "      <td>1</td>\n",
              "      <td>0</td>\n",
              "      <td>0</td>\n",
              "      <td>0</td>\n",
              "      <td>0</td>\n",
              "      <td>0</td>\n",
              "      <td>0</td>\n",
              "      <td>0</td>\n",
              "      <td>0</td>\n",
              "      <td>0</td>\n",
              "      <td>0</td>\n",
              "      <td>0</td>\n",
              "      <td>0</td>\n",
              "      <td>0</td>\n",
              "      <td>0</td>\n",
              "      <td>0</td>\n",
              "      <td>0</td>\n",
              "      <td>0</td>\n",
              "      <td>0</td>\n",
              "      <td>0</td>\n",
              "      <td>0</td>\n",
              "      <td>0</td>\n",
              "      <td>0</td>\n",
              "      <td>0</td>\n",
              "      <td>0</td>\n",
              "      <td>1</td>\n",
              "      <td>0</td>\n",
              "    </tr>\n",
              "  </tbody>\n",
              "</table>\n",
              "</div>"
            ],
            "text/plain": [
              "   temp  humidity  ...  dayofweek_samedi  dayofweek_vendredi\n",
              "0  9.84        81  ...                 1                   0\n",
              "1  9.02        80  ...                 1                   0\n",
              "2  9.02        80  ...                 1                   0\n",
              "3  9.84        75  ...                 1                   0\n",
              "4  9.84        75  ...                 1                   0\n",
              "\n",
              "[5 rows x 56 columns]"
            ]
          },
          "metadata": {
            "tags": []
          },
          "execution_count": 93
        }
      ]
    },
    {
      "cell_type": "code",
      "metadata": {
        "id": "2LSa2gWgDjrd",
        "colab_type": "code",
        "outputId": "ed59d2b9-9378-4d12-c19b-559df8784f60",
        "colab": {
          "base_uri": "https://localhost:8080/",
          "height": 121
        }
      },
      "source": [
        "y.head()"
      ],
      "execution_count": 94,
      "outputs": [
        {
          "output_type": "execute_result",
          "data": {
            "text/plain": [
              "0    16\n",
              "1    40\n",
              "2    32\n",
              "3    13\n",
              "4     1\n",
              "Name: count, dtype: int64"
            ]
          },
          "metadata": {
            "tags": []
          },
          "execution_count": 94
        }
      ]
    },
    {
      "cell_type": "code",
      "metadata": {
        "id": "RtW9ppabDsuQ",
        "colab_type": "code",
        "outputId": "eaa489eb-8791-442f-b917-12faf4ef873a",
        "colab": {
          "base_uri": "https://localhost:8080/",
          "height": 35
        }
      },
      "source": [
        "print(X.isna().sum().sum() == 0)"
      ],
      "execution_count": 95,
      "outputs": [
        {
          "output_type": "stream",
          "text": [
            "True\n"
          ],
          "name": "stdout"
        }
      ]
    },
    {
      "cell_type": "markdown",
      "metadata": {
        "id": "fa6t7SQypR2F",
        "colab_type": "text"
      },
      "source": [
        "Séparation train / test"
      ]
    },
    {
      "cell_type": "code",
      "metadata": {
        "id": "4trjWRfupW21",
        "colab_type": "code",
        "outputId": "aae5ee3a-59b4-4851-f51d-470711b1b410",
        "colab": {
          "base_uri": "https://localhost:8080/",
          "height": 87
        }
      },
      "source": [
        "from sklearn.model_selection import train_test_split\n",
        "X_train, X_test, y_train, y_test = train_test_split(X, y, test_size=0.2, random_state=777)\n",
        "print(f\"X train shape  {X_train.shape}\")\n",
        "print(f\"y train shape  {y_train.shape}\")\n",
        "print(f\"X test shape  {X_test.shape}\")\n",
        "print(f\"y test shape  {y_test.shape}\")"
      ],
      "execution_count": 96,
      "outputs": [
        {
          "output_type": "stream",
          "text": [
            "X train shape  (8708, 56)\n",
            "y train shape  (8708,)\n",
            "X test shape  (2178, 56)\n",
            "y test shape  (2178,)\n"
          ],
          "name": "stdout"
        }
      ]
    },
    {
      "cell_type": "markdown",
      "metadata": {
        "id": "U6y6zJ9Kpb8K",
        "colab_type": "text"
      },
      "source": [
        "### Imputation"
      ]
    },
    {
      "cell_type": "code",
      "metadata": {
        "id": "ZLQRxgfKpdzO",
        "colab_type": "code",
        "colab": {}
      },
      "source": [
        "# from sklearn.preprocessing import StandardScaler\n",
        "# imp = StandardScaler()\n",
        "\n",
        "# X_train = imp.fit_transform(X_train)\n",
        "# X_test = imp.transform(X_test)\n"
      ],
      "execution_count": 0,
      "outputs": []
    },
    {
      "cell_type": "markdown",
      "metadata": {
        "id": "m7Xz681yqYI7",
        "colab_type": "text"
      },
      "source": [
        "## Regression linéaire\n"
      ]
    },
    {
      "cell_type": "markdown",
      "metadata": {
        "id": "8IrcuvPwMIQu",
        "colab_type": "text"
      },
      "source": [
        "### Construction du modèle"
      ]
    },
    {
      "cell_type": "code",
      "metadata": {
        "id": "9J4pZO2Uqc2z",
        "colab_type": "code",
        "colab": {}
      },
      "source": [
        "from sklearn import datasets, linear_model\n",
        "from sklearn.metrics import mean_squared_error, r2_score\n",
        "\n",
        "regr = linear_model.LinearRegression(normalize=False)\n",
        "regr.fit(X_train, y_train)\n",
        "\n",
        "y_pred = regr.predict(X_test)\n",
        "y_predtrain = regr.predict(X_train)"
      ],
      "execution_count": 0,
      "outputs": []
    },
    {
      "cell_type": "markdown",
      "metadata": {
        "id": "YCY3Kno8MFm9",
        "colab_type": "text"
      },
      "source": [
        "### Analyse des résultats"
      ]
    },
    {
      "cell_type": "code",
      "metadata": {
        "id": "0And6sGhCUV5",
        "colab_type": "code",
        "outputId": "9ad39f4e-f60f-4e56-f0e8-c9f45b6f931b",
        "colab": {
          "base_uri": "https://localhost:8080/",
          "height": 69
        }
      },
      "source": [
        "\n",
        "print(f\"Mean squared error: {mean_squared_error(y_test, y_pred)}\")\n",
        "print(f\"Mean squared error: {mean_squared_error(y_train, y_predtrain)}\")\n",
        "print('Variance score: %.2f' % r2_score(y_test, y_pred))\n"
      ],
      "execution_count": 98,
      "outputs": [
        {
          "output_type": "stream",
          "text": [
            "Mean squared error: 10442.573153978188\n",
            "Mean squared error: 9929.658814499955\n",
            "Variance score: 0.69\n"
          ],
          "name": "stdout"
        }
      ]
    },
    {
      "cell_type": "markdown",
      "metadata": {
        "id": "BU3WbH0ZL9x5",
        "colab_type": "text"
      },
      "source": [
        "### Analyse des  coefficients de la regression linéaire"
      ]
    },
    {
      "cell_type": "markdown",
      "metadata": {
        "id": "1uWKjZ9s90Hh",
        "colab_type": "text"
      },
      "source": [
        ""
      ]
    },
    {
      "cell_type": "code",
      "metadata": {
        "id": "hqII0pItDxvH",
        "colab_type": "code",
        "outputId": "611674de-3e0a-41bf-9215-060b7694a28b",
        "colab": {
          "base_uri": "https://localhost:8080/",
          "height": 1000
        }
      },
      "source": [
        "\n",
        "for index, col in enumerate(X):\n",
        "  print(index, col, regr.coef_[index])\n",
        "\n",
        "print('Coefficients: \\n', regr.coef_)\n",
        "print(X.shape)\n",
        "regr.get_params()"
      ],
      "execution_count": 99,
      "outputs": [
        {
          "output_type": "stream",
          "text": [
            "0 temp 5.039459308594915\n",
            "1 humidity -0.7838253882154148\n",
            "2 windspeed -0.6246655801673384\n",
            "3 timestamp 4.460083729895814e-06\n",
            "4 holiday_0 1.659460417229333\n",
            "5 holiday_1 -1.6594427595140786\n",
            "6 workingday_0 0.15742822013872626\n",
            "7 workingday_1 -0.1574319205719803\n",
            "8 weather_brouillard 14.689747054873237\n",
            "9 weather_degage_nuageux 25.575512246723754\n",
            "10 weather_legere_pluie_neige -40.26526632374614\n",
            "11 year_2011 26.50387486413991\n",
            "12 year_2012 -26.50387174512216\n",
            "13 month_1 6.194444939118448\n",
            "14 month_2 8.757339236983828\n",
            "15 month_3 17.67543705481993\n",
            "16 month_4 29.080606347125467\n",
            "17 month_5 43.08346400661755\n",
            "18 month_6 20.327071934239576\n",
            "19 month_7 -22.88417210851565\n",
            "20 month_8 -23.05482619665805\n",
            "21 month_9 -11.398114481061555\n",
            "22 month_10 2.5803277745592226\n",
            "23 month_11 -29.632590949077866\n",
            "24 month_12 -40.728961084768\n",
            "25 hour_0 -126.41287282664739\n",
            "26 hour_1 -144.096779236615\n",
            "27 hour_2 -157.2264166582229\n",
            "28 hour_3 -165.13005565190699\n",
            "29 hour_4 -167.2530577465358\n",
            "30 hour_5 -152.27073065610807\n",
            "31 hour_6 -89.33272168502805\n",
            "32 hour_7 42.627934908616105\n",
            "33 hour_8 185.1373579277861\n",
            "34 hour_9 38.5081335206055\n",
            "35 hour_10 -15.681270281542687\n",
            "36 hour_11 7.270820170501523\n",
            "37 hour_12 52.35437846924671\n",
            "38 hour_13 48.85270368344983\n",
            "39 hour_14 28.502390574338648\n",
            "40 hour_15 43.7475352264841\n",
            "41 hour_16 104.23193519994425\n",
            "42 hour_17 255.4910867564621\n",
            "43 hour_18 228.74314914299387\n",
            "44 hour_19 115.27292059209357\n",
            "45 hour_20 32.70045095142654\n",
            "46 hour_21 -17.81275517867776\n",
            "47 hour_22 -54.253230363995094\n",
            "48 hour_23 -93.97091215318147\n",
            "49 dayofweek_dimanche -10.251214913578579\n",
            "50 dayofweek_jeudi 0.22626690892124657\n",
            "51 dayofweek_lundi -6.131786750142089\n",
            "52 dayofweek_mardi -0.7067823903249142\n",
            "53 dayofweek_mercredi -0.35628486278464777\n",
            "54 dayofweek_samedi 12.06807963051417\n",
            "55 dayofweek_vendredi 5.151720237617475\n",
            "Coefficients: \n",
            " [ 5.03945931e+00 -7.83825388e-01 -6.24665580e-01  4.46008373e-06\n",
            "  1.65946042e+00 -1.65944276e+00  1.57428220e-01 -1.57431921e-01\n",
            "  1.46897471e+01  2.55755122e+01 -4.02652663e+01  2.65038749e+01\n",
            " -2.65038717e+01  6.19444494e+00  8.75733924e+00  1.76754371e+01\n",
            "  2.90806063e+01  4.30834640e+01  2.03270719e+01 -2.28841721e+01\n",
            " -2.30548262e+01 -1.13981145e+01  2.58032777e+00 -2.96325909e+01\n",
            " -4.07289611e+01 -1.26412873e+02 -1.44096779e+02 -1.57226417e+02\n",
            " -1.65130056e+02 -1.67253058e+02 -1.52270731e+02 -8.93327217e+01\n",
            "  4.26279349e+01  1.85137358e+02  3.85081335e+01 -1.56812703e+01\n",
            "  7.27082017e+00  5.23543785e+01  4.88527037e+01  2.85023906e+01\n",
            "  4.37475352e+01  1.04231935e+02  2.55491087e+02  2.28743149e+02\n",
            "  1.15272921e+02  3.27004510e+01 -1.78127552e+01 -5.42532304e+01\n",
            " -9.39709122e+01 -1.02512149e+01  2.26266909e-01 -6.13178675e+00\n",
            " -7.06782390e-01 -3.56284863e-01  1.20680796e+01  5.15172024e+00]\n",
            "(10886, 56)\n"
          ],
          "name": "stdout"
        },
        {
          "output_type": "execute_result",
          "data": {
            "text/plain": [
              "{'copy_X': True, 'fit_intercept': True, 'n_jobs': None, 'normalize': False}"
            ]
          },
          "metadata": {
            "tags": []
          },
          "execution_count": 99
        }
      ]
    },
    {
      "cell_type": "code",
      "metadata": {
        "id": "SF2jPnnBFedE",
        "colab_type": "code",
        "colab": {}
      },
      "source": [
        ""
      ],
      "execution_count": 0,
      "outputs": []
    }
  ]
}