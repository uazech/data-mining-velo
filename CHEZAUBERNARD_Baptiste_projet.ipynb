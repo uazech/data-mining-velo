{
  "nbformat": 4,
  "nbformat_minor": 0,
  "metadata": {
    "kernelspec": {
      "name": "python3",
      "display_name": "Python 3"
    },
    "toc": {
      "colors": {
        "hover_highlight": "#DAA520",
        "running_highlight": "#FF0000",
        "selected_highlight": "#FFD700"
      },
      "moveMenuLeft": true,
      "nav_menu": {
        "height": "30px",
        "width": "252px"
      },
      "navigate_menu": true,
      "number_sections": true,
      "sideBar": true,
      "threshold": 4,
      "toc_cell": false,
      "toc_section_display": "block",
      "toc_window_display": false,
      "widenNotebook": false
    },
    "colab": {
      "name": "projet_velo_sujet.ipynb",
      "provenance": [],
      "collapsed_sections": [],
      "toc_visible": true
    },
    "accelerator": "GPU"
  },
  "cells": [
    {
      "cell_type": "markdown",
      "metadata": {
        "id": "Z0vrPTarI7UI",
        "colab_type": "text"
      },
      "source": [
        "# Introduction\n",
        "\n",
        "Ce projet a été réalisé par Baptiste Chezaubernard dans le cadre du cours de data mining par l'application.\n",
        "\n",
        "Il suit le plan suivant :\n",
        "1. Présentation du sujet\n",
        "2. Lecture et préparation des données\n",
        "3. Exploration des données\n",
        "4. Modeling\n",
        "5. Conclusion"
      ]
    },
    {
      "cell_type": "markdown",
      "metadata": {
        "id": "k13a0XH7Iu6U",
        "colab_type": "text"
      },
      "source": [
        "# 1. Présentation du sujet"
      ]
    },
    {
      "cell_type": "markdown",
      "metadata": {
        "id": "8F4hB8IfsXOw",
        "colab_type": "text"
      },
      "source": [
        "Le projet consiste à prévoir le nombre de vélos loués à chaque heure dans des bornes libres-services de la ville (système type Vélib'). La variable cible est ici la variable **count**.\n",
        "\n",
        "Voici un descriptif de l'ensemble des variables :\n",
        "* *datetime* - date et heure du relevé \n",
        "* *season* - 1 = printemps , 2 = été, 3 = automne, 4 = hiver \n",
        "* *holiday* – indique si le jour est un jour de vacances scolaires \n",
        "* *workingday* - indique si le jour est travaillé (ni week-end ni vacances) \n",
        "* *weather* - 1: Dégagé à nuageux, 2 : Brouillard, 3 : Légère pluie ou neige, 4 : Fortes averses ou neiges \n",
        "* *temp* – température en degrés Celsius \n",
        "* *atemp* – température ressentie en degrés Celsius \n",
        "* *humidity* – taux d’humidité \n",
        "* *windspeed* – vitesse du vent \n",
        "* *casual* - nombre de locations d’usagers non abonnés \n",
        "* *registered* – nombre de locations d’usagers abonnés \n",
        "* *count* – nombre total de locations de vélos "
      ]
    },
    {
      "cell_type": "markdown",
      "metadata": {
        "id": "BAX6dYkSsXOx",
        "colab_type": "text"
      },
      "source": [
        "L'objectif du projet est de mener à bien la création d'un modèle qui pourrait théoriquement être déployé en production. Les étapes d'exploration des données, de traitement et de preprocessing ne sont bien entendu pas à négliger. Il ne s'agit pas d'une compétition de type *Kaggle*, le projet ne sera pas uniquement noté sur la performance du modèle, mais plutôt sur votre approche complète et la justification de chacun de vos choix.\n",
        "\n",
        "Comme vu durant le cours, soyez faites attention à certains points :\n",
        "- quel type de problème dois-je traiter ?\n",
        "- feature engineering : est-ce que j'utilise les données correctement, toutes les données ?\n",
        "- data leakage : est-ce qu'une de mes features n'est pas trop explicative ?\n",
        "- ai-je bien traité toutes les données correctement ?\n",
        "- est-ce que mon modèle est adapté ?\n",
        "- etc, etc, etc\n",
        "\n",
        "Soyez vigilant à expliquer et justifier votre démarche à l'aide de visualisation, de commentaires dans vos codes (pensez aux cellules markdown), etc"
      ]
    },
    {
      "cell_type": "code",
      "metadata": {
        "ExecuteTime": {
          "end_time": "2018-01-23T21:07:13.585997Z",
          "start_time": "2018-01-23T21:07:11.883063Z"
        },
        "id": "2cX6e_DUsXOx",
        "colab_type": "code",
        "colab": {}
      },
      "source": [
        "import pandas as pd\n",
        "import numpy as np\n",
        "\n",
        "import matplotlib.pyplot as plt\n",
        "import seaborn as sns\n",
        "%matplotlib inline"
      ],
      "execution_count": 0,
      "outputs": []
    },
    {
      "cell_type": "markdown",
      "metadata": {
        "id": "FzrooXRZvEoC",
        "colab_type": "text"
      },
      "source": [
        "# 2. Lecture et préparation des données"
      ]
    },
    {
      "cell_type": "markdown",
      "metadata": {
        "id": "FspUXumAvUjd",
        "colab_type": "text"
      },
      "source": [
        "##Lecture des données"
      ]
    },
    {
      "cell_type": "markdown",
      "metadata": {
        "id": "Q1hHinhWvYlg",
        "colab_type": "text"
      },
      "source": [
        "Chargement du fichier velo.csv et affichage des données\n",
        "\n"
      ]
    },
    {
      "cell_type": "code",
      "metadata": {
        "ExecuteTime": {
          "end_time": "2018-01-23T21:08:16.102718Z",
          "start_time": "2018-01-23T21:08:16.035614Z"
        },
        "id": "iZf2UzRYsXO0",
        "colab_type": "code",
        "outputId": "b7fc39cc-ab8c-4f72-d0d4-9b723fd53d8b",
        "colab": {
          "base_uri": "https://localhost:8080/",
          "height": 394
        }
      },
      "source": [
        "url = \"https://raw.githubusercontent.com/uazech/data-mining-velo/master/data/input/velo.csv\"\n",
        "df = pd.read_csv(url)\n",
        "df.head()"
      ],
      "execution_count": 2,
      "outputs": [
        {
          "output_type": "execute_result",
          "data": {
            "text/html": [
              "<div>\n",
              "<style scoped>\n",
              "    .dataframe tbody tr th:only-of-type {\n",
              "        vertical-align: middle;\n",
              "    }\n",
              "\n",
              "    .dataframe tbody tr th {\n",
              "        vertical-align: top;\n",
              "    }\n",
              "\n",
              "    .dataframe thead th {\n",
              "        text-align: right;\n",
              "    }\n",
              "</style>\n",
              "<table border=\"1\" class=\"dataframe\">\n",
              "  <thead>\n",
              "    <tr style=\"text-align: right;\">\n",
              "      <th></th>\n",
              "      <th>datetime</th>\n",
              "      <th>season</th>\n",
              "      <th>holiday</th>\n",
              "      <th>workingday</th>\n",
              "      <th>weather</th>\n",
              "      <th>temp</th>\n",
              "      <th>atemp</th>\n",
              "      <th>humidity</th>\n",
              "      <th>windspeed</th>\n",
              "      <th>casual</th>\n",
              "      <th>registered</th>\n",
              "      <th>count</th>\n",
              "    </tr>\n",
              "  </thead>\n",
              "  <tbody>\n",
              "    <tr>\n",
              "      <th>0</th>\n",
              "      <td>2011-01-01 00:00:00</td>\n",
              "      <td>1</td>\n",
              "      <td>0</td>\n",
              "      <td>0</td>\n",
              "      <td>1</td>\n",
              "      <td>9.84</td>\n",
              "      <td>14.395</td>\n",
              "      <td>81</td>\n",
              "      <td>0.0</td>\n",
              "      <td>3</td>\n",
              "      <td>13</td>\n",
              "      <td>16</td>\n",
              "    </tr>\n",
              "    <tr>\n",
              "      <th>1</th>\n",
              "      <td>2011-01-01 01:00:00</td>\n",
              "      <td>1</td>\n",
              "      <td>0</td>\n",
              "      <td>0</td>\n",
              "      <td>1</td>\n",
              "      <td>9.02</td>\n",
              "      <td>13.635</td>\n",
              "      <td>80</td>\n",
              "      <td>0.0</td>\n",
              "      <td>8</td>\n",
              "      <td>32</td>\n",
              "      <td>40</td>\n",
              "    </tr>\n",
              "    <tr>\n",
              "      <th>2</th>\n",
              "      <td>2011-01-01 02:00:00</td>\n",
              "      <td>1</td>\n",
              "      <td>0</td>\n",
              "      <td>0</td>\n",
              "      <td>1</td>\n",
              "      <td>9.02</td>\n",
              "      <td>13.635</td>\n",
              "      <td>80</td>\n",
              "      <td>0.0</td>\n",
              "      <td>5</td>\n",
              "      <td>27</td>\n",
              "      <td>32</td>\n",
              "    </tr>\n",
              "    <tr>\n",
              "      <th>3</th>\n",
              "      <td>2011-01-01 03:00:00</td>\n",
              "      <td>1</td>\n",
              "      <td>0</td>\n",
              "      <td>0</td>\n",
              "      <td>1</td>\n",
              "      <td>9.84</td>\n",
              "      <td>14.395</td>\n",
              "      <td>75</td>\n",
              "      <td>0.0</td>\n",
              "      <td>3</td>\n",
              "      <td>10</td>\n",
              "      <td>13</td>\n",
              "    </tr>\n",
              "    <tr>\n",
              "      <th>4</th>\n",
              "      <td>2011-01-01 04:00:00</td>\n",
              "      <td>1</td>\n",
              "      <td>0</td>\n",
              "      <td>0</td>\n",
              "      <td>1</td>\n",
              "      <td>9.84</td>\n",
              "      <td>14.395</td>\n",
              "      <td>75</td>\n",
              "      <td>0.0</td>\n",
              "      <td>0</td>\n",
              "      <td>1</td>\n",
              "      <td>1</td>\n",
              "    </tr>\n",
              "  </tbody>\n",
              "</table>\n",
              "</div>"
            ],
            "text/plain": [
              "              datetime  season  holiday  ...  casual  registered  count\n",
              "0  2011-01-01 00:00:00       1        0  ...       3          13     16\n",
              "1  2011-01-01 01:00:00       1        0  ...       8          32     40\n",
              "2  2011-01-01 02:00:00       1        0  ...       5          27     32\n",
              "3  2011-01-01 03:00:00       1        0  ...       3          10     13\n",
              "4  2011-01-01 04:00:00       1        0  ...       0           1      1\n",
              "\n",
              "[5 rows x 12 columns]"
            ]
          },
          "metadata": {
            "tags": []
          },
          "execution_count": 2
        }
      ]
    },
    {
      "cell_type": "markdown",
      "metadata": {
        "id": "ktSBhj8Ww3DO",
        "colab_type": "text"
      },
      "source": [
        "Affichage du nombre de modalités uniques par colonne. Permet de vérifier qu'il n'y a pas d'anomalies dans les données. "
      ]
    },
    {
      "cell_type": "code",
      "metadata": {
        "id": "A3fl58L_wdKA",
        "colab_type": "code",
        "outputId": "1a5db731-3793-46e1-f069-9a180b5d334a",
        "colab": {
          "base_uri": "https://localhost:8080/",
          "height": 238
        }
      },
      "source": [
        "df.nunique()"
      ],
      "execution_count": 3,
      "outputs": [
        {
          "output_type": "execute_result",
          "data": {
            "text/plain": [
              "datetime      10886\n",
              "season            4\n",
              "holiday           2\n",
              "workingday        2\n",
              "weather           4\n",
              "temp             49\n",
              "atemp            60\n",
              "humidity         89\n",
              "windspeed        28\n",
              "casual          309\n",
              "registered      731\n",
              "count           822\n",
              "dtype: int64"
            ]
          },
          "metadata": {
            "tags": []
          },
          "execution_count": 3
        }
      ]
    },
    {
      "cell_type": "markdown",
      "metadata": {
        "id": "jdEk-nezxC3-",
        "colab_type": "text"
      },
      "source": [
        "Affichage du nombre de valeur manquante par colonne, afin de vérifier si on doit les traiter ou non.\n",
        "\n",
        "Il n'y a pas de valeur manquante."
      ]
    },
    {
      "cell_type": "code",
      "metadata": {
        "id": "1Ib8jQ2_xIIZ",
        "colab_type": "code",
        "outputId": "ddb6a5b3-9c11-4114-9842-d54266456c3e",
        "colab": {
          "base_uri": "https://localhost:8080/",
          "height": 238
        }
      },
      "source": [
        "df.isna().sum()"
      ],
      "execution_count": 4,
      "outputs": [
        {
          "output_type": "execute_result",
          "data": {
            "text/plain": [
              "datetime      0\n",
              "season        0\n",
              "holiday       0\n",
              "workingday    0\n",
              "weather       0\n",
              "temp          0\n",
              "atemp         0\n",
              "humidity      0\n",
              "windspeed     0\n",
              "casual        0\n",
              "registered    0\n",
              "count         0\n",
              "dtype: int64"
            ]
          },
          "metadata": {
            "tags": []
          },
          "execution_count": 4
        }
      ]
    },
    {
      "cell_type": "markdown",
      "metadata": {
        "id": "5Isd_veuveRf",
        "colab_type": "text"
      },
      "source": [
        "Affichage des types de chaque feature. On remarque que : \n",
        "* La variable ```season``` est une variable catégorielle, et ne devrait pas être de type entier\n",
        "* La variable ```datetime``` est considérée comme une variable catégorielle, à convertir en timeserie\n",
        "* La variable ```weather``` est considérée comme une variable entière, alors qu'elle devrait être de type catégorielle"
      ]
    },
    {
      "cell_type": "code",
      "metadata": {
        "id": "9iEvF80gsXO2",
        "colab_type": "code",
        "outputId": "8e528aa2-1348-436f-c030-9a97ab004b42",
        "colab": {
          "base_uri": "https://localhost:8080/",
          "height": 238
        }
      },
      "source": [
        "df.dtypes"
      ],
      "execution_count": 5,
      "outputs": [
        {
          "output_type": "execute_result",
          "data": {
            "text/plain": [
              "datetime       object\n",
              "season          int64\n",
              "holiday         int64\n",
              "workingday      int64\n",
              "weather         int64\n",
              "temp          float64\n",
              "atemp         float64\n",
              "humidity        int64\n",
              "windspeed     float64\n",
              "casual          int64\n",
              "registered      int64\n",
              "count           int64\n",
              "dtype: object"
            ]
          },
          "metadata": {
            "tags": []
          },
          "execution_count": 5
        }
      ]
    },
    {
      "cell_type": "markdown",
      "metadata": {
        "id": "lLioA1LlzP3n",
        "colab_type": "text"
      },
      "source": [
        "Deux variables semblent suspectes. En effet, dans l'affichage du head précédent, la target était égale à la somme des deux variable registered et casual.\n",
        "\n",
        "Dans la description des données, ces deux variables semblent également liées."
      ]
    },
    {
      "cell_type": "code",
      "metadata": {
        "id": "Gf1PDTuywGNu",
        "colab_type": "code",
        "outputId": "54ce631b-d097-49f0-a313-38234f1eec07",
        "colab": {
          "base_uri": "https://localhost:8080/",
          "height": 238
        }
      },
      "source": [
        "\n",
        "df[df[\"count\"] == df[\"registered\"] + df[\"casual\"]].count() == df.count()"
      ],
      "execution_count": 6,
      "outputs": [
        {
          "output_type": "execute_result",
          "data": {
            "text/plain": [
              "datetime      True\n",
              "season        True\n",
              "holiday       True\n",
              "workingday    True\n",
              "weather       True\n",
              "temp          True\n",
              "atemp         True\n",
              "humidity      True\n",
              "windspeed     True\n",
              "casual        True\n",
              "registered    True\n",
              "count         True\n",
              "dtype: bool"
            ]
          },
          "metadata": {
            "tags": []
          },
          "execution_count": 6
        }
      ]
    },
    {
      "cell_type": "markdown",
      "metadata": {
        "id": "C8Ia4iEV02bE",
        "colab_type": "text"
      },
      "source": [
        "Les données sont effectivement liées. Les colonnes casual et registered seront à supprimer lors de la préparation des données. \n",
        "En effet, on ne connait pas le nombre de locations de vélo de type casual et registred lorsque l'on cherche à prédire le nombre de locations pour une journée."
      ]
    },
    {
      "cell_type": "markdown",
      "metadata": {
        "id": "v-0e_cc9zEZ4",
        "colab_type": "text"
      },
      "source": [
        "## Préparation des données"
      ]
    },
    {
      "cell_type": "markdown",
      "metadata": {
        "id": "_S0IYwy9v-MP",
        "colab_type": "text"
      },
      "source": [
        "Catégorisation des colonnes et changement des valeurs associées aux libellés"
      ]
    },
    {
      "cell_type": "code",
      "metadata": {
        "id": "RVCvBxOfv9C9",
        "colab_type": "code",
        "colab": {}
      },
      "source": [
        "# Changement du type en série temporelle\n",
        "df['datetime'] = pd.to_datetime(df['datetime'])  \n",
        "\n",
        "# changement des types en catégoriels\n",
        "df[\"season\"] = df.season.map({1:\"printemps\", 2:\"ete\", 3:\"automne\", 4:\"hiver\"})\n",
        "df[\"weather\"] = df.weather.map({1:\"degage_nuageux\", 2:\"brouillard\", 3:\"legere_pluie_neige\", 4:\"forte_averses_neige\"})\n",
        "df[\"season\"] = pd.Categorical(df[\"season\"], ordered=False)\n",
        "df[\"weather\"] = pd.Categorical(df[\"weather\"], ordered=False)\n",
        "df[\"holiday\"] = pd.Categorical(df[\"holiday\"], ordered=False)\n",
        "df[\"workingday\"] = pd.Categorical(df[\"workingday\"], ordered=False)\n"
      ],
      "execution_count": 0,
      "outputs": []
    },
    {
      "cell_type": "markdown",
      "metadata": {
        "id": "0Y5A-3t23IX9",
        "colab_type": "text"
      },
      "source": [
        "Suppression des colonnes casual et registred"
      ]
    },
    {
      "cell_type": "code",
      "metadata": {
        "id": "l9KF4Yt20WZ4",
        "colab_type": "code",
        "colab": {}
      },
      "source": [
        "df = df.drop(\"casual\", axis=1)\n",
        "df = df.drop(\"registered\", axis=1)"
      ],
      "execution_count": 0,
      "outputs": []
    },
    {
      "cell_type": "markdown",
      "metadata": {
        "id": "Q1PKuiR4_Us8",
        "colab_type": "text"
      },
      "source": [
        "Définition de l'index du dataframe.\n",
        "\n",
        "On choisit ici la colonne datetime, car les valeurs sont caractéristiques des données et qu'il n'y a pas de doublons."
      ]
    },
    {
      "cell_type": "code",
      "metadata": {
        "id": "15cmDG20_dic",
        "colab_type": "code",
        "outputId": "9bc22d9b-29b7-4408-84d7-6bee20f11ab8",
        "colab": {
          "base_uri": "https://localhost:8080/",
          "height": 620
        }
      },
      "source": [
        "df.set_index(\"datetime\")"
      ],
      "execution_count": 9,
      "outputs": [
        {
          "output_type": "execute_result",
          "data": {
            "text/html": [
              "<div>\n",
              "<style scoped>\n",
              "    .dataframe tbody tr th:only-of-type {\n",
              "        vertical-align: middle;\n",
              "    }\n",
              "\n",
              "    .dataframe tbody tr th {\n",
              "        vertical-align: top;\n",
              "    }\n",
              "\n",
              "    .dataframe thead th {\n",
              "        text-align: right;\n",
              "    }\n",
              "</style>\n",
              "<table border=\"1\" class=\"dataframe\">\n",
              "  <thead>\n",
              "    <tr style=\"text-align: right;\">\n",
              "      <th></th>\n",
              "      <th>season</th>\n",
              "      <th>holiday</th>\n",
              "      <th>workingday</th>\n",
              "      <th>weather</th>\n",
              "      <th>temp</th>\n",
              "      <th>atemp</th>\n",
              "      <th>humidity</th>\n",
              "      <th>windspeed</th>\n",
              "      <th>count</th>\n",
              "    </tr>\n",
              "    <tr>\n",
              "      <th>datetime</th>\n",
              "      <th></th>\n",
              "      <th></th>\n",
              "      <th></th>\n",
              "      <th></th>\n",
              "      <th></th>\n",
              "      <th></th>\n",
              "      <th></th>\n",
              "      <th></th>\n",
              "      <th></th>\n",
              "    </tr>\n",
              "  </thead>\n",
              "  <tbody>\n",
              "    <tr>\n",
              "      <th>2011-01-01 00:00:00</th>\n",
              "      <td>printemps</td>\n",
              "      <td>0</td>\n",
              "      <td>0</td>\n",
              "      <td>degage_nuageux</td>\n",
              "      <td>9.84</td>\n",
              "      <td>14.395</td>\n",
              "      <td>81</td>\n",
              "      <td>0.0000</td>\n",
              "      <td>16</td>\n",
              "    </tr>\n",
              "    <tr>\n",
              "      <th>2011-01-01 01:00:00</th>\n",
              "      <td>printemps</td>\n",
              "      <td>0</td>\n",
              "      <td>0</td>\n",
              "      <td>degage_nuageux</td>\n",
              "      <td>9.02</td>\n",
              "      <td>13.635</td>\n",
              "      <td>80</td>\n",
              "      <td>0.0000</td>\n",
              "      <td>40</td>\n",
              "    </tr>\n",
              "    <tr>\n",
              "      <th>2011-01-01 02:00:00</th>\n",
              "      <td>printemps</td>\n",
              "      <td>0</td>\n",
              "      <td>0</td>\n",
              "      <td>degage_nuageux</td>\n",
              "      <td>9.02</td>\n",
              "      <td>13.635</td>\n",
              "      <td>80</td>\n",
              "      <td>0.0000</td>\n",
              "      <td>32</td>\n",
              "    </tr>\n",
              "    <tr>\n",
              "      <th>2011-01-01 03:00:00</th>\n",
              "      <td>printemps</td>\n",
              "      <td>0</td>\n",
              "      <td>0</td>\n",
              "      <td>degage_nuageux</td>\n",
              "      <td>9.84</td>\n",
              "      <td>14.395</td>\n",
              "      <td>75</td>\n",
              "      <td>0.0000</td>\n",
              "      <td>13</td>\n",
              "    </tr>\n",
              "    <tr>\n",
              "      <th>2011-01-01 04:00:00</th>\n",
              "      <td>printemps</td>\n",
              "      <td>0</td>\n",
              "      <td>0</td>\n",
              "      <td>degage_nuageux</td>\n",
              "      <td>9.84</td>\n",
              "      <td>14.395</td>\n",
              "      <td>75</td>\n",
              "      <td>0.0000</td>\n",
              "      <td>1</td>\n",
              "    </tr>\n",
              "    <tr>\n",
              "      <th>...</th>\n",
              "      <td>...</td>\n",
              "      <td>...</td>\n",
              "      <td>...</td>\n",
              "      <td>...</td>\n",
              "      <td>...</td>\n",
              "      <td>...</td>\n",
              "      <td>...</td>\n",
              "      <td>...</td>\n",
              "      <td>...</td>\n",
              "    </tr>\n",
              "    <tr>\n",
              "      <th>2012-12-19 19:00:00</th>\n",
              "      <td>hiver</td>\n",
              "      <td>0</td>\n",
              "      <td>1</td>\n",
              "      <td>degage_nuageux</td>\n",
              "      <td>15.58</td>\n",
              "      <td>19.695</td>\n",
              "      <td>50</td>\n",
              "      <td>26.0027</td>\n",
              "      <td>336</td>\n",
              "    </tr>\n",
              "    <tr>\n",
              "      <th>2012-12-19 20:00:00</th>\n",
              "      <td>hiver</td>\n",
              "      <td>0</td>\n",
              "      <td>1</td>\n",
              "      <td>degage_nuageux</td>\n",
              "      <td>14.76</td>\n",
              "      <td>17.425</td>\n",
              "      <td>57</td>\n",
              "      <td>15.0013</td>\n",
              "      <td>241</td>\n",
              "    </tr>\n",
              "    <tr>\n",
              "      <th>2012-12-19 21:00:00</th>\n",
              "      <td>hiver</td>\n",
              "      <td>0</td>\n",
              "      <td>1</td>\n",
              "      <td>degage_nuageux</td>\n",
              "      <td>13.94</td>\n",
              "      <td>15.910</td>\n",
              "      <td>61</td>\n",
              "      <td>15.0013</td>\n",
              "      <td>168</td>\n",
              "    </tr>\n",
              "    <tr>\n",
              "      <th>2012-12-19 22:00:00</th>\n",
              "      <td>hiver</td>\n",
              "      <td>0</td>\n",
              "      <td>1</td>\n",
              "      <td>degage_nuageux</td>\n",
              "      <td>13.94</td>\n",
              "      <td>17.425</td>\n",
              "      <td>61</td>\n",
              "      <td>6.0032</td>\n",
              "      <td>129</td>\n",
              "    </tr>\n",
              "    <tr>\n",
              "      <th>2012-12-19 23:00:00</th>\n",
              "      <td>hiver</td>\n",
              "      <td>0</td>\n",
              "      <td>1</td>\n",
              "      <td>degage_nuageux</td>\n",
              "      <td>13.12</td>\n",
              "      <td>16.665</td>\n",
              "      <td>66</td>\n",
              "      <td>8.9981</td>\n",
              "      <td>88</td>\n",
              "    </tr>\n",
              "  </tbody>\n",
              "</table>\n",
              "<p>10886 rows × 9 columns</p>\n",
              "</div>"
            ],
            "text/plain": [
              "                        season holiday workingday  ... humidity  windspeed  count\n",
              "datetime                                           ...                           \n",
              "2011-01-01 00:00:00  printemps       0          0  ...       81     0.0000     16\n",
              "2011-01-01 01:00:00  printemps       0          0  ...       80     0.0000     40\n",
              "2011-01-01 02:00:00  printemps       0          0  ...       80     0.0000     32\n",
              "2011-01-01 03:00:00  printemps       0          0  ...       75     0.0000     13\n",
              "2011-01-01 04:00:00  printemps       0          0  ...       75     0.0000      1\n",
              "...                        ...     ...        ...  ...      ...        ...    ...\n",
              "2012-12-19 19:00:00      hiver       0          1  ...       50    26.0027    336\n",
              "2012-12-19 20:00:00      hiver       0          1  ...       57    15.0013    241\n",
              "2012-12-19 21:00:00      hiver       0          1  ...       61    15.0013    168\n",
              "2012-12-19 22:00:00      hiver       0          1  ...       61     6.0032    129\n",
              "2012-12-19 23:00:00      hiver       0          1  ...       66     8.9981     88\n",
              "\n",
              "[10886 rows x 9 columns]"
            ]
          },
          "metadata": {
            "tags": []
          },
          "execution_count": 9
        }
      ]
    },
    {
      "cell_type": "markdown",
      "metadata": {
        "id": "l7kQSni23dad",
        "colab_type": "text"
      },
      "source": [
        "Affichage des types et du dataframe"
      ]
    },
    {
      "cell_type": "code",
      "metadata": {
        "id": "A9Qelako3c0t",
        "colab_type": "code",
        "outputId": "e5b21144-c81d-4cec-a126-c130801d1612",
        "colab": {
          "base_uri": "https://localhost:8080/",
          "height": 204
        }
      },
      "source": [
        "df.dtypes"
      ],
      "execution_count": 10,
      "outputs": [
        {
          "output_type": "execute_result",
          "data": {
            "text/plain": [
              "datetime      datetime64[ns]\n",
              "season              category\n",
              "holiday             category\n",
              "workingday          category\n",
              "weather             category\n",
              "temp                 float64\n",
              "atemp                float64\n",
              "humidity               int64\n",
              "windspeed            float64\n",
              "count                  int64\n",
              "dtype: object"
            ]
          },
          "metadata": {
            "tags": []
          },
          "execution_count": 10
        }
      ]
    },
    {
      "cell_type": "code",
      "metadata": {
        "id": "6wlfmXd-3k3j",
        "colab_type": "code",
        "outputId": "713597fc-7972-437f-bd33-ce5d7159567a",
        "colab": {
          "base_uri": "https://localhost:8080/",
          "height": 289
        }
      },
      "source": [
        "df.head()"
      ],
      "execution_count": 11,
      "outputs": [
        {
          "output_type": "execute_result",
          "data": {
            "text/html": [
              "<div>\n",
              "<style scoped>\n",
              "    .dataframe tbody tr th:only-of-type {\n",
              "        vertical-align: middle;\n",
              "    }\n",
              "\n",
              "    .dataframe tbody tr th {\n",
              "        vertical-align: top;\n",
              "    }\n",
              "\n",
              "    .dataframe thead th {\n",
              "        text-align: right;\n",
              "    }\n",
              "</style>\n",
              "<table border=\"1\" class=\"dataframe\">\n",
              "  <thead>\n",
              "    <tr style=\"text-align: right;\">\n",
              "      <th></th>\n",
              "      <th>datetime</th>\n",
              "      <th>season</th>\n",
              "      <th>holiday</th>\n",
              "      <th>workingday</th>\n",
              "      <th>weather</th>\n",
              "      <th>temp</th>\n",
              "      <th>atemp</th>\n",
              "      <th>humidity</th>\n",
              "      <th>windspeed</th>\n",
              "      <th>count</th>\n",
              "    </tr>\n",
              "  </thead>\n",
              "  <tbody>\n",
              "    <tr>\n",
              "      <th>0</th>\n",
              "      <td>2011-01-01 00:00:00</td>\n",
              "      <td>printemps</td>\n",
              "      <td>0</td>\n",
              "      <td>0</td>\n",
              "      <td>degage_nuageux</td>\n",
              "      <td>9.84</td>\n",
              "      <td>14.395</td>\n",
              "      <td>81</td>\n",
              "      <td>0.0</td>\n",
              "      <td>16</td>\n",
              "    </tr>\n",
              "    <tr>\n",
              "      <th>1</th>\n",
              "      <td>2011-01-01 01:00:00</td>\n",
              "      <td>printemps</td>\n",
              "      <td>0</td>\n",
              "      <td>0</td>\n",
              "      <td>degage_nuageux</td>\n",
              "      <td>9.02</td>\n",
              "      <td>13.635</td>\n",
              "      <td>80</td>\n",
              "      <td>0.0</td>\n",
              "      <td>40</td>\n",
              "    </tr>\n",
              "    <tr>\n",
              "      <th>2</th>\n",
              "      <td>2011-01-01 02:00:00</td>\n",
              "      <td>printemps</td>\n",
              "      <td>0</td>\n",
              "      <td>0</td>\n",
              "      <td>degage_nuageux</td>\n",
              "      <td>9.02</td>\n",
              "      <td>13.635</td>\n",
              "      <td>80</td>\n",
              "      <td>0.0</td>\n",
              "      <td>32</td>\n",
              "    </tr>\n",
              "    <tr>\n",
              "      <th>3</th>\n",
              "      <td>2011-01-01 03:00:00</td>\n",
              "      <td>printemps</td>\n",
              "      <td>0</td>\n",
              "      <td>0</td>\n",
              "      <td>degage_nuageux</td>\n",
              "      <td>9.84</td>\n",
              "      <td>14.395</td>\n",
              "      <td>75</td>\n",
              "      <td>0.0</td>\n",
              "      <td>13</td>\n",
              "    </tr>\n",
              "    <tr>\n",
              "      <th>4</th>\n",
              "      <td>2011-01-01 04:00:00</td>\n",
              "      <td>printemps</td>\n",
              "      <td>0</td>\n",
              "      <td>0</td>\n",
              "      <td>degage_nuageux</td>\n",
              "      <td>9.84</td>\n",
              "      <td>14.395</td>\n",
              "      <td>75</td>\n",
              "      <td>0.0</td>\n",
              "      <td>1</td>\n",
              "    </tr>\n",
              "  </tbody>\n",
              "</table>\n",
              "</div>"
            ],
            "text/plain": [
              "             datetime     season holiday  ... humidity windspeed  count\n",
              "0 2011-01-01 00:00:00  printemps       0  ...       81       0.0     16\n",
              "1 2011-01-01 01:00:00  printemps       0  ...       80       0.0     40\n",
              "2 2011-01-01 02:00:00  printemps       0  ...       80       0.0     32\n",
              "3 2011-01-01 03:00:00  printemps       0  ...       75       0.0     13\n",
              "4 2011-01-01 04:00:00  printemps       0  ...       75       0.0      1\n",
              "\n",
              "[5 rows x 10 columns]"
            ]
          },
          "metadata": {
            "tags": []
          },
          "execution_count": 11
        }
      ]
    },
    {
      "cell_type": "markdown",
      "metadata": {
        "id": "TNITaP3L4HKS",
        "colab_type": "text"
      },
      "source": [
        "# 3. Exploration des données"
      ]
    },
    {
      "cell_type": "markdown",
      "metadata": {
        "id": "z7g3hHq24JNi",
        "colab_type": "text"
      },
      "source": [
        "## Analyse numérique"
      ]
    },
    {
      "cell_type": "markdown",
      "metadata": {
        "id": "6zPsmC6I47WM",
        "colab_type": "text"
      },
      "source": [
        "Il y a 10886 données. On peut, pour chaque donnée numérique regarder la moyenne, l'écart type et les quartiles."
      ]
    },
    {
      "cell_type": "code",
      "metadata": {
        "id": "epkJhkPV41sf",
        "colab_type": "code",
        "outputId": "730f1d02-5d81-4875-ebf1-5b9cd390d14e",
        "colab": {
          "base_uri": "https://localhost:8080/",
          "height": 297
        }
      },
      "source": [
        "df.describe()"
      ],
      "execution_count": 12,
      "outputs": [
        {
          "output_type": "execute_result",
          "data": {
            "text/html": [
              "<div>\n",
              "<style scoped>\n",
              "    .dataframe tbody tr th:only-of-type {\n",
              "        vertical-align: middle;\n",
              "    }\n",
              "\n",
              "    .dataframe tbody tr th {\n",
              "        vertical-align: top;\n",
              "    }\n",
              "\n",
              "    .dataframe thead th {\n",
              "        text-align: right;\n",
              "    }\n",
              "</style>\n",
              "<table border=\"1\" class=\"dataframe\">\n",
              "  <thead>\n",
              "    <tr style=\"text-align: right;\">\n",
              "      <th></th>\n",
              "      <th>temp</th>\n",
              "      <th>atemp</th>\n",
              "      <th>humidity</th>\n",
              "      <th>windspeed</th>\n",
              "      <th>count</th>\n",
              "    </tr>\n",
              "  </thead>\n",
              "  <tbody>\n",
              "    <tr>\n",
              "      <th>count</th>\n",
              "      <td>10886.00000</td>\n",
              "      <td>10886.000000</td>\n",
              "      <td>10886.000000</td>\n",
              "      <td>10886.000000</td>\n",
              "      <td>10886.000000</td>\n",
              "    </tr>\n",
              "    <tr>\n",
              "      <th>mean</th>\n",
              "      <td>20.23086</td>\n",
              "      <td>23.655084</td>\n",
              "      <td>61.886460</td>\n",
              "      <td>12.799395</td>\n",
              "      <td>191.574132</td>\n",
              "    </tr>\n",
              "    <tr>\n",
              "      <th>std</th>\n",
              "      <td>7.79159</td>\n",
              "      <td>8.474601</td>\n",
              "      <td>19.245033</td>\n",
              "      <td>8.164537</td>\n",
              "      <td>181.144454</td>\n",
              "    </tr>\n",
              "    <tr>\n",
              "      <th>min</th>\n",
              "      <td>0.82000</td>\n",
              "      <td>0.760000</td>\n",
              "      <td>0.000000</td>\n",
              "      <td>0.000000</td>\n",
              "      <td>1.000000</td>\n",
              "    </tr>\n",
              "    <tr>\n",
              "      <th>25%</th>\n",
              "      <td>13.94000</td>\n",
              "      <td>16.665000</td>\n",
              "      <td>47.000000</td>\n",
              "      <td>7.001500</td>\n",
              "      <td>42.000000</td>\n",
              "    </tr>\n",
              "    <tr>\n",
              "      <th>50%</th>\n",
              "      <td>20.50000</td>\n",
              "      <td>24.240000</td>\n",
              "      <td>62.000000</td>\n",
              "      <td>12.998000</td>\n",
              "      <td>145.000000</td>\n",
              "    </tr>\n",
              "    <tr>\n",
              "      <th>75%</th>\n",
              "      <td>26.24000</td>\n",
              "      <td>31.060000</td>\n",
              "      <td>77.000000</td>\n",
              "      <td>16.997900</td>\n",
              "      <td>284.000000</td>\n",
              "    </tr>\n",
              "    <tr>\n",
              "      <th>max</th>\n",
              "      <td>41.00000</td>\n",
              "      <td>45.455000</td>\n",
              "      <td>100.000000</td>\n",
              "      <td>56.996900</td>\n",
              "      <td>977.000000</td>\n",
              "    </tr>\n",
              "  </tbody>\n",
              "</table>\n",
              "</div>"
            ],
            "text/plain": [
              "              temp         atemp      humidity     windspeed         count\n",
              "count  10886.00000  10886.000000  10886.000000  10886.000000  10886.000000\n",
              "mean      20.23086     23.655084     61.886460     12.799395    191.574132\n",
              "std        7.79159      8.474601     19.245033      8.164537    181.144454\n",
              "min        0.82000      0.760000      0.000000      0.000000      1.000000\n",
              "25%       13.94000     16.665000     47.000000      7.001500     42.000000\n",
              "50%       20.50000     24.240000     62.000000     12.998000    145.000000\n",
              "75%       26.24000     31.060000     77.000000     16.997900    284.000000\n",
              "max       41.00000     45.455000    100.000000     56.996900    977.000000"
            ]
          },
          "metadata": {
            "tags": []
          },
          "execution_count": 12
        }
      ]
    },
    {
      "cell_type": "markdown",
      "metadata": {
        "id": "pvDbZa1g64X5",
        "colab_type": "text"
      },
      "source": [
        "## Analyse univariée"
      ]
    },
    {
      "cell_type": "markdown",
      "metadata": {
        "id": "PUwauisk78t0",
        "colab_type": "text"
      },
      "source": [
        "### Variables numériques"
      ]
    },
    {
      "cell_type": "markdown",
      "metadata": {
        "id": "TRukCqDo7pDk",
        "colab_type": "text"
      },
      "source": [
        "Analyse de la répartition du nombre de location"
      ]
    },
    {
      "cell_type": "code",
      "metadata": {
        "id": "0rMHr9of5rge",
        "colab_type": "code",
        "outputId": "736812c9-6c38-441f-9d41-779f68d2e5af",
        "colab": {
          "base_uri": "https://localhost:8080/",
          "height": 1000
        }
      },
      "source": [
        "for colname, serie in df.iteritems():\n",
        "  if serie.dtype.name in ['float64', 'int64']:\n",
        "      serie.hist(bins=12)\n",
        "      plt.title=\" hist\"\n",
        "      plt.xlabel(colname)\n",
        "      plt.ylabel(\"Count\")\n",
        "      plt.show()"
      ],
      "execution_count": 13,
      "outputs": [
        {
          "output_type": "display_data",
          "data": {
            "image/png": "[encoded data removed]",
            "text/plain": [
              "<Figure size 432x288 with 1 Axes>"
            ]
          },
          "metadata": {
            "tags": []
          }
        },
        {
          "output_type": "display_data",
          "data": {
            "image/png": "[encoded data removed]",
            "text/plain": [
              "<Figure size 432x288 with 1 Axes>"
            ]
          },
          "metadata": {
            "tags": []
          }
        },
        {
          "output_type": "display_data",
          "data": {
            "image/png": "[encoded data removed]",
            "text/plain": [
              "<Figure size 432x288 with 1 Axes>"
            ]
          },
          "metadata": {
            "tags": []
          }
        },
        {
          "output_type": "display_data",
          "data": {
            "image/png": "[encoded data removed]",
            "text/plain": [
              "<Figure size 432x288 with 1 Axes>"
            ]
          },
          "metadata": {
            "tags": []
          }
        },
        {
          "output_type": "display_data",
          "data": {
            "image/png": "[encoded data removed]",
            "text/plain": [
              "<Figure size 432x288 with 1 Axes>"
            ]
          },
          "metadata": {
            "tags": []
          }
        }
      ]
    },
    {
      "cell_type": "markdown",
      "metadata": {
        "id": "zq8T_axs9XQb",
        "colab_type": "text"
      },
      "source": [
        "On remarque que les variables temp, atemp et humidity semblent suivrent une distribution gaussienne.\n",
        "\n",
        "La variable count semble suivre une loi exponentielle "
      ]
    },
    {
      "cell_type": "markdown",
      "metadata": {
        "id": "YbIHIkDZ91km",
        "colab_type": "text"
      },
      "source": [
        "### Variables catégorielles"
      ]
    },
    {
      "cell_type": "code",
      "metadata": {
        "id": "0q678aYb-Oi1",
        "colab_type": "code",
        "outputId": "686064e7-1beb-496f-a736-c7a6ed4c9544",
        "colab": {
          "base_uri": "https://localhost:8080/",
          "height": 425
        }
      },
      "source": [
        "for colname, serie in df.iteritems():\n",
        "    if serie.dtype.name in ['category']:\n",
        "      print(df.groupby(colname)[\"datetime\"].count(), \"\\n\")"
      ],
      "execution_count": 14,
      "outputs": [
        {
          "output_type": "stream",
          "text": [
            "season\n",
            "automne      2733\n",
            "ete          2733\n",
            "hiver        2734\n",
            "printemps    2686\n",
            "Name: datetime, dtype: int64 \n",
            "\n",
            "holiday\n",
            "0    10575\n",
            "1      311\n",
            "Name: datetime, dtype: int64 \n",
            "\n",
            "workingday\n",
            "0    3474\n",
            "1    7412\n",
            "Name: datetime, dtype: int64 \n",
            "\n",
            "weather\n",
            "brouillard             2834\n",
            "degage_nuageux         7192\n",
            "forte_averses_neige       1\n",
            "legere_pluie_neige      859\n",
            "Name: datetime, dtype: int64 \n",
            "\n"
          ],
          "name": "stdout"
        }
      ]
    },
    {
      "cell_type": "markdown",
      "metadata": {
        "id": "2piWAVI8GIm1",
        "colab_type": "text"
      },
      "source": [
        "On remarque que les données sont relativement bien réparties.\n",
        "\n",
        "Cependant, nous n'avons qu'une donnée pour la feature \"weather\" avec la modalité \"forte_averses_neige\".\n",
        "\n",
        "J'ai fait le choix de la remplacer par la modalité \"legere_pluie_neige\", pour limiter le nombre de modalité.\n"
      ]
    },
    {
      "cell_type": "code",
      "metadata": {
        "id": "BlA-VVmR6Odo",
        "colab_type": "code",
        "colab": {}
      },
      "source": [
        "df.weather.replace({\"forte_averses_neige\":\"legere_pluie_neige\"}, inplace=True)\n",
        "df.groupby(\"weather\")[\"datetime\"].count()\n",
        "df[\"weather\"] = pd.Categorical(df[\"weather\"], ordered=False)\n"
      ],
      "execution_count": 0,
      "outputs": []
    },
    {
      "cell_type": "markdown",
      "metadata": {
        "id": "AoG9c_GoSa48",
        "colab_type": "text"
      },
      "source": [
        "### Série temporelle & feature enginering\n",
        "\n",
        "\n"
      ]
    },
    {
      "cell_type": "markdown",
      "metadata": {
        "id": "LCs_PTaJShEw",
        "colab_type": "text"
      },
      "source": [
        "Les dates sont des attributs particuliers. Nous allons réaliser du feature engineering afin d'en extraire des informations intéressantes.\n",
        "\n",
        "Il y a 10886 valeurs uniques, comprises entre le 1er janvier 2011 à minuit et le 19 décembre 2012 à 23h."
      ]
    },
    {
      "cell_type": "code",
      "metadata": {
        "id": "f-ZNHSuiSfEa",
        "colab_type": "code",
        "outputId": "a8dbd12a-1c1d-4b30-c4b0-b5473b2d315c",
        "colab": {
          "base_uri": "https://localhost:8080/",
          "height": 136
        }
      },
      "source": [
        "df.datetime.describe()"
      ],
      "execution_count": 16,
      "outputs": [
        {
          "output_type": "execute_result",
          "data": {
            "text/plain": [
              "count                   10886\n",
              "unique                  10886\n",
              "top       2011-06-09 04:00:00\n",
              "freq                        1\n",
              "first     2011-01-01 00:00:00\n",
              "last      2012-12-19 23:00:00\n",
              "Name: datetime, dtype: object"
            ]
          },
          "metadata": {
            "tags": []
          },
          "execution_count": 16
        }
      ]
    },
    {
      "cell_type": "markdown",
      "metadata": {
        "id": "As28clLEmYQe",
        "colab_type": "text"
      },
      "source": [
        "On réalise du feature engineering pour calculer :\n",
        "* l'année\n",
        "* le mois\n",
        "* le jour de la semaine\n",
        "* le jour\n",
        "* l'heure\n",
        "* le timestamp\n"
      ]
    },
    {
      "cell_type": "code",
      "metadata": {
        "id": "ZkA-Lp3QOMbG",
        "colab_type": "code",
        "colab": {}
      },
      "source": [
        "# On garde l'année\n",
        "df['year'] = pd.DatetimeIndex(df['datetime']).year\n",
        "# On garde le mois de l'enregistrement\n",
        "df['month'] = pd.DatetimeIndex(df['datetime']).month\n",
        "# On garde le jour de l'enregistrement\n",
        "df['day'] = pd.DatetimeIndex(df['datetime']).day\n",
        "# On garde l'heure de l'enregistrement\n",
        "df['hour'] = pd.DatetimeIndex(df['datetime']).hour\n",
        "# On garde le jour de la semaine \n",
        "df['dayofweek'] = pd.DatetimeIndex(df['datetime']).dayofweek.map({0:\"lundi\", 1:\"mardi\", 2:\"mercredi\", 3:\"jeudi\", 4:\"vendredi\", 5:\"samedi\", 6:\"dimanche\"})\n",
        "\n",
        "# On garde le timestamp pour une notion de continuité d'une année sur l'autre\n",
        "df[\"timestamp\"] = df.datetime.values.astype(np.int64) // 10 ** 9 \n",
        "\n",
        "df[\"dayofweek\"] = pd.Categorical(df[\"dayofweek\"], ordered=True)\n",
        "df[\"hour\"] = pd.Categorical(df[\"hour\"], ordered=True)\n",
        "df[\"day\"] = pd.Categorical(df[\"day\"], ordered=True)\n",
        "df[\"month\"] = pd.Categorical(df[\"month\"], ordered=True)\n",
        "df[\"year\"] = pd.Categorical(df[\"year\"], ordered=True)\n",
        "\n"
      ],
      "execution_count": 0,
      "outputs": []
    },
    {
      "cell_type": "code",
      "metadata": {
        "id": "3khuNqT_kzX5",
        "colab_type": "code",
        "outputId": "9e2848f0-7a6f-46ee-aef9-b1e23f74f9e4",
        "colab": {
          "base_uri": "https://localhost:8080/",
          "height": 306
        }
      },
      "source": [
        "df.dtypes"
      ],
      "execution_count": 18,
      "outputs": [
        {
          "output_type": "execute_result",
          "data": {
            "text/plain": [
              "datetime      datetime64[ns]\n",
              "season              category\n",
              "holiday             category\n",
              "workingday          category\n",
              "weather             category\n",
              "temp                 float64\n",
              "atemp                float64\n",
              "humidity               int64\n",
              "windspeed            float64\n",
              "count                  int64\n",
              "year                category\n",
              "month               category\n",
              "day                 category\n",
              "hour                category\n",
              "dayofweek           category\n",
              "timestamp              int64\n",
              "dtype: object"
            ]
          },
          "metadata": {
            "tags": []
          },
          "execution_count": 18
        }
      ]
    },
    {
      "cell_type": "code",
      "metadata": {
        "id": "XGsnblOJks8Z",
        "colab_type": "code",
        "outputId": "b43a3d14-2e03-4049-a2ce-88fe3f936f53",
        "colab": {
          "base_uri": "https://localhost:8080/",
          "height": 394
        }
      },
      "source": [
        "df.tail()"
      ],
      "execution_count": 19,
      "outputs": [
        {
          "output_type": "execute_result",
          "data": {
            "text/html": [
              "<div>\n",
              "<style scoped>\n",
              "    .dataframe tbody tr th:only-of-type {\n",
              "        vertical-align: middle;\n",
              "    }\n",
              "\n",
              "    .dataframe tbody tr th {\n",
              "        vertical-align: top;\n",
              "    }\n",
              "\n",
              "    .dataframe thead th {\n",
              "        text-align: right;\n",
              "    }\n",
              "</style>\n",
              "<table border=\"1\" class=\"dataframe\">\n",
              "  <thead>\n",
              "    <tr style=\"text-align: right;\">\n",
              "      <th></th>\n",
              "      <th>datetime</th>\n",
              "      <th>season</th>\n",
              "      <th>holiday</th>\n",
              "      <th>workingday</th>\n",
              "      <th>weather</th>\n",
              "      <th>temp</th>\n",
              "      <th>atemp</th>\n",
              "      <th>humidity</th>\n",
              "      <th>windspeed</th>\n",
              "      <th>count</th>\n",
              "      <th>year</th>\n",
              "      <th>month</th>\n",
              "      <th>day</th>\n",
              "      <th>hour</th>\n",
              "      <th>dayofweek</th>\n",
              "      <th>timestamp</th>\n",
              "    </tr>\n",
              "  </thead>\n",
              "  <tbody>\n",
              "    <tr>\n",
              "      <th>10881</th>\n",
              "      <td>2012-12-19 19:00:00</td>\n",
              "      <td>hiver</td>\n",
              "      <td>0</td>\n",
              "      <td>1</td>\n",
              "      <td>degage_nuageux</td>\n",
              "      <td>15.58</td>\n",
              "      <td>19.695</td>\n",
              "      <td>50</td>\n",
              "      <td>26.0027</td>\n",
              "      <td>336</td>\n",
              "      <td>2012</td>\n",
              "      <td>12</td>\n",
              "      <td>19</td>\n",
              "      <td>19</td>\n",
              "      <td>mercredi</td>\n",
              "      <td>1355943600</td>\n",
              "    </tr>\n",
              "    <tr>\n",
              "      <th>10882</th>\n",
              "      <td>2012-12-19 20:00:00</td>\n",
              "      <td>hiver</td>\n",
              "      <td>0</td>\n",
              "      <td>1</td>\n",
              "      <td>degage_nuageux</td>\n",
              "      <td>14.76</td>\n",
              "      <td>17.425</td>\n",
              "      <td>57</td>\n",
              "      <td>15.0013</td>\n",
              "      <td>241</td>\n",
              "      <td>2012</td>\n",
              "      <td>12</td>\n",
              "      <td>19</td>\n",
              "      <td>20</td>\n",
              "      <td>mercredi</td>\n",
              "      <td>1355947200</td>\n",
              "    </tr>\n",
              "    <tr>\n",
              "      <th>10883</th>\n",
              "      <td>2012-12-19 21:00:00</td>\n",
              "      <td>hiver</td>\n",
              "      <td>0</td>\n",
              "      <td>1</td>\n",
              "      <td>degage_nuageux</td>\n",
              "      <td>13.94</td>\n",
              "      <td>15.910</td>\n",
              "      <td>61</td>\n",
              "      <td>15.0013</td>\n",
              "      <td>168</td>\n",
              "      <td>2012</td>\n",
              "      <td>12</td>\n",
              "      <td>19</td>\n",
              "      <td>21</td>\n",
              "      <td>mercredi</td>\n",
              "      <td>1355950800</td>\n",
              "    </tr>\n",
              "    <tr>\n",
              "      <th>10884</th>\n",
              "      <td>2012-12-19 22:00:00</td>\n",
              "      <td>hiver</td>\n",
              "      <td>0</td>\n",
              "      <td>1</td>\n",
              "      <td>degage_nuageux</td>\n",
              "      <td>13.94</td>\n",
              "      <td>17.425</td>\n",
              "      <td>61</td>\n",
              "      <td>6.0032</td>\n",
              "      <td>129</td>\n",
              "      <td>2012</td>\n",
              "      <td>12</td>\n",
              "      <td>19</td>\n",
              "      <td>22</td>\n",
              "      <td>mercredi</td>\n",
              "      <td>1355954400</td>\n",
              "    </tr>\n",
              "    <tr>\n",
              "      <th>10885</th>\n",
              "      <td>2012-12-19 23:00:00</td>\n",
              "      <td>hiver</td>\n",
              "      <td>0</td>\n",
              "      <td>1</td>\n",
              "      <td>degage_nuageux</td>\n",
              "      <td>13.12</td>\n",
              "      <td>16.665</td>\n",
              "      <td>66</td>\n",
              "      <td>8.9981</td>\n",
              "      <td>88</td>\n",
              "      <td>2012</td>\n",
              "      <td>12</td>\n",
              "      <td>19</td>\n",
              "      <td>23</td>\n",
              "      <td>mercredi</td>\n",
              "      <td>1355958000</td>\n",
              "    </tr>\n",
              "  </tbody>\n",
              "</table>\n",
              "</div>"
            ],
            "text/plain": [
              "                 datetime season holiday  ... hour dayofweek   timestamp\n",
              "10881 2012-12-19 19:00:00  hiver       0  ...   19  mercredi  1355943600\n",
              "10882 2012-12-19 20:00:00  hiver       0  ...   20  mercredi  1355947200\n",
              "10883 2012-12-19 21:00:00  hiver       0  ...   21  mercredi  1355950800\n",
              "10884 2012-12-19 22:00:00  hiver       0  ...   22  mercredi  1355954400\n",
              "10885 2012-12-19 23:00:00  hiver       0  ...   23  mercredi  1355958000\n",
              "\n",
              "[5 rows x 16 columns]"
            ]
          },
          "metadata": {
            "tags": []
          },
          "execution_count": 19
        }
      ]
    },
    {
      "cell_type": "markdown",
      "metadata": {
        "id": "yDeOBb3tXzEh",
        "colab_type": "text"
      },
      "source": [
        "\n",
        "## Analyse bivariée"
      ]
    },
    {
      "cell_type": "markdown",
      "metadata": {
        "id": "rILMvb-neZH2",
        "colab_type": "text"
      },
      "source": [
        "### Analyse des jours fériés / jours travaillés\n",
        "\n",
        "On remarque que le fait que le jour soit férié n'a pas une importance capitale. Cependant, les jours non fériés sont les jours durant lesquels il y a le plus de location."
      ]
    },
    {
      "cell_type": "code",
      "metadata": {
        "id": "BDmANIWOnO6e",
        "colab_type": "code",
        "outputId": "b81be012-2377-4ed8-eaf2-8365858e6c17",
        "colab": {
          "base_uri": "https://localhost:8080/",
          "height": 279
        }
      },
      "source": [
        "ax = sns.violinplot(x=\"holiday\", y=\"count\", data=df)\n",
        "\n",
        "plt.show()"
      ],
      "execution_count": 20,
      "outputs": [
        {
          "output_type": "display_data",
          "data": {
            "image/png": "[encoded data removed]",
            "text/plain": [
              "<Figure size 432x288 with 1 Axes>"
            ]
          },
          "metadata": {
            "tags": []
          }
        }
      ]
    },
    {
      "cell_type": "markdown",
      "metadata": {
        "id": "kXQ3RiF0jtYS",
        "colab_type": "text"
      },
      "source": [
        "Etrangement le 1er janvier n'est pas considéré comme un jour ferié et le 17 novembre est un jour ferié. Il convidendrait de vérifier plus en détail la veracité des données pour cette feature\n",
        "\n",
        "Après vérification deux jours fériés sont le 4 juillet 2011 et le 17 janvier, ce qui correspond respectivement à l'independance day et MLK day aux USA"
      ]
    },
    {
      "cell_type": "code",
      "metadata": {
        "id": "lJxqzzfZh9pp",
        "colab_type": "code",
        "outputId": "31e6d1be-30f4-4131-c994-5cc5460bf24f",
        "colab": {
          "base_uri": "https://localhost:8080/",
          "height": 119
        }
      },
      "source": [
        "df[df['holiday']==1].datetime.head()"
      ],
      "execution_count": 21,
      "outputs": [
        {
          "output_type": "execute_result",
          "data": {
            "text/plain": [
              "372   2011-01-17 00:00:00\n",
              "373   2011-01-17 01:00:00\n",
              "374   2011-01-17 02:00:00\n",
              "375   2011-01-17 03:00:00\n",
              "376   2011-01-17 04:00:00\n",
              "Name: datetime, dtype: datetime64[ns]"
            ]
          },
          "metadata": {
            "tags": []
          },
          "execution_count": 21
        }
      ]
    },
    {
      "cell_type": "markdown",
      "metadata": {
        "id": "XIlyz3RQn7Sp",
        "colab_type": "text"
      },
      "source": [
        "Le fait que le jour soit travaillé n'a pas de grande importance. On remarque cependant plus d'outliers sur les jours qui sont travaillés"
      ]
    },
    {
      "cell_type": "code",
      "metadata": {
        "id": "deaI4a9Ldxdx",
        "colab_type": "code",
        "outputId": "9a098679-34dc-4fc1-e56e-7e88e64e9b82",
        "colab": {
          "base_uri": "https://localhost:8080/",
          "height": 295
        }
      },
      "source": [
        "ax = sns.boxplot(x=\"workingday\", y=\"count\", data=df)\n",
        "ax.set_title(\"Boxplot du nombre de location en fonction des jours travaillés\")\n",
        "plt.show()"
      ],
      "execution_count": 22,
      "outputs": [
        {
          "output_type": "display_data",
          "data": {
            "image/png": "[encoded data removed]",
            "text/plain": [
              "<Figure size 432x288 with 1 Axes>"
            ]
          },
          "metadata": {
            "tags": []
          }
        }
      ]
    },
    {
      "cell_type": "markdown",
      "metadata": {
        "id": "XmNE8RWTy4I6",
        "colab_type": "text"
      },
      "source": [
        "Le jour de la semaine n'a pas d'importance significative sur la cible."
      ]
    },
    {
      "cell_type": "code",
      "metadata": {
        "id": "TiOtN-GByjRP",
        "colab_type": "code",
        "outputId": "6e36903f-7b28-4ba8-d8c8-d872655f6a6f",
        "colab": {
          "base_uri": "https://localhost:8080/",
          "height": 295
        }
      },
      "source": [
        "ax = sns.boxplot(x=\"dayofweek\", y=\"count\", data=df)\n",
        "ax.set_title(\"Boxplot du nombre de location en fonction des jours travaillés\")\n",
        "plt.show()"
      ],
      "execution_count": 23,
      "outputs": [
        {
          "output_type": "display_data",
          "data": {
            "image/png": "[encoded data removed]",
            "text/plain": [
              "<Figure size 432x288 with 1 Axes>"
            ]
          },
          "metadata": {
            "tags": []
          }
        }
      ]
    },
    {
      "cell_type": "markdown",
      "metadata": {
        "id": "NV31DAQVpX-H",
        "colab_type": "text"
      },
      "source": [
        "### Analyse temporelle\n"
      ]
    },
    {
      "cell_type": "markdown",
      "metadata": {
        "id": "hAbRkx4idjga",
        "colab_type": "text"
      },
      "source": [
        "On remarque que la saison a une grande importance sur le nombre de vélos loués."
      ]
    },
    {
      "cell_type": "code",
      "metadata": {
        "id": "9gswnomcdPaW",
        "colab_type": "code",
        "outputId": "1cda3879-32fd-459c-89fb-6e13788d2484",
        "colab": {
          "base_uri": "https://localhost:8080/",
          "height": 295
        }
      },
      "source": [
        "ax = sns.barplot(x=\"season\", y=\"count\", data=df)\n",
        "ax.set_title(\"Nombres de locations par saison\")\n",
        "plt.show()"
      ],
      "execution_count": 24,
      "outputs": [
        {
          "output_type": "display_data",
          "data": {
            "image/png": "[encoded data removed]",
            "text/plain": [
              "<Figure size 432x288 with 1 Axes>"
            ]
          },
          "metadata": {
            "tags": []
          }
        }
      ]
    },
    {
      "cell_type": "markdown",
      "metadata": {
        "id": "TPwH5JRnevPi",
        "colab_type": "text"
      },
      "source": [
        "On remarque l'importance particulièrement élevé des mois sur les ventes.\n",
        "\n",
        "Cette variable semble plus significative que la saison. Il conviendra peut-être de dropper la saison."
      ]
    },
    {
      "cell_type": "code",
      "metadata": {
        "id": "KdmyNu7kevtQ",
        "colab_type": "code",
        "outputId": "c5730847-03c6-485d-da0b-da35a64a9cf7",
        "colab": {
          "base_uri": "https://localhost:8080/",
          "height": 295
        }
      },
      "source": [
        "ax = sns.barplot(x=\"month\", y=\"count\", data=df)\n",
        "ax.set_title(\"Nombres de locations par mois\")\n",
        "plt.show()"
      ],
      "execution_count": 25,
      "outputs": [
        {
          "output_type": "display_data",
          "data": {
            "image/png": "[encoded data removed]",
            "text/plain": [
              "<Figure size 432x288 with 1 Axes>"
            ]
          },
          "metadata": {
            "tags": []
          }
        }
      ]
    },
    {
      "cell_type": "markdown",
      "metadata": {
        "id": "ZLSXAsCSj-3v",
        "colab_type": "text"
      },
      "source": [
        "L'heure a une grande importance sur le nombre de locations"
      ]
    },
    {
      "cell_type": "code",
      "metadata": {
        "id": "1sfH-9Hbj_TA",
        "colab_type": "code",
        "outputId": "f91e5e91-1b65-4814-9374-99eba659e0fc",
        "colab": {
          "base_uri": "https://localhost:8080/",
          "height": 295
        }
      },
      "source": [
        "ax = sns.barplot(x=\"hour\", y=\"count\", data=df)\n",
        "ax.set_title(\"Nombres de locations par heure\")\n",
        "plt.show()"
      ],
      "execution_count": 26,
      "outputs": [
        {
          "output_type": "display_data",
          "data": {
            "image/png": "[encoded data removed]",
            "text/plain": [
              "<Figure size 432x288 with 1 Axes>"
            ]
          },
          "metadata": {
            "tags": []
          }
        }
      ]
    },
    {
      "cell_type": "markdown",
      "metadata": {
        "id": "zk_yxKvNp4BQ",
        "colab_type": "text"
      },
      "source": [
        "Comme on pouvait le penser initalialement, le jour du mois n'est pas réélement significatif dans le nombre de vélos loués"
      ]
    },
    {
      "cell_type": "code",
      "metadata": {
        "id": "-cj1txyYkaD3",
        "colab_type": "code",
        "outputId": "8a2b0013-e4d8-4f96-caa9-fa5bbf5d370c",
        "colab": {
          "base_uri": "https://localhost:8080/",
          "height": 295
        }
      },
      "source": [
        "ax = sns.barplot(x=\"day\", y=\"count\", data=df)\n",
        "ax.set_title(\"Nombres de locations par jour\")\n",
        "plt.show()"
      ],
      "execution_count": 27,
      "outputs": [
        {
          "output_type": "display_data",
          "data": {
            "image/png": "[encoded data removed]",
            "text/plain": [
              "<Figure size 432x288 with 1 Axes>"
            ]
          },
          "metadata": {
            "tags": []
          }
        }
      ]
    },
    {
      "cell_type": "markdown",
      "metadata": {
        "id": "Iea-P5_5r8SU",
        "colab_type": "text"
      },
      "source": [
        "### Analyse de la météo"
      ]
    },
    {
      "cell_type": "markdown",
      "metadata": {
        "id": "9uy2fLfLsQPY",
        "colab_type": "text"
      },
      "source": [
        "On remarque que les locations augmentent en moyenne avec la température.\n",
        "\n",
        "Cependant, après un certain seuil de température, le nombre de location semble diminuer"
      ]
    },
    {
      "cell_type": "code",
      "metadata": {
        "id": "bFxg0unHr7Z3",
        "colab_type": "code",
        "outputId": "5fb8f2f9-bb50-44ef-ce65-03f3240b8175",
        "colab": {
          "base_uri": "https://localhost:8080/",
          "height": 279
        }
      },
      "source": [
        "ax = sns.barplot(x=\"temp\", y=\"count\", data=df)"
      ],
      "execution_count": 28,
      "outputs": [
        {
          "output_type": "display_data",
          "data": {
            "image/png": "[encoded data removed]",
            "text/plain": [
              "<Figure size 432x288 with 1 Axes>"
            ]
          },
          "metadata": {
            "tags": []
          }
        }
      ]
    },
    {
      "cell_type": "markdown",
      "metadata": {
        "id": "VtpvDmExujVm",
        "colab_type": "text"
      },
      "source": [
        "On remarque que l'humidité a une légère importance sur la cible"
      ]
    },
    {
      "cell_type": "code",
      "metadata": {
        "id": "d6ZptxL5qsps",
        "colab_type": "code",
        "outputId": "985e6aa0-8fa3-4fcb-ce25-dba200d4c250",
        "colab": {
          "base_uri": "https://localhost:8080/",
          "height": 279
        }
      },
      "source": [
        "ax = sns.barplot(x=\"humidity\", y=\"count\", data=df)"
      ],
      "execution_count": 29,
      "outputs": [
        {
          "output_type": "display_data",
          "data": {
            "image/png": "[encoded data removed]",
            "text/plain": [
              "<Figure size 432x288 with 1 Axes>"
            ]
          },
          "metadata": {
            "tags": []
          }
        }
      ]
    },
    {
      "cell_type": "markdown",
      "metadata": {
        "id": "d3f-BlB91bqm",
        "colab_type": "text"
      },
      "source": [
        "La vitesse du vent n'a pas d'influence aussi décisive sur le nombre de locations. "
      ]
    },
    {
      "cell_type": "code",
      "metadata": {
        "id": "dW_Wn3pT1KT2",
        "colab_type": "code",
        "outputId": "a862f945-6875-4d0e-b9ea-41ae74c440fc",
        "colab": {
          "base_uri": "https://localhost:8080/",
          "height": 279
        }
      },
      "source": [
        "ax = sns.barplot(x=\"windspeed\", y=\"count\", data=df)"
      ],
      "execution_count": 30,
      "outputs": [
        {
          "output_type": "display_data",
          "data": {
            "image/png": "[encoded data removed]",
            "text/plain": [
              "<Figure size 432x288 with 1 Axes>"
            ]
          },
          "metadata": {
            "tags": []
          }
        }
      ]
    },
    {
      "cell_type": "markdown",
      "metadata": {
        "id": "614-gowVo6jP",
        "colab_type": "text"
      },
      "source": [
        "## Analyse multivariée"
      ]
    },
    {
      "cell_type": "markdown",
      "metadata": {
        "id": "E24j76X-anh9",
        "colab_type": "text"
      },
      "source": [
        "### Correlations\n",
        "\n",
        "On remarque que la température réele et la température ressentie sont fortement corrélées."
      ]
    },
    {
      "cell_type": "code",
      "metadata": {
        "id": "kypmopiGZVqQ",
        "colab_type": "code",
        "outputId": "8dc0bac6-bc08-4cba-df47-8e0b8a5a6c5c",
        "colab": {
          "base_uri": "https://localhost:8080/",
          "height": 325
        }
      },
      "source": [
        "ax = sns.heatmap(df.corr(), cmap=\"YlOrRd\")\n",
        "ax.set_title(\"Corrélations des variables continues\")\n",
        "plt.show()"
      ],
      "execution_count": 31,
      "outputs": [
        {
          "output_type": "display_data",
          "data": {
            "image/png": "[encoded data removed]",
            "text/plain": [
              "<Figure size 432x288 with 2 Axes>"
            ]
          },
          "metadata": {
            "tags": []
          }
        }
      ]
    },
    {
      "cell_type": "code",
      "metadata": {
        "id": "BEXSDwU-cPFE",
        "colab_type": "code",
        "outputId": "71165599-3a6b-4739-fd32-424642cbca53",
        "colab": {
          "base_uri": "https://localhost:8080/",
          "height": 235
        }
      },
      "source": [
        "df.corr()"
      ],
      "execution_count": 32,
      "outputs": [
        {
          "output_type": "execute_result",
          "data": {
            "text/html": [
              "<div>\n",
              "<style scoped>\n",
              "    .dataframe tbody tr th:only-of-type {\n",
              "        vertical-align: middle;\n",
              "    }\n",
              "\n",
              "    .dataframe tbody tr th {\n",
              "        vertical-align: top;\n",
              "    }\n",
              "\n",
              "    .dataframe thead th {\n",
              "        text-align: right;\n",
              "    }\n",
              "</style>\n",
              "<table border=\"1\" class=\"dataframe\">\n",
              "  <thead>\n",
              "    <tr style=\"text-align: right;\">\n",
              "      <th></th>\n",
              "      <th>temp</th>\n",
              "      <th>atemp</th>\n",
              "      <th>humidity</th>\n",
              "      <th>windspeed</th>\n",
              "      <th>count</th>\n",
              "      <th>timestamp</th>\n",
              "    </tr>\n",
              "  </thead>\n",
              "  <tbody>\n",
              "    <tr>\n",
              "      <th>temp</th>\n",
              "      <td>1.000000</td>\n",
              "      <td>0.984948</td>\n",
              "      <td>-0.064949</td>\n",
              "      <td>-0.017852</td>\n",
              "      <td>0.394454</td>\n",
              "      <td>0.180986</td>\n",
              "    </tr>\n",
              "    <tr>\n",
              "      <th>atemp</th>\n",
              "      <td>0.984948</td>\n",
              "      <td>1.000000</td>\n",
              "      <td>-0.043536</td>\n",
              "      <td>-0.057473</td>\n",
              "      <td>0.389784</td>\n",
              "      <td>0.181823</td>\n",
              "    </tr>\n",
              "    <tr>\n",
              "      <th>humidity</th>\n",
              "      <td>-0.064949</td>\n",
              "      <td>-0.043536</td>\n",
              "      <td>1.000000</td>\n",
              "      <td>-0.318607</td>\n",
              "      <td>-0.317371</td>\n",
              "      <td>0.032856</td>\n",
              "    </tr>\n",
              "    <tr>\n",
              "      <th>windspeed</th>\n",
              "      <td>-0.017852</td>\n",
              "      <td>-0.057473</td>\n",
              "      <td>-0.318607</td>\n",
              "      <td>1.000000</td>\n",
              "      <td>0.101369</td>\n",
              "      <td>-0.086888</td>\n",
              "    </tr>\n",
              "    <tr>\n",
              "      <th>count</th>\n",
              "      <td>0.394454</td>\n",
              "      <td>0.389784</td>\n",
              "      <td>-0.317371</td>\n",
              "      <td>0.101369</td>\n",
              "      <td>1.000000</td>\n",
              "      <td>0.310187</td>\n",
              "    </tr>\n",
              "    <tr>\n",
              "      <th>timestamp</th>\n",
              "      <td>0.180986</td>\n",
              "      <td>0.181823</td>\n",
              "      <td>0.032856</td>\n",
              "      <td>-0.086888</td>\n",
              "      <td>0.310187</td>\n",
              "      <td>1.000000</td>\n",
              "    </tr>\n",
              "  </tbody>\n",
              "</table>\n",
              "</div>"
            ],
            "text/plain": [
              "               temp     atemp  humidity  windspeed     count  timestamp\n",
              "temp       1.000000  0.984948 -0.064949  -0.017852  0.394454   0.180986\n",
              "atemp      0.984948  1.000000 -0.043536  -0.057473  0.389784   0.181823\n",
              "humidity  -0.064949 -0.043536  1.000000  -0.318607 -0.317371   0.032856\n",
              "windspeed -0.017852 -0.057473 -0.318607   1.000000  0.101369  -0.086888\n",
              "count      0.394454  0.389784 -0.317371   0.101369  1.000000   0.310187\n",
              "timestamp  0.180986  0.181823  0.032856  -0.086888  0.310187   1.000000"
            ]
          },
          "metadata": {
            "tags": []
          },
          "execution_count": 32
        }
      ]
    },
    {
      "cell_type": "markdown",
      "metadata": {
        "id": "0Pr126nccTFp",
        "colab_type": "text"
      },
      "source": [
        "Une corrélation de 98.5 entre les deux variables est trop importante. On supprimera donc une des deux colonnes.\n",
        "\n",
        "Le choix se porte sur la température ressentie, qui est d'une certaine manière une fonction de la température rééele, du vent et de l'humidité."
      ]
    },
    {
      "cell_type": "code",
      "metadata": {
        "id": "8pL6qCkMcRQ3",
        "colab_type": "code",
        "colab": {}
      },
      "source": [
        "df.drop(\"atemp\",axis=1, inplace=True)"
      ],
      "execution_count": 0,
      "outputs": []
    },
    {
      "cell_type": "markdown",
      "metadata": {
        "id": "x9BLMhIwpzDO",
        "colab_type": "text"
      },
      "source": [
        "### Analyse multivariées\n"
      ]
    },
    {
      "cell_type": "markdown",
      "metadata": {
        "id": "Qpe7p3f2zsVL",
        "colab_type": "text"
      },
      "source": [
        "On remarque que la saisonalité est très similaire d'une année sur l'autre. \n",
        "Par contre, il semble qu'il y ai près de 2 fois plus de locations en 2012"
      ]
    },
    {
      "cell_type": "code",
      "metadata": {
        "id": "GM_0Vlwqp14Y",
        "colab_type": "code",
        "outputId": "336318a8-802a-4b3b-994c-8e33dac7a5a3",
        "colab": {
          "base_uri": "https://localhost:8080/",
          "height": 295
        }
      },
      "source": [
        "ax = sns.barplot(x=\"month\", y=\"count\", hue=\"year\", data=df)\n",
        "ax.set_title(\"Nombres de locations par saison\")\n",
        "plt.show()"
      ],
      "execution_count": 34,
      "outputs": [
        {
          "output_type": "display_data",
          "data": {
            "image/png": "[encoded data removed]",
            "text/plain": [
              "<Figure size 432x288 with 1 Axes>"
            ]
          },
          "metadata": {
            "tags": []
          }
        }
      ]
    },
    {
      "cell_type": "markdown",
      "metadata": {
        "id": "_WSK6AHVz7Lb",
        "colab_type": "text"
      },
      "source": [
        "La température et l'humidité ont une influence commune sur le nombre de locations. Globalement, plus il fait chaud, moins il fait humide et plus il y a de locations.\n",
        "\n",
        "Après un certain seuil de température cepedant, le nombre de locations tend à diminuer.\n",
        "\n",
        "Température, humidité et saison sont également très liés. Il est interessant de noter qu'il fait plus chaud en hiver qu'au printemps et plus froid en été qu'en automne.  "
      ]
    },
    {
      "cell_type": "code",
      "metadata": {
        "id": "Ll8oALTjq7VT",
        "colab_type": "code",
        "outputId": "32dba1b7-fbad-4deb-dd50-e5993d219e07",
        "colab": {
          "base_uri": "https://localhost:8080/",
          "height": 458
        }
      },
      "source": [
        "sns.relplot(x=\"temp\", y=\"humidity\", hue=\"season\", size=\"count\",\n",
        "            sizes=(1, 100), alpha=.5, palette=\"muted\",\n",
        "            height=6, data=df)\n",
        "plt.plot()"
      ],
      "execution_count": 35,
      "outputs": [
        {
          "output_type": "execute_result",
          "data": {
            "text/plain": [
              "[]"
            ]
          },
          "metadata": {
            "tags": []
          },
          "execution_count": 35
        },
        {
          "output_type": "display_data",
          "data": {
            "image/png": "[encoded data removed]",
            "text/plain": [
              "<Figure size 518.75x432 with 1 Axes>"
            ]
          },
          "metadata": {
            "tags": []
          }
        }
      ]
    },
    {
      "cell_type": "markdown",
      "metadata": {
        "id": "A3YPG9F__CUz",
        "colab_type": "text"
      },
      "source": [
        "# 4. Modeling "
      ]
    },
    {
      "cell_type": "markdown",
      "metadata": {
        "id": "XLrcbkNh_YbL",
        "colab_type": "text"
      },
      "source": [
        "## Preprocessing"
      ]
    },
    {
      "cell_type": "markdown",
      "metadata": {
        "id": "ASqpKtHlB9_a",
        "colab_type": "text"
      },
      "source": [
        "### Ajustement des variables"
      ]
    },
    {
      "cell_type": "markdown",
      "metadata": {
        "id": "vxQ3ROUK_gVX",
        "colab_type": "text"
      },
      "source": [
        "J'ai choisi de dropper la saison, car je la trouvais non significative en raison de la présence du mois. En effet, les dates de notre dataset allant de 1 à 19, la saison n'apporte pas plus d'information que le mois.\n",
        "\n",
        "J'ai également décidé de dropper la variable jour, qui n'apporte pas d'information spécifique"
      ]
    },
    {
      "cell_type": "code",
      "metadata": {
        "id": "NOM8TXg7AFqJ",
        "colab_type": "code",
        "colab": {}
      },
      "source": [
        "df = df.drop(\"season\", axis=1)\n",
        "df = df.drop(\"day\", axis=1)"
      ],
      "execution_count": 0,
      "outputs": []
    },
    {
      "cell_type": "code",
      "metadata": {
        "id": "wf4VTyDpAdCT",
        "colab_type": "code",
        "outputId": "ab4c48c5-14e3-41ee-d378-bb055bff5d91",
        "colab": {
          "base_uri": "https://localhost:8080/",
          "height": 255
        }
      },
      "source": [
        "df.dtypes"
      ],
      "execution_count": 37,
      "outputs": [
        {
          "output_type": "execute_result",
          "data": {
            "text/plain": [
              "datetime      datetime64[ns]\n",
              "holiday             category\n",
              "workingday          category\n",
              "weather             category\n",
              "temp                 float64\n",
              "humidity               int64\n",
              "windspeed            float64\n",
              "count                  int64\n",
              "year                category\n",
              "month               category\n",
              "hour                category\n",
              "dayofweek           category\n",
              "timestamp              int64\n",
              "dtype: object"
            ]
          },
          "metadata": {
            "tags": []
          },
          "execution_count": 37
        }
      ]
    },
    {
      "cell_type": "markdown",
      "metadata": {
        "id": "mPxUrjubBB9t",
        "colab_type": "text"
      },
      "source": [
        "Analyse du nombre de modalité des variables catégorielles. \n",
        "\n",
        "Le nombre n'étant pas trop élévé, on pourra one-hot-encoder les variables."
      ]
    },
    {
      "cell_type": "code",
      "metadata": {
        "id": "kDmBi3rMrE3d",
        "colab_type": "code",
        "outputId": "778a24fc-a7c4-4356-9606-3256ac19dcb5",
        "colab": {
          "base_uri": "https://localhost:8080/",
          "height": 153
        }
      },
      "source": [
        "categorical_features = df.columns[df.dtypes == \"category\"].tolist()\n",
        "print(df[categorical_features].nunique())"
      ],
      "execution_count": 38,
      "outputs": [
        {
          "output_type": "stream",
          "text": [
            "holiday        2\n",
            "workingday     2\n",
            "weather        3\n",
            "year           2\n",
            "month         12\n",
            "hour          24\n",
            "dayofweek      7\n",
            "dtype: int64\n"
          ],
          "name": "stdout"
        }
      ]
    },
    {
      "cell_type": "markdown",
      "metadata": {
        "id": "bAJPc1-SBaj6",
        "colab_type": "text"
      },
      "source": [
        "### Dummification / One hot encoding"
      ]
    },
    {
      "cell_type": "markdown",
      "metadata": {
        "id": "aMqNDNGtC5F6",
        "colab_type": "text"
      },
      "source": [
        "On dummifie de manière à obtenir un dataset"
      ]
    },
    {
      "cell_type": "code",
      "metadata": {
        "id": "z0GbpWJIB4KH",
        "colab_type": "code",
        "outputId": "0679c71e-f5b8-44c6-949e-1dbd817ea55d",
        "colab": {
          "base_uri": "https://localhost:8080/",
          "height": 918
        }
      },
      "source": [
        "df_dummies = pd.get_dummies(df[categorical_features], drop_first=True)\n",
        "# on concatène ensuite avec le dataset original\n",
        "df_final = pd.concat([df.drop(categorical_features, axis=1), df_dummies], axis=1)\n",
        "print(df_final.shape)\n",
        "print(df_final.dtypes)"
      ],
      "execution_count": 39,
      "outputs": [
        {
          "output_type": "stream",
          "text": [
            "(10886, 51)\n",
            "datetime                      datetime64[ns]\n",
            "temp                                 float64\n",
            "humidity                               int64\n",
            "windspeed                            float64\n",
            "count                                  int64\n",
            "timestamp                              int64\n",
            "holiday_1                              uint8\n",
            "workingday_1                           uint8\n",
            "weather_degage_nuageux                 uint8\n",
            "weather_legere_pluie_neige             uint8\n",
            "year_2012                              uint8\n",
            "month_2                                uint8\n",
            "month_3                                uint8\n",
            "month_4                                uint8\n",
            "month_5                                uint8\n",
            "month_6                                uint8\n",
            "month_7                                uint8\n",
            "month_8                                uint8\n",
            "month_9                                uint8\n",
            "month_10                               uint8\n",
            "month_11                               uint8\n",
            "month_12                               uint8\n",
            "hour_1                                 uint8\n",
            "hour_2                                 uint8\n",
            "hour_3                                 uint8\n",
            "hour_4                                 uint8\n",
            "hour_5                                 uint8\n",
            "hour_6                                 uint8\n",
            "hour_7                                 uint8\n",
            "hour_8                                 uint8\n",
            "hour_9                                 uint8\n",
            "hour_10                                uint8\n",
            "hour_11                                uint8\n",
            "hour_12                                uint8\n",
            "hour_13                                uint8\n",
            "hour_14                                uint8\n",
            "hour_15                                uint8\n",
            "hour_16                                uint8\n",
            "hour_17                                uint8\n",
            "hour_18                                uint8\n",
            "hour_19                                uint8\n",
            "hour_20                                uint8\n",
            "hour_21                                uint8\n",
            "hour_22                                uint8\n",
            "hour_23                                uint8\n",
            "dayofweek_jeudi                        uint8\n",
            "dayofweek_lundi                        uint8\n",
            "dayofweek_mardi                        uint8\n",
            "dayofweek_mercredi                     uint8\n",
            "dayofweek_samedi                       uint8\n",
            "dayofweek_vendredi                     uint8\n",
            "dtype: object\n"
          ],
          "name": "stdout"
        }
      ]
    },
    {
      "cell_type": "markdown",
      "metadata": {
        "id": "fXwGY8HqDS1f",
        "colab_type": "text"
      },
      "source": [
        "### Séparation"
      ]
    },
    {
      "cell_type": "code",
      "metadata": {
        "id": "pG0YlL9aCXxa",
        "colab_type": "code",
        "outputId": "bf7f24cb-3e66-414a-8578-ec0c70014f68",
        "colab": {
          "base_uri": "https://localhost:8080/",
          "height": 224
        }
      },
      "source": [
        "y = df_final.pop('count')\n",
        "X = df_final.drop(\"datetime\", axis=1)\n",
        "X.head()"
      ],
      "execution_count": 40,
      "outputs": [
        {
          "output_type": "execute_result",
          "data": {
            "text/html": [
              "<div>\n",
              "<style scoped>\n",
              "    .dataframe tbody tr th:only-of-type {\n",
              "        vertical-align: middle;\n",
              "    }\n",
              "\n",
              "    .dataframe tbody tr th {\n",
              "        vertical-align: top;\n",
              "    }\n",
              "\n",
              "    .dataframe thead th {\n",
              "        text-align: right;\n",
              "    }\n",
              "</style>\n",
              "<table border=\"1\" class=\"dataframe\">\n",
              "  <thead>\n",
              "    <tr style=\"text-align: right;\">\n",
              "      <th></th>\n",
              "      <th>temp</th>\n",
              "      <th>humidity</th>\n",
              "      <th>windspeed</th>\n",
              "      <th>timestamp</th>\n",
              "      <th>holiday_1</th>\n",
              "      <th>workingday_1</th>\n",
              "      <th>weather_degage_nuageux</th>\n",
              "      <th>weather_legere_pluie_neige</th>\n",
              "      <th>year_2012</th>\n",
              "      <th>month_2</th>\n",
              "      <th>month_3</th>\n",
              "      <th>month_4</th>\n",
              "      <th>month_5</th>\n",
              "      <th>month_6</th>\n",
              "      <th>month_7</th>\n",
              "      <th>month_8</th>\n",
              "      <th>month_9</th>\n",
              "      <th>month_10</th>\n",
              "      <th>month_11</th>\n",
              "      <th>month_12</th>\n",
              "      <th>hour_1</th>\n",
              "      <th>hour_2</th>\n",
              "      <th>hour_3</th>\n",
              "      <th>hour_4</th>\n",
              "      <th>hour_5</th>\n",
              "      <th>hour_6</th>\n",
              "      <th>hour_7</th>\n",
              "      <th>hour_8</th>\n",
              "      <th>hour_9</th>\n",
              "      <th>hour_10</th>\n",
              "      <th>hour_11</th>\n",
              "      <th>hour_12</th>\n",
              "      <th>hour_13</th>\n",
              "      <th>hour_14</th>\n",
              "      <th>hour_15</th>\n",
              "      <th>hour_16</th>\n",
              "      <th>hour_17</th>\n",
              "      <th>hour_18</th>\n",
              "      <th>hour_19</th>\n",
              "      <th>hour_20</th>\n",
              "      <th>hour_21</th>\n",
              "      <th>hour_22</th>\n",
              "      <th>hour_23</th>\n",
              "      <th>dayofweek_jeudi</th>\n",
              "      <th>dayofweek_lundi</th>\n",
              "      <th>dayofweek_mardi</th>\n",
              "      <th>dayofweek_mercredi</th>\n",
              "      <th>dayofweek_samedi</th>\n",
              "      <th>dayofweek_vendredi</th>\n",
              "    </tr>\n",
              "  </thead>\n",
              "  <tbody>\n",
              "    <tr>\n",
              "      <th>0</th>\n",
              "      <td>9.84</td>\n",
              "      <td>81</td>\n",
              "      <td>0.0</td>\n",
              "      <td>1293840000</td>\n",
              "      <td>0</td>\n",
              "      <td>0</td>\n",
              "      <td>1</td>\n",
              "      <td>0</td>\n",
              "      <td>0</td>\n",
              "      <td>0</td>\n",
              "      <td>0</td>\n",
              "      <td>0</td>\n",
              "      <td>0</td>\n",
              "      <td>0</td>\n",
              "      <td>0</td>\n",
              "      <td>0</td>\n",
              "      <td>0</td>\n",
              "      <td>0</td>\n",
              "      <td>0</td>\n",
              "      <td>0</td>\n",
              "      <td>0</td>\n",
              "      <td>0</td>\n",
              "      <td>0</td>\n",
              "      <td>0</td>\n",
              "      <td>0</td>\n",
              "      <td>0</td>\n",
              "      <td>0</td>\n",
              "      <td>0</td>\n",
              "      <td>0</td>\n",
              "      <td>0</td>\n",
              "      <td>0</td>\n",
              "      <td>0</td>\n",
              "      <td>0</td>\n",
              "      <td>0</td>\n",
              "      <td>0</td>\n",
              "      <td>0</td>\n",
              "      <td>0</td>\n",
              "      <td>0</td>\n",
              "      <td>0</td>\n",
              "      <td>0</td>\n",
              "      <td>0</td>\n",
              "      <td>0</td>\n",
              "      <td>0</td>\n",
              "      <td>0</td>\n",
              "      <td>0</td>\n",
              "      <td>0</td>\n",
              "      <td>0</td>\n",
              "      <td>1</td>\n",
              "      <td>0</td>\n",
              "    </tr>\n",
              "    <tr>\n",
              "      <th>1</th>\n",
              "      <td>9.02</td>\n",
              "      <td>80</td>\n",
              "      <td>0.0</td>\n",
              "      <td>1293843600</td>\n",
              "      <td>0</td>\n",
              "      <td>0</td>\n",
              "      <td>1</td>\n",
              "      <td>0</td>\n",
              "      <td>0</td>\n",
              "      <td>0</td>\n",
              "      <td>0</td>\n",
              "      <td>0</td>\n",
              "      <td>0</td>\n",
              "      <td>0</td>\n",
              "      <td>0</td>\n",
              "      <td>0</td>\n",
              "      <td>0</td>\n",
              "      <td>0</td>\n",
              "      <td>0</td>\n",
              "      <td>0</td>\n",
              "      <td>1</td>\n",
              "      <td>0</td>\n",
              "      <td>0</td>\n",
              "      <td>0</td>\n",
              "      <td>0</td>\n",
              "      <td>0</td>\n",
              "      <td>0</td>\n",
              "      <td>0</td>\n",
              "      <td>0</td>\n",
              "      <td>0</td>\n",
              "      <td>0</td>\n",
              "      <td>0</td>\n",
              "      <td>0</td>\n",
              "      <td>0</td>\n",
              "      <td>0</td>\n",
              "      <td>0</td>\n",
              "      <td>0</td>\n",
              "      <td>0</td>\n",
              "      <td>0</td>\n",
              "      <td>0</td>\n",
              "      <td>0</td>\n",
              "      <td>0</td>\n",
              "      <td>0</td>\n",
              "      <td>0</td>\n",
              "      <td>0</td>\n",
              "      <td>0</td>\n",
              "      <td>0</td>\n",
              "      <td>1</td>\n",
              "      <td>0</td>\n",
              "    </tr>\n",
              "    <tr>\n",
              "      <th>2</th>\n",
              "      <td>9.02</td>\n",
              "      <td>80</td>\n",
              "      <td>0.0</td>\n",
              "      <td>1293847200</td>\n",
              "      <td>0</td>\n",
              "      <td>0</td>\n",
              "      <td>1</td>\n",
              "      <td>0</td>\n",
              "      <td>0</td>\n",
              "      <td>0</td>\n",
              "      <td>0</td>\n",
              "      <td>0</td>\n",
              "      <td>0</td>\n",
              "      <td>0</td>\n",
              "      <td>0</td>\n",
              "      <td>0</td>\n",
              "      <td>0</td>\n",
              "      <td>0</td>\n",
              "      <td>0</td>\n",
              "      <td>0</td>\n",
              "      <td>0</td>\n",
              "      <td>1</td>\n",
              "      <td>0</td>\n",
              "      <td>0</td>\n",
              "      <td>0</td>\n",
              "      <td>0</td>\n",
              "      <td>0</td>\n",
              "      <td>0</td>\n",
              "      <td>0</td>\n",
              "      <td>0</td>\n",
              "      <td>0</td>\n",
              "      <td>0</td>\n",
              "      <td>0</td>\n",
              "      <td>0</td>\n",
              "      <td>0</td>\n",
              "      <td>0</td>\n",
              "      <td>0</td>\n",
              "      <td>0</td>\n",
              "      <td>0</td>\n",
              "      <td>0</td>\n",
              "      <td>0</td>\n",
              "      <td>0</td>\n",
              "      <td>0</td>\n",
              "      <td>0</td>\n",
              "      <td>0</td>\n",
              "      <td>0</td>\n",
              "      <td>0</td>\n",
              "      <td>1</td>\n",
              "      <td>0</td>\n",
              "    </tr>\n",
              "    <tr>\n",
              "      <th>3</th>\n",
              "      <td>9.84</td>\n",
              "      <td>75</td>\n",
              "      <td>0.0</td>\n",
              "      <td>1293850800</td>\n",
              "      <td>0</td>\n",
              "      <td>0</td>\n",
              "      <td>1</td>\n",
              "      <td>0</td>\n",
              "      <td>0</td>\n",
              "      <td>0</td>\n",
              "      <td>0</td>\n",
              "      <td>0</td>\n",
              "      <td>0</td>\n",
              "      <td>0</td>\n",
              "      <td>0</td>\n",
              "      <td>0</td>\n",
              "      <td>0</td>\n",
              "      <td>0</td>\n",
              "      <td>0</td>\n",
              "      <td>0</td>\n",
              "      <td>0</td>\n",
              "      <td>0</td>\n",
              "      <td>1</td>\n",
              "      <td>0</td>\n",
              "      <td>0</td>\n",
              "      <td>0</td>\n",
              "      <td>0</td>\n",
              "      <td>0</td>\n",
              "      <td>0</td>\n",
              "      <td>0</td>\n",
              "      <td>0</td>\n",
              "      <td>0</td>\n",
              "      <td>0</td>\n",
              "      <td>0</td>\n",
              "      <td>0</td>\n",
              "      <td>0</td>\n",
              "      <td>0</td>\n",
              "      <td>0</td>\n",
              "      <td>0</td>\n",
              "      <td>0</td>\n",
              "      <td>0</td>\n",
              "      <td>0</td>\n",
              "      <td>0</td>\n",
              "      <td>0</td>\n",
              "      <td>0</td>\n",
              "      <td>0</td>\n",
              "      <td>0</td>\n",
              "      <td>1</td>\n",
              "      <td>0</td>\n",
              "    </tr>\n",
              "    <tr>\n",
              "      <th>4</th>\n",
              "      <td>9.84</td>\n",
              "      <td>75</td>\n",
              "      <td>0.0</td>\n",
              "      <td>1293854400</td>\n",
              "      <td>0</td>\n",
              "      <td>0</td>\n",
              "      <td>1</td>\n",
              "      <td>0</td>\n",
              "      <td>0</td>\n",
              "      <td>0</td>\n",
              "      <td>0</td>\n",
              "      <td>0</td>\n",
              "      <td>0</td>\n",
              "      <td>0</td>\n",
              "      <td>0</td>\n",
              "      <td>0</td>\n",
              "      <td>0</td>\n",
              "      <td>0</td>\n",
              "      <td>0</td>\n",
              "      <td>0</td>\n",
              "      <td>0</td>\n",
              "      <td>0</td>\n",
              "      <td>0</td>\n",
              "      <td>1</td>\n",
              "      <td>0</td>\n",
              "      <td>0</td>\n",
              "      <td>0</td>\n",
              "      <td>0</td>\n",
              "      <td>0</td>\n",
              "      <td>0</td>\n",
              "      <td>0</td>\n",
              "      <td>0</td>\n",
              "      <td>0</td>\n",
              "      <td>0</td>\n",
              "      <td>0</td>\n",
              "      <td>0</td>\n",
              "      <td>0</td>\n",
              "      <td>0</td>\n",
              "      <td>0</td>\n",
              "      <td>0</td>\n",
              "      <td>0</td>\n",
              "      <td>0</td>\n",
              "      <td>0</td>\n",
              "      <td>0</td>\n",
              "      <td>0</td>\n",
              "      <td>0</td>\n",
              "      <td>0</td>\n",
              "      <td>1</td>\n",
              "      <td>0</td>\n",
              "    </tr>\n",
              "  </tbody>\n",
              "</table>\n",
              "</div>"
            ],
            "text/plain": [
              "   temp  humidity  ...  dayofweek_samedi  dayofweek_vendredi\n",
              "0  9.84        81  ...                 1                   0\n",
              "1  9.02        80  ...                 1                   0\n",
              "2  9.02        80  ...                 1                   0\n",
              "3  9.84        75  ...                 1                   0\n",
              "4  9.84        75  ...                 1                   0\n",
              "\n",
              "[5 rows x 49 columns]"
            ]
          },
          "metadata": {
            "tags": []
          },
          "execution_count": 40
        }
      ]
    },
    {
      "cell_type": "code",
      "metadata": {
        "id": "2LSa2gWgDjrd",
        "colab_type": "code",
        "outputId": "23131981-c92f-44ea-c3fc-98be1b2aa6ac",
        "colab": {
          "base_uri": "https://localhost:8080/",
          "height": 119
        }
      },
      "source": [
        "y.head()"
      ],
      "execution_count": 41,
      "outputs": [
        {
          "output_type": "execute_result",
          "data": {
            "text/plain": [
              "0    16\n",
              "1    40\n",
              "2    32\n",
              "3    13\n",
              "4     1\n",
              "Name: count, dtype: int64"
            ]
          },
          "metadata": {
            "tags": []
          },
          "execution_count": 41
        }
      ]
    },
    {
      "cell_type": "markdown",
      "metadata": {
        "id": "ZkzapxS6T9DO",
        "colab_type": "text"
      },
      "source": [
        "On vérifie qu'il n'y a pas de valeur manquantes"
      ]
    },
    {
      "cell_type": "code",
      "metadata": {
        "id": "RtW9ppabDsuQ",
        "colab_type": "code",
        "outputId": "19162949-b8fc-498d-a173-08f68907836d",
        "colab": {
          "base_uri": "https://localhost:8080/",
          "height": 34
        }
      },
      "source": [
        "print(X.isna().sum().sum() == 0)"
      ],
      "execution_count": 42,
      "outputs": [
        {
          "output_type": "stream",
          "text": [
            "True\n"
          ],
          "name": "stdout"
        }
      ]
    },
    {
      "cell_type": "markdown",
      "metadata": {
        "id": "fa6t7SQypR2F",
        "colab_type": "text"
      },
      "source": [
        "Séparation train / test"
      ]
    },
    {
      "cell_type": "code",
      "metadata": {
        "id": "4trjWRfupW21",
        "colab_type": "code",
        "outputId": "9a47d5aa-10a7-4773-e65b-0074dfc9017b",
        "colab": {
          "base_uri": "https://localhost:8080/",
          "height": 85
        }
      },
      "source": [
        "from sklearn.model_selection import train_test_split\n",
        "X_train, X_test, y_train, y_test = train_test_split(X, y, test_size=0.2, random_state=777)\n",
        "print(f\"X train shape  {X_train.shape}\")\n",
        "print(f\"y train shape  {y_train.shape}\")\n",
        "print(f\"X test shape  {X_test.shape}\")\n",
        "print(f\"y test shape  {y_test.shape}\")"
      ],
      "execution_count": 43,
      "outputs": [
        {
          "output_type": "stream",
          "text": [
            "X train shape  (8708, 49)\n",
            "y train shape  (8708,)\n",
            "X test shape  (2178, 49)\n",
            "y test shape  (2178,)\n"
          ],
          "name": "stdout"
        }
      ]
    },
    {
      "cell_type": "markdown",
      "metadata": {
        "id": "U6y6zJ9Kpb8K",
        "colab_type": "text"
      },
      "source": [
        "### Standardisation\n",
        "J'ai retiré la standardisation du prétraitement des données car elle rendait les paramètres de la régression linéaire incompréhensible"
      ]
    },
    {
      "cell_type": "code",
      "metadata": {
        "id": "ZLQRxgfKpdzO",
        "colab_type": "code",
        "colab": {}
      },
      "source": [
        "# from sklearn.preprocessing import StandardScaler\n",
        "# imp = StandardScaler()\n",
        "\n",
        "# X_train = imp.fit_transform(X_train)\n",
        "# X_test = imp.transform(X_test)\n"
      ],
      "execution_count": 0,
      "outputs": []
    },
    {
      "cell_type": "markdown",
      "metadata": {
        "id": "m7Xz681yqYI7",
        "colab_type": "text"
      },
      "source": [
        "## Regression linéaire\n"
      ]
    },
    {
      "cell_type": "markdown",
      "metadata": {
        "id": "8IrcuvPwMIQu",
        "colab_type": "text"
      },
      "source": [
        "### Construction du modèle"
      ]
    },
    {
      "cell_type": "code",
      "metadata": {
        "id": "9J4pZO2Uqc2z",
        "colab_type": "code",
        "colab": {}
      },
      "source": [
        "from sklearn import datasets, linear_model\n",
        "from sklearn.metrics import mean_squared_error, r2_score\n",
        "\n",
        "regr = linear_model.LinearRegression(normalize=False)\n",
        "regr.fit(X_train, y_train)\n",
        "\n",
        "y_pred = regr.predict(X_test)\n",
        "y_predtrain = regr.predict(X_train)"
      ],
      "execution_count": 0,
      "outputs": []
    },
    {
      "cell_type": "markdown",
      "metadata": {
        "id": "YCY3Kno8MFm9",
        "colab_type": "text"
      },
      "source": [
        "### Analyse des résultats\n",
        "La Mean Squared Error sur le jeu de test est de 10442, ce qui donne une erreur moyenne de 100 pour chaque prédiction.\n",
        "Le coefficient de determination r2 dont la valeur vaut 0.7 indique que le modèle ne colle pas très bien aux données"
      ]
    },
    {
      "cell_type": "code",
      "metadata": {
        "id": "0And6sGhCUV5",
        "colab_type": "code",
        "outputId": "5965f3ad-54eb-46b1-8f05-248396dd067a",
        "colab": {
          "base_uri": "https://localhost:8080/",
          "height": 85
        }
      },
      "source": [
        "print(f\"Mean squared error on test : {mean_squared_error(y_test, y_pred)}\")\n",
        "print(f\"Mean squared error on train: {mean_squared_error(y_train, y_predtrain)}\")\n",
        "print('r2_score score: %.2f on test' % r2_score(y_test, y_pred))\n",
        "print('r2_score score: %.2f on train' % r2_score(y_train, y_predtrain))"
      ],
      "execution_count": 45,
      "outputs": [
        {
          "output_type": "stream",
          "text": [
            "Mean squared error on test : 10442.573152089572\n",
            "Mean squared error on train: 9929.658814499955\n",
            "r2_score score: 0.69 on test\n",
            "r2_score score: 0.70 on train\n"
          ],
          "name": "stdout"
        }
      ]
    },
    {
      "cell_type": "markdown",
      "metadata": {
        "id": "BU3WbH0ZL9x5",
        "colab_type": "text"
      },
      "source": [
        "### Analyse des  coefficients de la regression linéaire"
      ]
    },
    {
      "cell_type": "markdown",
      "metadata": {
        "id": "1uWKjZ9s90Hh",
        "colab_type": "text"
      },
      "source": [
        "Les coefficients de la régression linéaire donne du sens au modèle : \n",
        "* temp=5 : plus la température augmente, plus il y a de location\n",
        "* humidity=-0.78 : plus l'humidité augmente, moins il y a de locations.\n",
        "* Les coefficient des heures collent avec les données visualisées précédement"
      ]
    },
    {
      "cell_type": "code",
      "metadata": {
        "id": "hqII0pItDxvH",
        "colab_type": "code",
        "outputId": "081be494-a47d-47d9-852d-c171dc623623",
        "colab": {
          "base_uri": "https://localhost:8080/",
          "height": 850
        }
      },
      "source": [
        "for index, col in enumerate(X):\n",
        "  print(index, col, regr.coef_[index])"
      ],
      "execution_count": 46,
      "outputs": [
        {
          "output_type": "stream",
          "text": [
            "0 temp 5.039459308593245\n",
            "1 humidity -0.7838253896020376\n",
            "2 windspeed -0.6246655814836574\n",
            "3 timestamp 4.46008372810801e-06\n",
            "4 holiday_1 4.262949808131022\n",
            "5 workingday_1 7.266992860509763\n",
            "6 weather_degage_nuageux 10.885765212646376\n",
            "7 weather_legere_pluie_neige -54.95501315707943\n",
            "8 year_2012 -53.00774662468775\n",
            "9 month_2 2.5628939499183914\n",
            "10 month_3 11.480991876426879\n",
            "11 month_4 22.886160998605078\n",
            "12 month_5 36.88901932854951\n",
            "13 month_6 14.132626638314258\n",
            "14 month_7 -29.078617250117993\n",
            "15 month_8 -29.249271267772585\n",
            "16 month_9 -17.59255940147708\n",
            "17 month_10 -3.6141178741065945\n",
            "18 month_11 -35.82703587589588\n",
            "19 month_12 -46.923406103279\n",
            "20 hour_1 -17.683906765928228\n",
            "21 hour_2 -30.813544125305633\n",
            "22 hour_3 -38.717183048157544\n",
            "23 hour_4 -40.84018508116969\n",
            "24 hour_5 -25.85785823211406\n",
            "25 hour_6 37.08015096971303\n",
            "26 hour_7 169.0408072523036\n",
            "27 hour_8 311.5502313432751\n",
            "28 hour_9 164.92100575123965\n",
            "29 hour_10 110.73160269678691\n",
            "30 hour_11 133.6836929425176\n",
            "31 hour_12 178.76725106172984\n",
            "32 hour_13 175.26557645800102\n",
            "33 hour_14 154.9152630771091\n",
            "34 hour_15 170.1604080650571\n",
            "35 hour_16 230.64480761721023\n",
            "36 hour_17 381.90395943908624\n",
            "37 hour_18 355.156021772617\n",
            "38 hour_19 241.68579307731295\n",
            "39 hour_20 159.11332379349557\n",
            "40 hour_21 108.60011743052269\n",
            "41 hour_22 72.15964201501714\n",
            "42 hour_23 32.44196049202522\n",
            "43 dayofweek_jeudi 2.8956287722757867\n",
            "44 dayofweek_lundi -3.4624248245379925\n",
            "45 dayofweek_mardi 1.9625795292391053\n",
            "46 dayofweek_mercredi 2.313077040312645\n",
            "47 dayofweek_samedi 22.319294532445582\n",
            "48 dayofweek_vendredi 7.821082151634416\n"
          ],
          "name": "stdout"
        }
      ]
    },
    {
      "cell_type": "markdown",
      "metadata": {
        "id": "g04StcszTh5T",
        "colab_type": "text"
      },
      "source": [
        "Il semble qu'au vu des résultats, la régression linéaire ne soit pas adaptée (L'erreur moyenne est très importante). Ce modèle fournit cependant des indicateurs concernant l'impact des différentes features dans la prédiction. \n",
        "\n",
        "La régression ne permet pas de prendre en compte des événéments qui varient de manière cyclique au cours du temps."
      ]
    },
    {
      "cell_type": "markdown",
      "metadata": {
        "id": "LNveSVNfTW3I",
        "colab_type": "text"
      },
      "source": [
        "## Arbre de décision"
      ]
    },
    {
      "cell_type": "markdown",
      "metadata": {
        "id": "DLhLVmjCE8d7",
        "colab_type": "text"
      },
      "source": [
        "J'ai choisi une profondeur maximimum de 30. En effet, au delà, le modèle a tendance à sur-apprendre, mais les résultats sur le jeu de test ne changent pas. "
      ]
    },
    {
      "cell_type": "code",
      "metadata": {
        "id": "TPBokJJRUoGb",
        "colab_type": "code",
        "colab": {
          "base_uri": "https://localhost:8080/",
          "height": 68
        },
        "outputId": "f986d600-c3a3-4841-b246-eb865a6b3654"
      },
      "source": [
        "from sklearn.tree import DecisionTreeRegressor\n",
        "tree = DecisionTreeRegressor(max_depth=30)\n",
        "tree.fit(X_train, y_train)\n",
        "predictions = tree.predict(X_test)\n",
        "trainPredictions = tree.predict(X_train)\n",
        "\n",
        "\n",
        "print(f\"R2 score : {r2_score(predictions,y_test)}\")\n",
        "print(f\"Mean squared error on test: {mean_squared_error(predictions, y_test)}\")\n",
        "print(f\"Mean squared error on train: {mean_squared_error(trainPredictions, y_train)}\")"
      ],
      "execution_count": 47,
      "outputs": [
        {
          "output_type": "stream",
          "text": [
            "R2 score : 0.8490057118285289\n",
            "Mean squared error on test: 5137.656054508506\n",
            "Mean squared error on train: 62.22124694592554\n"
          ],
          "name": "stdout"
        }
      ]
    },
    {
      "cell_type": "markdown",
      "metadata": {
        "id": "RDrVn2LzEuLR",
        "colab_type": "text"
      },
      "source": [
        "Ce modèle est plus performant que la régression linéaire. Cependant, avec un arbre d'une profondeur de 30, le modèle obtenu est difficile à expliquer. \n",
        "\n",
        "On peut regarder l'importance des features au sein du modèle, comme présenté ci-dessous.\n"
      ]
    },
    {
      "cell_type": "code",
      "metadata": {
        "id": "Cw9GFNVjFxDF",
        "colab_type": "code",
        "colab": {
          "base_uri": "https://localhost:8080/",
          "height": 850
        },
        "outputId": "6ab2f156-12b8-46a7-d36d-2ee6991336bf"
      },
      "source": [
        "for index, col in enumerate(X):\n",
        "  print(index, col, tree.feature_importances_[index])"
      ],
      "execution_count": 48,
      "outputs": [
        {
          "output_type": "stream",
          "text": [
            "0 temp 0.09869755449168555\n",
            "1 humidity 0.09275028870170006\n",
            "2 windspeed 0.012305124430273134\n",
            "3 timestamp 0.16779082481145394\n",
            "4 holiday_1 0.00030233993634010484\n",
            "5 workingday_1 0.09615523475306266\n",
            "6 weather_degage_nuageux 0.00198011629769582\n",
            "7 weather_legere_pluie_neige 0.0070446315317273306\n",
            "8 year_2012 3.796546088910202e-05\n",
            "9 month_2 0.0004974789102296113\n",
            "10 month_3 0.00023910708885609564\n",
            "11 month_4 0.0006743398985735229\n",
            "12 month_5 0.0007586508314055395\n",
            "13 month_6 0.0018077694365998878\n",
            "14 month_7 0.001971905924620013\n",
            "15 month_8 0.0012403023143819371\n",
            "16 month_9 0.0006370536016552508\n",
            "17 month_10 0.0022894335776287283\n",
            "18 month_11 0.00031323201625375023\n",
            "19 month_12 0.0002316796370308792\n",
            "20 hour_1 0.020664882031218863\n",
            "21 hour_2 0.021047119305545127\n",
            "22 hour_3 0.018261744473214568\n",
            "23 hour_4 0.019084758346309807\n",
            "24 hour_5 0.018425603497487043\n",
            "25 hour_6 0.010079319975385774\n",
            "26 hour_7 0.013405267631816445\n",
            "27 hour_8 0.06595918468796776\n",
            "28 hour_9 0.009711381992533644\n",
            "29 hour_10 0.004666842185823687\n",
            "30 hour_11 0.004148515431468549\n",
            "31 hour_12 0.002467752933455482\n",
            "32 hour_13 0.003784557049898781\n",
            "33 hour_14 0.002637047974352602\n",
            "34 hour_15 0.0023367959593629116\n",
            "35 hour_16 0.014154706171516528\n",
            "36 hour_17 0.1078984418966297\n",
            "37 hour_18 0.09018705814441765\n",
            "38 hour_19 0.03787953762413242\n",
            "39 hour_20 0.008856076786209758\n",
            "40 hour_21 0.004082258212815532\n",
            "41 hour_22 0.004090283724008842\n",
            "42 hour_23 0.01099271117999927\n",
            "43 dayofweek_jeudi 0.001536898424237571\n",
            "44 dayofweek_lundi 0.0021270272000015206\n",
            "45 dayofweek_mardi 0.0013234383243183132\n",
            "46 dayofweek_mercredi 0.0011746002711098178\n",
            "47 dayofweek_samedi 0.006725060389406404\n",
            "48 dayofweek_vendredi 0.00456609452329275\n"
          ],
          "name": "stdout"
        }
      ]
    },
    {
      "cell_type": "markdown",
      "metadata": {
        "id": "SChS2R1EGULb",
        "colab_type": "text"
      },
      "source": [
        "On remarque que le timestamp a une importance significative sur le model. Les autres features, à l'exception de l'année n'apportent que peu d'information."
      ]
    },
    {
      "cell_type": "markdown",
      "metadata": {
        "id": "_hw-h8L9UpZ2",
        "colab_type": "text"
      },
      "source": [
        "## XGBoost"
      ]
    },
    {
      "cell_type": "code",
      "metadata": {
        "id": "57VlFlMrUu3z",
        "colab_type": "code",
        "colab": {
          "base_uri": "https://localhost:8080/",
          "height": 122
        },
        "outputId": "f0e67774-4519-4fa8-f78e-93f45e56010e"
      },
      "source": [
        "import xgboost\n",
        "\n",
        "xgb = xgboost.XGBRegressor(n_estimators=100, learning_rate=0.08, gamma=0, subsample=0.75,\n",
        "                           colsample_bytree=1, max_depth=7)\n",
        "xgb.fit(X_train,y_train)\n",
        "predictions = xgb.predict(X_test)\n",
        "print(f\"R2 score : {r2_score(predictions,y_test)}\")\n",
        "print(f\"Mean squared error on test: {mean_squared_error(predictions, y_test)}\")"
      ],
      "execution_count": 49,
      "outputs": [
        {
          "output_type": "stream",
          "text": [
            "[23:50:09] WARNING: /workspace/src/objective/regression_obj.cu:152: reg:linear is now deprecated in favor of reg:squarederror.\n"
          ],
          "name": "stdout"
        },
        {
          "output_type": "stream",
          "text": [
            "/usr/local/lib/python3.6/dist-packages/xgboost/core.py:587: FutureWarning: Series.base is deprecated and will be removed in a future version\n",
            "  if getattr(data, 'base', None) is not None and \\\n"
          ],
          "name": "stderr"
        },
        {
          "output_type": "stream",
          "text": [
            "R2 score : 0.9110164604522909\n",
            "Mean squared error on test: 2577.0178017265594\n"
          ],
          "name": "stdout"
        }
      ]
    },
    {
      "cell_type": "markdown",
      "metadata": {
        "id": "SYlYsR2FC22n",
        "colab_type": "text"
      },
      "source": [
        "Au vu des résultats obtenus, ce modèle est performant. Il garanti une erreur raisonablement faible et permet d'avoir un score élévé (0.91).\n",
        "\n",
        "On peut à nouveau regarder l'importance de chaque feature sur le modèle"
      ]
    },
    {
      "cell_type": "code",
      "metadata": {
        "id": "ky7szt09HJeH",
        "colab_type": "code",
        "colab": {
          "base_uri": "https://localhost:8080/",
          "height": 850
        },
        "outputId": "ffbba25f-92be-4d1c-8cc2-1520a246156c"
      },
      "source": [
        "for index, col in enumerate(X):\n",
        "  print(index, col, xgb.feature_importances_[index])"
      ],
      "execution_count": 50,
      "outputs": [
        {
          "output_type": "stream",
          "text": [
            "0 temp 0.009173659\n",
            "1 humidity 0.011748621\n",
            "2 windspeed 0.0009144888\n",
            "3 timestamp 0.010875616\n",
            "4 holiday_1 0.002051543\n",
            "5 workingday_1 0.019936474\n",
            "6 weather_degage_nuageux 0.00097021123\n",
            "7 weather_legere_pluie_neige 0.0039968207\n",
            "8 year_2012 0.0\n",
            "9 month_2 0.0003727286\n",
            "10 month_3 0.00048172547\n",
            "11 month_4 0.0012504327\n",
            "12 month_5 0.001981463\n",
            "13 month_6 0.0008480525\n",
            "14 month_7 0.0062100375\n",
            "15 month_8 0.001167072\n",
            "16 month_9 0.00090489106\n",
            "17 month_10 0.0019550517\n",
            "18 month_11 0.00077642617\n",
            "19 month_12 0.0019785755\n",
            "20 hour_1 0.06816016\n",
            "21 hour_2 0.06469462\n",
            "22 hour_3 0.079383396\n",
            "23 hour_4 0.08348291\n",
            "24 hour_5 0.06660425\n",
            "25 hour_6 0.029727181\n",
            "26 hour_7 0.024353534\n",
            "27 hour_8 0.07194971\n",
            "28 hour_9 0.01628077\n",
            "29 hour_10 0.005179769\n",
            "30 hour_11 0.011259262\n",
            "31 hour_12 0.021443924\n",
            "32 hour_13 0.018439582\n",
            "33 hour_14 0.013900194\n",
            "34 hour_15 0.012185737\n",
            "35 hour_16 0.03529095\n",
            "36 hour_17 0.097971424\n",
            "37 hour_18 0.08782672\n",
            "38 hour_19 0.045240115\n",
            "39 hour_20 0.014352749\n",
            "40 hour_21 0.004938695\n",
            "41 hour_22 0.0077463295\n",
            "42 hour_23 0.033387702\n",
            "43 dayofweek_jeudi 0.001064595\n",
            "44 dayofweek_lundi 0.0008543941\n",
            "45 dayofweek_mardi 0.00095369446\n",
            "46 dayofweek_mercredi 0.0009865905\n",
            "47 dayofweek_samedi 0.0027744384\n",
            "48 dayofweek_vendredi 0.0019727394\n"
          ],
          "name": "stdout"
        }
      ]
    },
    {
      "cell_type": "markdown",
      "metadata": {
        "id": "GnfNaI_VH-ve",
        "colab_type": "text"
      },
      "source": [
        "Ce modèle prend en compte les features de manière plus équilibrée que l'arbre de régression."
      ]
    },
    {
      "cell_type": "markdown",
      "metadata": {
        "id": "WvG-kkNaKLFy",
        "colab_type": "text"
      },
      "source": [
        "# 5. Conclusion"
      ]
    },
    {
      "cell_type": "markdown",
      "metadata": {
        "id": "cPoHcYfhKmGi",
        "colab_type": "text"
      },
      "source": [
        "Ce projet m'aura permis de me familiariser avec les librairies ```sklearn``` et ```seaborn```.\n",
        "\n",
        "J'ai pu réaliser une exploration de données, et tester différents modèles permettant d'effectuer des prédictions."
      ]
    }
  ]
}